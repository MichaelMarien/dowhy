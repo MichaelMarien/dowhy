{
 "cells": [
  {
   "cell_type": "markdown",
   "metadata": {},
   "source": [
    "# Demo for the DoWhy causal API\n",
    "We show a simple example of adding a causal extension to any dataframe. "
   ]
  },
  {
   "cell_type": "code",
   "execution_count": 1,
   "metadata": {
    "execution": {
     "iopub.execute_input": "2022-07-28T19:50:58.628640Z",
     "iopub.status.busy": "2022-07-28T19:50:58.628099Z",
     "iopub.status.idle": "2022-07-28T19:50:59.713025Z",
     "shell.execute_reply": "2022-07-28T19:50:59.712286Z"
    }
   },
   "outputs": [
    {
     "name": "stdout",
     "output_type": "stream",
     "text": [
      "keywords are unexpanded, not using\n"
     ]
    }
   ],
   "source": [
    "import dowhy.datasets\n",
    "import dowhy.api\n",
    "\n",
    "import numpy as np\n",
    "import pandas as pd\n",
    "\n",
    "from statsmodels.api import OLS"
   ]
  },
  {
   "cell_type": "code",
   "execution_count": 2,
   "metadata": {
    "execution": {
     "iopub.execute_input": "2022-07-28T19:50:59.716709Z",
     "iopub.status.busy": "2022-07-28T19:50:59.716071Z",
     "iopub.status.idle": "2022-07-28T19:50:59.761408Z",
     "shell.execute_reply": "2022-07-28T19:50:59.760855Z"
    }
   },
   "outputs": [
    {
     "data": {
      "text/html": [
       "<div>\n",
       "<style scoped>\n",
       "    .dataframe tbody tr th:only-of-type {\n",
       "        vertical-align: middle;\n",
       "    }\n",
       "\n",
       "    .dataframe tbody tr th {\n",
       "        vertical-align: top;\n",
       "    }\n",
       "\n",
       "    .dataframe thead th {\n",
       "        text-align: right;\n",
       "    }\n",
       "</style>\n",
       "<table border=\"1\" class=\"dataframe\">\n",
       "  <thead>\n",
       "    <tr style=\"text-align: right;\">\n",
       "      <th></th>\n",
       "      <th>W0</th>\n",
       "      <th>v0</th>\n",
       "      <th>y</th>\n",
       "    </tr>\n",
       "  </thead>\n",
       "  <tbody>\n",
       "    <tr>\n",
       "      <th>0</th>\n",
       "      <td>-0.387830</td>\n",
       "      <td>False</td>\n",
       "      <td>-2.384340</td>\n",
       "    </tr>\n",
       "    <tr>\n",
       "      <th>1</th>\n",
       "      <td>-0.954144</td>\n",
       "      <td>False</td>\n",
       "      <td>-0.603622</td>\n",
       "    </tr>\n",
       "    <tr>\n",
       "      <th>2</th>\n",
       "      <td>1.060158</td>\n",
       "      <td>True</td>\n",
       "      <td>6.159996</td>\n",
       "    </tr>\n",
       "    <tr>\n",
       "      <th>3</th>\n",
       "      <td>0.562880</td>\n",
       "      <td>True</td>\n",
       "      <td>5.084277</td>\n",
       "    </tr>\n",
       "    <tr>\n",
       "      <th>4</th>\n",
       "      <td>0.266384</td>\n",
       "      <td>True</td>\n",
       "      <td>6.226355</td>\n",
       "    </tr>\n",
       "    <tr>\n",
       "      <th>...</th>\n",
       "      <td>...</td>\n",
       "      <td>...</td>\n",
       "      <td>...</td>\n",
       "    </tr>\n",
       "    <tr>\n",
       "      <th>995</th>\n",
       "      <td>-0.712586</td>\n",
       "      <td>False</td>\n",
       "      <td>-2.522322</td>\n",
       "    </tr>\n",
       "    <tr>\n",
       "      <th>996</th>\n",
       "      <td>1.104714</td>\n",
       "      <td>True</td>\n",
       "      <td>6.664937</td>\n",
       "    </tr>\n",
       "    <tr>\n",
       "      <th>997</th>\n",
       "      <td>-1.450275</td>\n",
       "      <td>False</td>\n",
       "      <td>-3.058153</td>\n",
       "    </tr>\n",
       "    <tr>\n",
       "      <th>998</th>\n",
       "      <td>-0.204456</td>\n",
       "      <td>True</td>\n",
       "      <td>5.178846</td>\n",
       "    </tr>\n",
       "    <tr>\n",
       "      <th>999</th>\n",
       "      <td>-0.879942</td>\n",
       "      <td>False</td>\n",
       "      <td>-1.816551</td>\n",
       "    </tr>\n",
       "  </tbody>\n",
       "</table>\n",
       "<p>1000 rows × 3 columns</p>\n",
       "</div>"
      ],
      "text/plain": [
       "           W0     v0         y\n",
       "0   -0.387830  False -2.384340\n",
       "1   -0.954144  False -0.603622\n",
       "2    1.060158   True  6.159996\n",
       "3    0.562880   True  5.084277\n",
       "4    0.266384   True  6.226355\n",
       "..        ...    ...       ...\n",
       "995 -0.712586  False -2.522322\n",
       "996  1.104714   True  6.664937\n",
       "997 -1.450275  False -3.058153\n",
       "998 -0.204456   True  5.178846\n",
       "999 -0.879942  False -1.816551\n",
       "\n",
       "[1000 rows x 3 columns]"
      ]
     },
     "execution_count": 2,
     "metadata": {},
     "output_type": "execute_result"
    }
   ],
   "source": [
    "data = dowhy.datasets.linear_dataset(beta=5,\n",
    "        num_common_causes=1,\n",
    "        num_instruments = 0,\n",
    "        num_samples=1000,\n",
    "        treatment_is_binary=True)\n",
    "df = data['df']\n",
    "df['y'] = df['y'] + np.random.normal(size=len(df)) # Adding noise to data. Without noise, the variance in Y|X, Z is zero, and mcmc fails.\n",
    "#data['dot_graph'] = 'digraph { v ->y;X0-> v;X0-> y;}'\n",
    "\n",
    "treatment= data[\"treatment_name\"][0]\n",
    "outcome = data[\"outcome_name\"][0]\n",
    "common_cause = data[\"common_causes_names\"][0]\n",
    "df"
   ]
  },
  {
   "cell_type": "code",
   "execution_count": 3,
   "metadata": {
    "execution": {
     "iopub.execute_input": "2022-07-28T19:50:59.764494Z",
     "iopub.status.busy": "2022-07-28T19:50:59.764157Z",
     "iopub.status.idle": "2022-07-28T19:51:00.496861Z",
     "shell.execute_reply": "2022-07-28T19:51:00.496306Z"
    }
   },
   "outputs": [
    {
     "data": {
      "text/plain": [
       "<AxesSubplot:xlabel='v0'>"
      ]
     },
     "execution_count": 3,
     "metadata": {},
     "output_type": "execute_result"
    },
    {
     "data": {
      "image/png": "[encoded data removed]",
      "text/plain": [
       "<Figure size 432x288 with 1 Axes>"
      ]
     },
     "metadata": {
      "needs_background": "light"
     },
     "output_type": "display_data"
    }
   ],
   "source": [
    "# data['df'] is just a regular pandas.DataFrame\n",
    "df.causal.do(x=treatment,\n",
    "                     variable_types={treatment: 'b', outcome: 'c', common_cause: 'c'},\n",
    "                     outcome=outcome,\n",
    "                     common_causes=[common_cause],\n",
    "                     proceed_when_unidentifiable=True).groupby(treatment).mean().plot(y=outcome, kind='bar')"
   ]
  },
  {
   "cell_type": "code",
   "execution_count": 4,
   "metadata": {
    "execution": {
     "iopub.execute_input": "2022-07-28T19:51:00.499713Z",
     "iopub.status.busy": "2022-07-28T19:51:00.499167Z",
     "iopub.status.idle": "2022-07-28T19:51:00.585053Z",
     "shell.execute_reply": "2022-07-28T19:51:00.584521Z"
    }
   },
   "outputs": [
    {
     "data": {
      "text/plain": [
       "<AxesSubplot:xlabel='v0'>"
      ]
     },
     "execution_count": 4,
     "metadata": {},
     "output_type": "execute_result"
    },
    {
     "data": {
      "image/png": "[encoded data removed]",
      "text/plain": [
       "<Figure size 432x288 with 1 Axes>"
      ]
     },
     "metadata": {
      "needs_background": "light"
     },
     "output_type": "display_data"
    }
   ],
   "source": [
    "df.causal.do(x={treatment: 1}, \n",
    "              variable_types={treatment:'b', outcome: 'c', common_cause: 'c'}, \n",
    "              outcome=outcome,\n",
    "              method='weighting', \n",
    "              common_causes=[common_cause],\n",
    "              proceed_when_unidentifiable=True).groupby(treatment).mean().plot(y=outcome, kind='bar')"
   ]
  },
  {
   "cell_type": "code",
   "execution_count": 5,
   "metadata": {
    "execution": {
     "iopub.execute_input": "2022-07-28T19:51:00.587797Z",
     "iopub.status.busy": "2022-07-28T19:51:00.587372Z",
     "iopub.status.idle": "2022-07-28T19:51:00.617348Z",
     "shell.execute_reply": "2022-07-28T19:51:00.616838Z"
    }
   },
   "outputs": [],
   "source": [
    "cdf_1 = df.causal.do(x={treatment: 1}, \n",
    "              variable_types={treatment: 'b', outcome: 'c', common_cause: 'c'}, \n",
    "              outcome=outcome, \n",
    "              dot_graph=data['dot_graph'],\n",
    "              proceed_when_unidentifiable=True)\n",
    "\n",
    "cdf_0 = df.causal.do(x={treatment: 0}, \n",
    "              variable_types={treatment: 'b', outcome: 'c', common_cause: 'c'}, \n",
    "              outcome=outcome, \n",
    "              dot_graph=data['dot_graph'],\n",
    "              proceed_when_unidentifiable=True)\n"
   ]
  },
  {
   "cell_type": "code",
   "execution_count": 6,
   "metadata": {
    "execution": {
     "iopub.execute_input": "2022-07-28T19:51:00.620666Z",
     "iopub.status.busy": "2022-07-28T19:51:00.619577Z",
     "iopub.status.idle": "2022-07-28T19:51:00.631655Z",
     "shell.execute_reply": "2022-07-28T19:51:00.631117Z"
    },
    "scrolled": true
   },
   "outputs": [
    {
     "data": {
      "text/html": [
       "<div>\n",
       "<style scoped>\n",
       "    .dataframe tbody tr th:only-of-type {\n",
       "        vertical-align: middle;\n",
       "    }\n",
       "\n",
       "    .dataframe tbody tr th {\n",
       "        vertical-align: top;\n",
       "    }\n",
       "\n",
       "    .dataframe thead th {\n",
       "        text-align: right;\n",
       "    }\n",
       "</style>\n",
       "<table border=\"1\" class=\"dataframe\">\n",
       "  <thead>\n",
       "    <tr style=\"text-align: right;\">\n",
       "      <th></th>\n",
       "      <th>W0</th>\n",
       "      <th>v0</th>\n",
       "      <th>y</th>\n",
       "      <th>propensity_score</th>\n",
       "      <th>weight</th>\n",
       "    </tr>\n",
       "  </thead>\n",
       "  <tbody>\n",
       "    <tr>\n",
       "      <th>0</th>\n",
       "      <td>0.657508</td>\n",
       "      <td>False</td>\n",
       "      <td>1.054120</td>\n",
       "      <td>0.212788</td>\n",
       "      <td>4.699505</td>\n",
       "    </tr>\n",
       "    <tr>\n",
       "      <th>1</th>\n",
       "      <td>-0.070296</td>\n",
       "      <td>False</td>\n",
       "      <td>0.218704</td>\n",
       "      <td>0.532183</td>\n",
       "      <td>1.879054</td>\n",
       "    </tr>\n",
       "    <tr>\n",
       "      <th>2</th>\n",
       "      <td>0.646742</td>\n",
       "      <td>False</td>\n",
       "      <td>-0.469685</td>\n",
       "      <td>0.216371</td>\n",
       "      <td>4.621694</td>\n",
       "    </tr>\n",
       "    <tr>\n",
       "      <th>3</th>\n",
       "      <td>-1.898073</td>\n",
       "      <td>False</td>\n",
       "      <td>-4.614947</td>\n",
       "      <td>0.976752</td>\n",
       "      <td>1.023801</td>\n",
       "    </tr>\n",
       "    <tr>\n",
       "      <th>4</th>\n",
       "      <td>-0.251772</td>\n",
       "      <td>False</td>\n",
       "      <td>-1.696676</td>\n",
       "      <td>0.619458</td>\n",
       "      <td>1.614314</td>\n",
       "    </tr>\n",
       "    <tr>\n",
       "      <th>...</th>\n",
       "      <td>...</td>\n",
       "      <td>...</td>\n",
       "      <td>...</td>\n",
       "      <td>...</td>\n",
       "      <td>...</td>\n",
       "    </tr>\n",
       "    <tr>\n",
       "      <th>995</th>\n",
       "      <td>0.406099</td>\n",
       "      <td>False</td>\n",
       "      <td>0.329023</td>\n",
       "      <td>0.307513</td>\n",
       "      <td>3.251895</td>\n",
       "    </tr>\n",
       "    <tr>\n",
       "      <th>996</th>\n",
       "      <td>-0.878608</td>\n",
       "      <td>False</td>\n",
       "      <td>-2.552727</td>\n",
       "      <td>0.848770</td>\n",
       "      <td>1.178175</td>\n",
       "    </tr>\n",
       "    <tr>\n",
       "      <th>997</th>\n",
       "      <td>-2.324263</td>\n",
       "      <td>False</td>\n",
       "      <td>-3.282124</td>\n",
       "      <td>0.989845</td>\n",
       "      <td>1.010259</td>\n",
       "    </tr>\n",
       "    <tr>\n",
       "      <th>998</th>\n",
       "      <td>0.593348</td>\n",
       "      <td>False</td>\n",
       "      <td>2.084728</td>\n",
       "      <td>0.234781</td>\n",
       "      <td>4.259295</td>\n",
       "    </tr>\n",
       "    <tr>\n",
       "      <th>999</th>\n",
       "      <td>-0.116660</td>\n",
       "      <td>False</td>\n",
       "      <td>-0.671061</td>\n",
       "      <td>0.554893</td>\n",
       "      <td>1.802150</td>\n",
       "    </tr>\n",
       "  </tbody>\n",
       "</table>\n",
       "<p>1000 rows × 5 columns</p>\n",
       "</div>"
      ],
      "text/plain": [
       "           W0     v0         y  propensity_score    weight\n",
       "0    0.657508  False  1.054120          0.212788  4.699505\n",
       "1   -0.070296  False  0.218704          0.532183  1.879054\n",
       "2    0.646742  False -0.469685          0.216371  4.621694\n",
       "3   -1.898073  False -4.614947          0.976752  1.023801\n",
       "4   -0.251772  False -1.696676          0.619458  1.614314\n",
       "..        ...    ...       ...               ...       ...\n",
       "995  0.406099  False  0.329023          0.307513  3.251895\n",
       "996 -0.878608  False -2.552727          0.848770  1.178175\n",
       "997 -2.324263  False -3.282124          0.989845  1.010259\n",
       "998  0.593348  False  2.084728          0.234781  4.259295\n",
       "999 -0.116660  False -0.671061          0.554893  1.802150\n",
       "\n",
       "[1000 rows x 5 columns]"
      ]
     },
     "execution_count": 6,
     "metadata": {},
     "output_type": "execute_result"
    }
   ],
   "source": [
    "cdf_0"
   ]
  },
  {
   "cell_type": "code",
   "execution_count": 7,
   "metadata": {
    "execution": {
     "iopub.execute_input": "2022-07-28T19:51:00.634243Z",
     "iopub.status.busy": "2022-07-28T19:51:00.634036Z",
     "iopub.status.idle": "2022-07-28T19:51:00.645637Z",
     "shell.execute_reply": "2022-07-28T19:51:00.644680Z"
    }
   },
   "outputs": [
    {
     "data": {
      "text/html": [
       "<div>\n",
       "<style scoped>\n",
       "    .dataframe tbody tr th:only-of-type {\n",
       "        vertical-align: middle;\n",
       "    }\n",
       "\n",
       "    .dataframe tbody tr th {\n",
       "        vertical-align: top;\n",
       "    }\n",
       "\n",
       "    .dataframe thead th {\n",
       "        text-align: right;\n",
       "    }\n",
       "</style>\n",
       "<table border=\"1\" class=\"dataframe\">\n",
       "  <thead>\n",
       "    <tr style=\"text-align: right;\">\n",
       "      <th></th>\n",
       "      <th>W0</th>\n",
       "      <th>v0</th>\n",
       "      <th>y</th>\n",
       "      <th>propensity_score</th>\n",
       "      <th>weight</th>\n",
       "    </tr>\n",
       "  </thead>\n",
       "  <tbody>\n",
       "    <tr>\n",
       "      <th>0</th>\n",
       "      <td>0.192446</td>\n",
       "      <td>True</td>\n",
       "      <td>7.235607</td>\n",
       "      <td>0.596258</td>\n",
       "      <td>1.677127</td>\n",
       "    </tr>\n",
       "    <tr>\n",
       "      <th>1</th>\n",
       "      <td>1.729745</td>\n",
       "      <td>True</td>\n",
       "      <td>8.105612</td>\n",
       "      <td>0.968490</td>\n",
       "      <td>1.032536</td>\n",
       "    </tr>\n",
       "    <tr>\n",
       "      <th>2</th>\n",
       "      <td>0.423077</td>\n",
       "      <td>True</td>\n",
       "      <td>6.191915</td>\n",
       "      <td>0.699579</td>\n",
       "      <td>1.429430</td>\n",
       "    </tr>\n",
       "    <tr>\n",
       "      <th>3</th>\n",
       "      <td>0.600202</td>\n",
       "      <td>True</td>\n",
       "      <td>6.882376</td>\n",
       "      <td>0.767642</td>\n",
       "      <td>1.302690</td>\n",
       "    </tr>\n",
       "    <tr>\n",
       "      <th>4</th>\n",
       "      <td>0.824874</td>\n",
       "      <td>True</td>\n",
       "      <td>6.620500</td>\n",
       "      <td>0.837355</td>\n",
       "      <td>1.194237</td>\n",
       "    </tr>\n",
       "    <tr>\n",
       "      <th>...</th>\n",
       "      <td>...</td>\n",
       "      <td>...</td>\n",
       "      <td>...</td>\n",
       "      <td>...</td>\n",
       "      <td>...</td>\n",
       "    </tr>\n",
       "    <tr>\n",
       "      <th>995</th>\n",
       "      <td>1.593659</td>\n",
       "      <td>True</td>\n",
       "      <td>5.926406</td>\n",
       "      <td>0.959172</td>\n",
       "      <td>1.042566</td>\n",
       "    </tr>\n",
       "    <tr>\n",
       "      <th>996</th>\n",
       "      <td>-0.879425</td>\n",
       "      <td>True</td>\n",
       "      <td>3.220341</td>\n",
       "      <td>0.151023</td>\n",
       "      <td>6.621517</td>\n",
       "    </tr>\n",
       "    <tr>\n",
       "      <th>997</th>\n",
       "      <td>2.465324</td>\n",
       "      <td>True</td>\n",
       "      <td>10.859419</td>\n",
       "      <td>0.992444</td>\n",
       "      <td>1.007613</td>\n",
       "    </tr>\n",
       "    <tr>\n",
       "      <th>998</th>\n",
       "      <td>-1.151849</td>\n",
       "      <td>True</td>\n",
       "      <td>2.935731</td>\n",
       "      <td>0.094104</td>\n",
       "      <td>10.626557</td>\n",
       "    </tr>\n",
       "    <tr>\n",
       "      <th>999</th>\n",
       "      <td>0.282980</td>\n",
       "      <td>True</td>\n",
       "      <td>4.909443</td>\n",
       "      <td>0.638454</td>\n",
       "      <td>1.566282</td>\n",
       "    </tr>\n",
       "  </tbody>\n",
       "</table>\n",
       "<p>1000 rows × 5 columns</p>\n",
       "</div>"
      ],
      "text/plain": [
       "           W0    v0          y  propensity_score     weight\n",
       "0    0.192446  True   7.235607          0.596258   1.677127\n",
       "1    1.729745  True   8.105612          0.968490   1.032536\n",
       "2    0.423077  True   6.191915          0.699579   1.429430\n",
       "3    0.600202  True   6.882376          0.767642   1.302690\n",
       "4    0.824874  True   6.620500          0.837355   1.194237\n",
       "..        ...   ...        ...               ...        ...\n",
       "995  1.593659  True   5.926406          0.959172   1.042566\n",
       "996 -0.879425  True   3.220341          0.151023   6.621517\n",
       "997  2.465324  True  10.859419          0.992444   1.007613\n",
       "998 -1.151849  True   2.935731          0.094104  10.626557\n",
       "999  0.282980  True   4.909443          0.638454   1.566282\n",
       "\n",
       "[1000 rows x 5 columns]"
      ]
     },
     "execution_count": 7,
     "metadata": {},
     "output_type": "execute_result"
    }
   ],
   "source": [
    "cdf_1"
   ]
  },
  {
   "cell_type": "markdown",
   "metadata": {},
   "source": [
    "## Comparing the estimate to Linear Regression\n",
    "First, estimating the effect using the causal data frame, and the 95% confidence interval."
   ]
  },
  {
   "cell_type": "code",
   "execution_count": 8,
   "metadata": {
    "execution": {
     "iopub.execute_input": "2022-07-28T19:51:00.648176Z",
     "iopub.status.busy": "2022-07-28T19:51:00.647973Z",
     "iopub.status.idle": "2022-07-28T19:51:00.744772Z",
     "shell.execute_reply": "2022-07-28T19:51:00.744157Z"
    }
   },
   "outputs": [
    {
     "data": {
      "image/png": "[encoded data removed]",
      "text/latex": [
       "$\\displaystyle 5.26392498440475$"
      ],
      "text/plain": [
       "5.26392498440475"
      ]
     },
     "execution_count": 8,
     "metadata": {},
     "output_type": "execute_result"
    }
   ],
   "source": [
    "(cdf_1['y'] - cdf_0['y']).mean()"
   ]
  },
  {
   "cell_type": "code",
   "execution_count": 9,
   "metadata": {
    "execution": {
     "iopub.execute_input": "2022-07-28T19:51:00.747895Z",
     "iopub.status.busy": "2022-07-28T19:51:00.747550Z",
     "iopub.status.idle": "2022-07-28T19:51:00.772711Z",
     "shell.execute_reply": "2022-07-28T19:51:00.772146Z"
    }
   },
   "outputs": [
    {
     "data": {
      "image/png": "[encoded data removed]",
      "text/latex": [
       "$\\displaystyle 0.164483173880364$"
      ],
      "text/plain": [
       "0.16448317388036401"
      ]
     },
     "execution_count": 9,
     "metadata": {},
     "output_type": "execute_result"
    }
   ],
   "source": [
    "1.96*(cdf_1['y'] - cdf_0['y']).std() / np.sqrt(len(df))"
   ]
  },
  {
   "cell_type": "markdown",
   "metadata": {},
   "source": [
    "Comparing to the estimate from OLS."
   ]
  },
  {
   "cell_type": "code",
   "execution_count": 10,
   "metadata": {
    "execution": {
     "iopub.execute_input": "2022-07-28T19:51:00.775283Z",
     "iopub.status.busy": "2022-07-28T19:51:00.775077Z",
     "iopub.status.idle": "2022-07-28T19:51:00.789934Z",
     "shell.execute_reply": "2022-07-28T19:51:00.789385Z"
    }
   },
   "outputs": [
    {
     "data": {
      "text/html": [
       "<table class=\"simpletable\">\n",
       "<caption>OLS Regression Results</caption>\n",
       "<tr>\n",
       "  <th>Dep. Variable:</th>            <td>y</td>        <th>  R-squared (uncentered):</th>      <td>   0.959</td> \n",
       "</tr>\n",
       "<tr>\n",
       "  <th>Model:</th>                   <td>OLS</td>       <th>  Adj. R-squared (uncentered):</th> <td>   0.959</td> \n",
       "</tr>\n",
       "<tr>\n",
       "  <th>Method:</th>             <td>Least Squares</td>  <th>  F-statistic:       </th>          <td>1.181e+04</td>\n",
       "</tr>\n",
       "<tr>\n",
       "  <th>Date:</th>             <td>Thu, 28 Jul 2022</td> <th>  Prob (F-statistic):</th>           <td>  0.00</td>  \n",
       "</tr>\n",
       "<tr>\n",
       "  <th>Time:</th>                 <td>19:51:00</td>     <th>  Log-Likelihood:    </th>          <td> -1397.0</td> \n",
       "</tr>\n",
       "<tr>\n",
       "  <th>No. Observations:</th>      <td>  1000</td>      <th>  AIC:               </th>          <td>   2798.</td> \n",
       "</tr>\n",
       "<tr>\n",
       "  <th>Df Residuals:</th>          <td>   998</td>      <th>  BIC:               </th>          <td>   2808.</td> \n",
       "</tr>\n",
       "<tr>\n",
       "  <th>Df Model:</th>              <td>     2</td>      <th>                     </th>              <td> </td>    \n",
       "</tr>\n",
       "<tr>\n",
       "  <th>Covariance Type:</th>      <td>nonrobust</td>    <th>                     </th>              <td> </td>    \n",
       "</tr>\n",
       "</table>\n",
       "<table class=\"simpletable\">\n",
       "<tr>\n",
       "   <td></td>     <th>coef</th>     <th>std err</th>      <th>t</th>      <th>P>|t|</th>  <th>[0.025</th>    <th>0.975]</th>  \n",
       "</tr>\n",
       "<tr>\n",
       "  <th>x1</th> <td>    1.6597</td> <td>    0.034</td> <td>   48.134</td> <td> 0.000</td> <td>    1.592</td> <td>    1.727</td>\n",
       "</tr>\n",
       "<tr>\n",
       "  <th>x2</th> <td>    5.0147</td> <td>    0.049</td> <td>  102.260</td> <td> 0.000</td> <td>    4.918</td> <td>    5.111</td>\n",
       "</tr>\n",
       "</table>\n",
       "<table class=\"simpletable\">\n",
       "<tr>\n",
       "  <th>Omnibus:</th>       <td> 1.338</td> <th>  Durbin-Watson:     </th> <td>   1.963</td>\n",
       "</tr>\n",
       "<tr>\n",
       "  <th>Prob(Omnibus):</th> <td> 0.512</td> <th>  Jarque-Bera (JB):  </th> <td>   1.368</td>\n",
       "</tr>\n",
       "<tr>\n",
       "  <th>Skew:</th>          <td> 0.045</td> <th>  Prob(JB):          </th> <td>   0.504</td>\n",
       "</tr>\n",
       "<tr>\n",
       "  <th>Kurtosis:</th>      <td> 2.843</td> <th>  Cond. No.          </th> <td>    1.94</td>\n",
       "</tr>\n",
       "</table><br/><br/>Notes:<br/>[1] R² is computed without centering (uncentered) since the model does not contain a constant.<br/>[2] Standard Errors assume that the covariance matrix of the errors is correctly specified."
      ],
      "text/plain": [
       "<class 'statsmodels.iolib.summary.Summary'>\n",
       "\"\"\"\n",
       "                                 OLS Regression Results                                \n",
       "=======================================================================================\n",
       "Dep. Variable:                      y   R-squared (uncentered):                   0.959\n",
       "Model:                            OLS   Adj. R-squared (uncentered):              0.959\n",
       "Method:                 Least Squares   F-statistic:                          1.181e+04\n",
       "Date:                Thu, 28 Jul 2022   Prob (F-statistic):                        0.00\n",
       "Time:                        19:51:00   Log-Likelihood:                         -1397.0\n",
       "No. Observations:                1000   AIC:                                      2798.\n",
       "Df Residuals:                     998   BIC:                                      2808.\n",
       "Df Model:                           2                                                  \n",
       "Covariance Type:            nonrobust                                                  \n",
       "==============================================================================\n",
       "                 coef    std err          t      P>|t|      [0.025      0.975]\n",
       "------------------------------------------------------------------------------\n",
       "x1             1.6597      0.034     48.134      0.000       1.592       1.727\n",
       "x2             5.0147      0.049    102.260      0.000       4.918       5.111\n",
       "==============================================================================\n",
       "Omnibus:                        1.338   Durbin-Watson:                   1.963\n",
       "Prob(Omnibus):                  0.512   Jarque-Bera (JB):                1.368\n",
       "Skew:                           0.045   Prob(JB):                        0.504\n",
       "Kurtosis:                       2.843   Cond. No.                         1.94\n",
       "==============================================================================\n",
       "\n",
       "Notes:\n",
       "[1] R² is computed without centering (uncentered) since the model does not contain a constant.\n",
       "[2] Standard Errors assume that the covariance matrix of the errors is correctly specified.\n",
       "\"\"\""
      ]
     },
     "execution_count": 10,
     "metadata": {},
     "output_type": "execute_result"
    }
   ],
   "source": [
    "model = OLS(np.asarray(df[outcome]), np.asarray(df[[common_cause, treatment]], dtype=np.float64))\n",
    "result = model.fit()\n",
    "result.summary()"
   ]
  }
 ],
 "metadata": {
  "kernelspec": {
   "display_name": "Python 3",
   "language": "python",
   "name": "python3"
  },
  "language_info": {
   "codemirror_mode": {
    "name": "ipython",
    "version": 3
   },
   "file_extension": ".py",
   "mimetype": "text/x-python",
   "name": "python",
   "nbconvert_exporter": "python",
   "pygments_lexer": "ipython3",
   "version": "3.8.10"
  },
  "toc": {
   "base_numbering": 1,
   "nav_menu": {},
   "number_sections": false,
   "sideBar": true,
   "skip_h1_title": true,
   "title_cell": "Table of Contents",
   "title_sidebar": "Contents",
   "toc_cell": false,
   "toc_position": {},
   "toc_section_display": true,
   "toc_window_display": false
  }
 },
 "nbformat": 4,
 "nbformat_minor": 4
}
