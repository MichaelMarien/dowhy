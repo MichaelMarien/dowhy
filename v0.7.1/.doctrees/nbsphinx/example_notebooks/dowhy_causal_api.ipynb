{
 "cells": [
  {
   "cell_type": "markdown",
   "metadata": {},
   "source": [
    "# Demo for the DoWhy causal API\n",
    "We show a simple example of adding a causal extension to any dataframe. "
   ]
  },
  {
   "cell_type": "code",
   "execution_count": 1,
   "metadata": {
    "execution": {
     "iopub.execute_input": "2022-08-18T17:46:03.946573Z",
     "iopub.status.busy": "2022-08-18T17:46:03.946146Z",
     "iopub.status.idle": "2022-08-18T17:46:05.026704Z",
     "shell.execute_reply": "2022-08-18T17:46:05.026066Z"
    }
   },
   "outputs": [],
   "source": [
    "import dowhy.datasets\n",
    "import dowhy.api\n",
    "\n",
    "import numpy as np\n",
    "import pandas as pd\n",
    "\n",
    "from statsmodels.api import OLS"
   ]
  },
  {
   "cell_type": "code",
   "execution_count": 2,
   "metadata": {
    "execution": {
     "iopub.execute_input": "2022-08-18T17:46:05.030748Z",
     "iopub.status.busy": "2022-08-18T17:46:05.029837Z",
     "iopub.status.idle": "2022-08-18T17:46:05.070050Z",
     "shell.execute_reply": "2022-08-18T17:46:05.068828Z"
    }
   },
   "outputs": [
    {
     "data": {
      "text/html": [
       "<div>\n",
       "<style scoped>\n",
       "    .dataframe tbody tr th:only-of-type {\n",
       "        vertical-align: middle;\n",
       "    }\n",
       "\n",
       "    .dataframe tbody tr th {\n",
       "        vertical-align: top;\n",
       "    }\n",
       "\n",
       "    .dataframe thead th {\n",
       "        text-align: right;\n",
       "    }\n",
       "</style>\n",
       "<table border=\"1\" class=\"dataframe\">\n",
       "  <thead>\n",
       "    <tr style=\"text-align: right;\">\n",
       "      <th></th>\n",
       "      <th>W0</th>\n",
       "      <th>v0</th>\n",
       "      <th>y</th>\n",
       "    </tr>\n",
       "  </thead>\n",
       "  <tbody>\n",
       "    <tr>\n",
       "      <th>0</th>\n",
       "      <td>0.380547</td>\n",
       "      <td>True</td>\n",
       "      <td>4.882282</td>\n",
       "    </tr>\n",
       "    <tr>\n",
       "      <th>1</th>\n",
       "      <td>-0.104944</td>\n",
       "      <td>True</td>\n",
       "      <td>4.895574</td>\n",
       "    </tr>\n",
       "    <tr>\n",
       "      <th>2</th>\n",
       "      <td>-1.003072</td>\n",
       "      <td>True</td>\n",
       "      <td>3.393802</td>\n",
       "    </tr>\n",
       "    <tr>\n",
       "      <th>3</th>\n",
       "      <td>-0.478806</td>\n",
       "      <td>False</td>\n",
       "      <td>0.591752</td>\n",
       "    </tr>\n",
       "    <tr>\n",
       "      <th>4</th>\n",
       "      <td>-0.223874</td>\n",
       "      <td>True</td>\n",
       "      <td>6.198598</td>\n",
       "    </tr>\n",
       "    <tr>\n",
       "      <th>...</th>\n",
       "      <td>...</td>\n",
       "      <td>...</td>\n",
       "      <td>...</td>\n",
       "    </tr>\n",
       "    <tr>\n",
       "      <th>995</th>\n",
       "      <td>-1.992269</td>\n",
       "      <td>False</td>\n",
       "      <td>0.071315</td>\n",
       "    </tr>\n",
       "    <tr>\n",
       "      <th>996</th>\n",
       "      <td>0.093324</td>\n",
       "      <td>True</td>\n",
       "      <td>6.352915</td>\n",
       "    </tr>\n",
       "    <tr>\n",
       "      <th>997</th>\n",
       "      <td>1.112831</td>\n",
       "      <td>True</td>\n",
       "      <td>6.326246</td>\n",
       "    </tr>\n",
       "    <tr>\n",
       "      <th>998</th>\n",
       "      <td>1.041031</td>\n",
       "      <td>False</td>\n",
       "      <td>1.594677</td>\n",
       "    </tr>\n",
       "    <tr>\n",
       "      <th>999</th>\n",
       "      <td>0.169812</td>\n",
       "      <td>False</td>\n",
       "      <td>-0.324170</td>\n",
       "    </tr>\n",
       "  </tbody>\n",
       "</table>\n",
       "<p>1000 rows × 3 columns</p>\n",
       "</div>"
      ],
      "text/plain": [
       "           W0     v0         y\n",
       "0    0.380547   True  4.882282\n",
       "1   -0.104944   True  4.895574\n",
       "2   -1.003072   True  3.393802\n",
       "3   -0.478806  False  0.591752\n",
       "4   -0.223874   True  6.198598\n",
       "..        ...    ...       ...\n",
       "995 -1.992269  False  0.071315\n",
       "996  0.093324   True  6.352915\n",
       "997  1.112831   True  6.326246\n",
       "998  1.041031  False  1.594677\n",
       "999  0.169812  False -0.324170\n",
       "\n",
       "[1000 rows x 3 columns]"
      ]
     },
     "execution_count": 2,
     "metadata": {},
     "output_type": "execute_result"
    }
   ],
   "source": [
    "data = dowhy.datasets.linear_dataset(beta=5,\n",
    "        num_common_causes=1,\n",
    "        num_instruments = 0,\n",
    "        num_samples=1000,\n",
    "        treatment_is_binary=True)\n",
    "df = data['df']\n",
    "df['y'] = df['y'] + np.random.normal(size=len(df)) # Adding noise to data. Without noise, the variance in Y|X, Z is zero, and mcmc fails.\n",
    "#data['dot_graph'] = 'digraph { v ->y;X0-> v;X0-> y;}'\n",
    "\n",
    "treatment= data[\"treatment_name\"][0]\n",
    "outcome = data[\"outcome_name\"][0]\n",
    "common_cause = data[\"common_causes_names\"][0]\n",
    "df"
   ]
  },
  {
   "cell_type": "code",
   "execution_count": 3,
   "metadata": {
    "execution": {
     "iopub.execute_input": "2022-08-18T17:46:05.073073Z",
     "iopub.status.busy": "2022-08-18T17:46:05.072637Z",
     "iopub.status.idle": "2022-08-18T17:46:05.816130Z",
     "shell.execute_reply": "2022-08-18T17:46:05.815513Z"
    }
   },
   "outputs": [
    {
     "data": {
      "text/plain": [
       "<AxesSubplot:xlabel='v0'>"
      ]
     },
     "execution_count": 3,
     "metadata": {},
     "output_type": "execute_result"
    },
    {
     "data": {
      "image/png": "[encoded data removed]",
      "text/plain": [
       "<Figure size 432x288 with 1 Axes>"
      ]
     },
     "metadata": {
      "needs_background": "light"
     },
     "output_type": "display_data"
    }
   ],
   "source": [
    "# data['df'] is just a regular pandas.DataFrame\n",
    "df.causal.do(x=treatment,\n",
    "                     variable_types={treatment: 'b', outcome: 'c', common_cause: 'c'},\n",
    "                     outcome=outcome,\n",
    "                     common_causes=[common_cause],\n",
    "                     proceed_when_unidentifiable=True).groupby(treatment).mean().plot(y=outcome, kind='bar')"
   ]
  },
  {
   "cell_type": "code",
   "execution_count": 4,
   "metadata": {
    "execution": {
     "iopub.execute_input": "2022-08-18T17:46:05.819059Z",
     "iopub.status.busy": "2022-08-18T17:46:05.818499Z",
     "iopub.status.idle": "2022-08-18T17:46:05.922333Z",
     "shell.execute_reply": "2022-08-18T17:46:05.921810Z"
    }
   },
   "outputs": [
    {
     "data": {
      "text/plain": [
       "<AxesSubplot:xlabel='v0'>"
      ]
     },
     "execution_count": 4,
     "metadata": {},
     "output_type": "execute_result"
    },
    {
     "data": {
      "image/png": "[encoded data removed]",
      "text/plain": [
       "<Figure size 432x288 with 1 Axes>"
      ]
     },
     "metadata": {
      "needs_background": "light"
     },
     "output_type": "display_data"
    }
   ],
   "source": [
    "df.causal.do(x={treatment: 1}, \n",
    "              variable_types={treatment:'b', outcome: 'c', common_cause: 'c'}, \n",
    "              outcome=outcome,\n",
    "              method='weighting', \n",
    "              common_causes=[common_cause],\n",
    "              proceed_when_unidentifiable=True).groupby(treatment).mean().plot(y=outcome, kind='bar')"
   ]
  },
  {
   "cell_type": "code",
   "execution_count": 5,
   "metadata": {
    "execution": {
     "iopub.execute_input": "2022-08-18T17:46:05.925320Z",
     "iopub.status.busy": "2022-08-18T17:46:05.924671Z",
     "iopub.status.idle": "2022-08-18T17:46:05.955282Z",
     "shell.execute_reply": "2022-08-18T17:46:05.954648Z"
    }
   },
   "outputs": [],
   "source": [
    "cdf_1 = df.causal.do(x={treatment: 1}, \n",
    "              variable_types={treatment: 'b', outcome: 'c', common_cause: 'c'}, \n",
    "              outcome=outcome, \n",
    "              dot_graph=data['dot_graph'],\n",
    "              proceed_when_unidentifiable=True)\n",
    "\n",
    "cdf_0 = df.causal.do(x={treatment: 0}, \n",
    "              variable_types={treatment: 'b', outcome: 'c', common_cause: 'c'}, \n",
    "              outcome=outcome, \n",
    "              dot_graph=data['dot_graph'],\n",
    "              proceed_when_unidentifiable=True)\n"
   ]
  },
  {
   "cell_type": "code",
   "execution_count": 6,
   "metadata": {
    "execution": {
     "iopub.execute_input": "2022-08-18T17:46:05.958223Z",
     "iopub.status.busy": "2022-08-18T17:46:05.957803Z",
     "iopub.status.idle": "2022-08-18T17:46:05.970558Z",
     "shell.execute_reply": "2022-08-18T17:46:05.969993Z"
    },
    "scrolled": true
   },
   "outputs": [
    {
     "data": {
      "text/html": [
       "<div>\n",
       "<style scoped>\n",
       "    .dataframe tbody tr th:only-of-type {\n",
       "        vertical-align: middle;\n",
       "    }\n",
       "\n",
       "    .dataframe tbody tr th {\n",
       "        vertical-align: top;\n",
       "    }\n",
       "\n",
       "    .dataframe thead th {\n",
       "        text-align: right;\n",
       "    }\n",
       "</style>\n",
       "<table border=\"1\" class=\"dataframe\">\n",
       "  <thead>\n",
       "    <tr style=\"text-align: right;\">\n",
       "      <th></th>\n",
       "      <th>W0</th>\n",
       "      <th>v0</th>\n",
       "      <th>y</th>\n",
       "      <th>propensity_score</th>\n",
       "      <th>weight</th>\n",
       "    </tr>\n",
       "  </thead>\n",
       "  <tbody>\n",
       "    <tr>\n",
       "      <th>0</th>\n",
       "      <td>-0.290766</td>\n",
       "      <td>False</td>\n",
       "      <td>-2.293952</td>\n",
       "      <td>0.609782</td>\n",
       "      <td>1.639931</td>\n",
       "    </tr>\n",
       "    <tr>\n",
       "      <th>1</th>\n",
       "      <td>0.015468</td>\n",
       "      <td>False</td>\n",
       "      <td>-0.943643</td>\n",
       "      <td>0.506532</td>\n",
       "      <td>1.974209</td>\n",
       "    </tr>\n",
       "    <tr>\n",
       "      <th>2</th>\n",
       "      <td>-1.489570</td>\n",
       "      <td>False</td>\n",
       "      <td>-3.037369</td>\n",
       "      <td>0.890084</td>\n",
       "      <td>1.123490</td>\n",
       "    </tr>\n",
       "    <tr>\n",
       "      <th>3</th>\n",
       "      <td>-0.360866</td>\n",
       "      <td>False</td>\n",
       "      <td>-0.045030</td>\n",
       "      <td>0.632417</td>\n",
       "      <td>1.581236</td>\n",
       "    </tr>\n",
       "    <tr>\n",
       "      <th>4</th>\n",
       "      <td>-1.489986</td>\n",
       "      <td>False</td>\n",
       "      <td>-1.590914</td>\n",
       "      <td>0.890140</td>\n",
       "      <td>1.123419</td>\n",
       "    </tr>\n",
       "    <tr>\n",
       "      <th>...</th>\n",
       "      <td>...</td>\n",
       "      <td>...</td>\n",
       "      <td>...</td>\n",
       "      <td>...</td>\n",
       "      <td>...</td>\n",
       "    </tr>\n",
       "    <tr>\n",
       "      <th>995</th>\n",
       "      <td>-1.173920</td>\n",
       "      <td>False</td>\n",
       "      <td>-3.671956</td>\n",
       "      <td>0.840024</td>\n",
       "      <td>1.190442</td>\n",
       "    </tr>\n",
       "    <tr>\n",
       "      <th>996</th>\n",
       "      <td>0.396594</td>\n",
       "      <td>False</td>\n",
       "      <td>-0.699937</td>\n",
       "      <td>0.378265</td>\n",
       "      <td>2.643648</td>\n",
       "    </tr>\n",
       "    <tr>\n",
       "      <th>997</th>\n",
       "      <td>-0.380898</td>\n",
       "      <td>False</td>\n",
       "      <td>-0.200036</td>\n",
       "      <td>0.638784</td>\n",
       "      <td>1.565475</td>\n",
       "    </tr>\n",
       "    <tr>\n",
       "      <th>998</th>\n",
       "      <td>-0.558245</td>\n",
       "      <td>False</td>\n",
       "      <td>0.028922</td>\n",
       "      <td>0.692849</td>\n",
       "      <td>1.443315</td>\n",
       "    </tr>\n",
       "    <tr>\n",
       "      <th>999</th>\n",
       "      <td>-1.021597</td>\n",
       "      <td>False</td>\n",
       "      <td>-1.158739</td>\n",
       "      <td>0.809901</td>\n",
       "      <td>1.234719</td>\n",
       "    </tr>\n",
       "  </tbody>\n",
       "</table>\n",
       "<p>1000 rows × 5 columns</p>\n",
       "</div>"
      ],
      "text/plain": [
       "           W0     v0         y  propensity_score    weight\n",
       "0   -0.290766  False -2.293952          0.609782  1.639931\n",
       "1    0.015468  False -0.943643          0.506532  1.974209\n",
       "2   -1.489570  False -3.037369          0.890084  1.123490\n",
       "3   -0.360866  False -0.045030          0.632417  1.581236\n",
       "4   -1.489986  False -1.590914          0.890140  1.123419\n",
       "..        ...    ...       ...               ...       ...\n",
       "995 -1.173920  False -3.671956          0.840024  1.190442\n",
       "996  0.396594  False -0.699937          0.378265  2.643648\n",
       "997 -0.380898  False -0.200036          0.638784  1.565475\n",
       "998 -0.558245  False  0.028922          0.692849  1.443315\n",
       "999 -1.021597  False -1.158739          0.809901  1.234719\n",
       "\n",
       "[1000 rows x 5 columns]"
      ]
     },
     "execution_count": 6,
     "metadata": {},
     "output_type": "execute_result"
    }
   ],
   "source": [
    "cdf_0"
   ]
  },
  {
   "cell_type": "code",
   "execution_count": 7,
   "metadata": {
    "execution": {
     "iopub.execute_input": "2022-08-18T17:46:05.973321Z",
     "iopub.status.busy": "2022-08-18T17:46:05.972984Z",
     "iopub.status.idle": "2022-08-18T17:46:05.983259Z",
     "shell.execute_reply": "2022-08-18T17:46:05.982618Z"
    }
   },
   "outputs": [
    {
     "data": {
      "text/html": [
       "<div>\n",
       "<style scoped>\n",
       "    .dataframe tbody tr th:only-of-type {\n",
       "        vertical-align: middle;\n",
       "    }\n",
       "\n",
       "    .dataframe tbody tr th {\n",
       "        vertical-align: top;\n",
       "    }\n",
       "\n",
       "    .dataframe thead th {\n",
       "        text-align: right;\n",
       "    }\n",
       "</style>\n",
       "<table border=\"1\" class=\"dataframe\">\n",
       "  <thead>\n",
       "    <tr style=\"text-align: right;\">\n",
       "      <th></th>\n",
       "      <th>W0</th>\n",
       "      <th>v0</th>\n",
       "      <th>y</th>\n",
       "      <th>propensity_score</th>\n",
       "      <th>weight</th>\n",
       "    </tr>\n",
       "  </thead>\n",
       "  <tbody>\n",
       "    <tr>\n",
       "      <th>0</th>\n",
       "      <td>0.605745</td>\n",
       "      <td>True</td>\n",
       "      <td>6.438499</td>\n",
       "      <td>0.686531</td>\n",
       "      <td>1.456599</td>\n",
       "    </tr>\n",
       "    <tr>\n",
       "      <th>1</th>\n",
       "      <td>0.365219</td>\n",
       "      <td>True</td>\n",
       "      <td>6.636170</td>\n",
       "      <td>0.611556</td>\n",
       "      <td>1.635172</td>\n",
       "    </tr>\n",
       "    <tr>\n",
       "      <th>2</th>\n",
       "      <td>-1.583881</td>\n",
       "      <td>True</td>\n",
       "      <td>3.997905</td>\n",
       "      <td>0.097878</td>\n",
       "      <td>10.216793</td>\n",
       "    </tr>\n",
       "    <tr>\n",
       "      <th>3</th>\n",
       "      <td>-0.472744</td>\n",
       "      <td>True</td>\n",
       "      <td>4.040587</td>\n",
       "      <td>0.332669</td>\n",
       "      <td>3.005987</td>\n",
       "    </tr>\n",
       "    <tr>\n",
       "      <th>4</th>\n",
       "      <td>0.848507</td>\n",
       "      <td>True</td>\n",
       "      <td>4.702901</td>\n",
       "      <td>0.753452</td>\n",
       "      <td>1.327224</td>\n",
       "    </tr>\n",
       "    <tr>\n",
       "      <th>...</th>\n",
       "      <td>...</td>\n",
       "      <td>...</td>\n",
       "      <td>...</td>\n",
       "      <td>...</td>\n",
       "      <td>...</td>\n",
       "    </tr>\n",
       "    <tr>\n",
       "      <th>995</th>\n",
       "      <td>-0.646546</td>\n",
       "      <td>True</td>\n",
       "      <td>3.733570</td>\n",
       "      <td>0.281981</td>\n",
       "      <td>3.546339</td>\n",
       "    </tr>\n",
       "    <tr>\n",
       "      <th>996</th>\n",
       "      <td>-0.018544</td>\n",
       "      <td>True</td>\n",
       "      <td>2.580610</td>\n",
       "      <td>0.481807</td>\n",
       "      <td>2.075522</td>\n",
       "    </tr>\n",
       "    <tr>\n",
       "      <th>997</th>\n",
       "      <td>-0.169994</td>\n",
       "      <td>True</td>\n",
       "      <td>5.004565</td>\n",
       "      <td>0.430294</td>\n",
       "      <td>2.323991</td>\n",
       "    </tr>\n",
       "    <tr>\n",
       "      <th>998</th>\n",
       "      <td>-2.286385</td>\n",
       "      <td>True</td>\n",
       "      <td>2.921972</td>\n",
       "      <td>0.039729</td>\n",
       "      <td>25.170241</td>\n",
       "    </tr>\n",
       "    <tr>\n",
       "      <th>999</th>\n",
       "      <td>0.974850</td>\n",
       "      <td>True</td>\n",
       "      <td>6.371381</td>\n",
       "      <td>0.784232</td>\n",
       "      <td>1.275134</td>\n",
       "    </tr>\n",
       "  </tbody>\n",
       "</table>\n",
       "<p>1000 rows × 5 columns</p>\n",
       "</div>"
      ],
      "text/plain": [
       "           W0    v0         y  propensity_score     weight\n",
       "0    0.605745  True  6.438499          0.686531   1.456599\n",
       "1    0.365219  True  6.636170          0.611556   1.635172\n",
       "2   -1.583881  True  3.997905          0.097878  10.216793\n",
       "3   -0.472744  True  4.040587          0.332669   3.005987\n",
       "4    0.848507  True  4.702901          0.753452   1.327224\n",
       "..        ...   ...       ...               ...        ...\n",
       "995 -0.646546  True  3.733570          0.281981   3.546339\n",
       "996 -0.018544  True  2.580610          0.481807   2.075522\n",
       "997 -0.169994  True  5.004565          0.430294   2.323991\n",
       "998 -2.286385  True  2.921972          0.039729  25.170241\n",
       "999  0.974850  True  6.371381          0.784232   1.275134\n",
       "\n",
       "[1000 rows x 5 columns]"
      ]
     },
     "execution_count": 7,
     "metadata": {},
     "output_type": "execute_result"
    }
   ],
   "source": [
    "cdf_1"
   ]
  },
  {
   "cell_type": "markdown",
   "metadata": {},
   "source": [
    "## Comparing the estimate to Linear Regression\n",
    "First, estimating the effect using the causal data frame, and the 95% confidence interval."
   ]
  },
  {
   "cell_type": "code",
   "execution_count": 8,
   "metadata": {
    "execution": {
     "iopub.execute_input": "2022-08-18T17:46:05.986078Z",
     "iopub.status.busy": "2022-08-18T17:46:05.985748Z",
     "iopub.status.idle": "2022-08-18T17:46:06.082576Z",
     "shell.execute_reply": "2022-08-18T17:46:06.081882Z"
    }
   },
   "outputs": [
    {
     "data": {
      "image/png": "[encoded data removed]",
      "text/latex": [
       "$\\displaystyle 4.95862139265914$"
      ],
      "text/plain": [
       "4.9586213926591425"
      ]
     },
     "execution_count": 8,
     "metadata": {},
     "output_type": "execute_result"
    }
   ],
   "source": [
    "(cdf_1['y'] - cdf_0['y']).mean()"
   ]
  },
  {
   "cell_type": "code",
   "execution_count": 9,
   "metadata": {
    "execution": {
     "iopub.execute_input": "2022-08-18T17:46:06.085561Z",
     "iopub.status.busy": "2022-08-18T17:46:06.085202Z",
     "iopub.status.idle": "2022-08-18T17:46:06.109813Z",
     "shell.execute_reply": "2022-08-18T17:46:06.109146Z"
    }
   },
   "outputs": [
    {
     "data": {
      "image/png": "[encoded data removed]",
      "text/latex": [
       "$\\displaystyle 0.15608168465999$"
      ],
      "text/plain": [
       "0.15608168465998976"
      ]
     },
     "execution_count": 9,
     "metadata": {},
     "output_type": "execute_result"
    }
   ],
   "source": [
    "1.96*(cdf_1['y'] - cdf_0['y']).std() / np.sqrt(len(df))"
   ]
  },
  {
   "cell_type": "markdown",
   "metadata": {},
   "source": [
    "Comparing to the estimate from OLS."
   ]
  },
  {
   "cell_type": "code",
   "execution_count": 10,
   "metadata": {
    "execution": {
     "iopub.execute_input": "2022-08-18T17:46:06.112891Z",
     "iopub.status.busy": "2022-08-18T17:46:06.112460Z",
     "iopub.status.idle": "2022-08-18T17:46:06.128473Z",
     "shell.execute_reply": "2022-08-18T17:46:06.127841Z"
    }
   },
   "outputs": [
    {
     "data": {
      "text/html": [
       "<table class=\"simpletable\">\n",
       "<caption>OLS Regression Results</caption>\n",
       "<tr>\n",
       "  <th>Dep. Variable:</th>            <td>y</td>        <th>  R-squared (uncentered):</th>      <td>   0.917</td>\n",
       "</tr>\n",
       "<tr>\n",
       "  <th>Model:</th>                   <td>OLS</td>       <th>  Adj. R-squared (uncentered):</th> <td>   0.917</td>\n",
       "</tr>\n",
       "<tr>\n",
       "  <th>Method:</th>             <td>Least Squares</td>  <th>  F-statistic:       </th>          <td>   5522.</td>\n",
       "</tr>\n",
       "<tr>\n",
       "  <th>Date:</th>             <td>Thu, 18 Aug 2022</td> <th>  Prob (F-statistic):</th>           <td>  0.00</td> \n",
       "</tr>\n",
       "<tr>\n",
       "  <th>Time:</th>                 <td>17:46:06</td>     <th>  Log-Likelihood:    </th>          <td> -1457.3</td>\n",
       "</tr>\n",
       "<tr>\n",
       "  <th>No. Observations:</th>      <td>  1000</td>      <th>  AIC:               </th>          <td>   2919.</td>\n",
       "</tr>\n",
       "<tr>\n",
       "  <th>Df Residuals:</th>          <td>   998</td>      <th>  BIC:               </th>          <td>   2928.</td>\n",
       "</tr>\n",
       "<tr>\n",
       "  <th>Df Model:</th>              <td>     2</td>      <th>                     </th>              <td> </td>   \n",
       "</tr>\n",
       "<tr>\n",
       "  <th>Covariance Type:</th>      <td>nonrobust</td>    <th>                     </th>              <td> </td>   \n",
       "</tr>\n",
       "</table>\n",
       "<table class=\"simpletable\">\n",
       "<tr>\n",
       "   <td></td>     <th>coef</th>     <th>std err</th>      <th>t</th>      <th>P>|t|</th>  <th>[0.025</th>    <th>0.975]</th>  \n",
       "</tr>\n",
       "<tr>\n",
       "  <th>x1</th> <td>    1.3229</td> <td>    0.028</td> <td>   46.678</td> <td> 0.000</td> <td>    1.267</td> <td>    1.379</td>\n",
       "</tr>\n",
       "<tr>\n",
       "  <th>x2</th> <td>    5.0736</td> <td>    0.056</td> <td>   91.370</td> <td> 0.000</td> <td>    4.965</td> <td>    5.183</td>\n",
       "</tr>\n",
       "</table>\n",
       "<table class=\"simpletable\">\n",
       "<tr>\n",
       "  <th>Omnibus:</th>       <td> 0.162</td> <th>  Durbin-Watson:     </th> <td>   1.873</td>\n",
       "</tr>\n",
       "<tr>\n",
       "  <th>Prob(Omnibus):</th> <td> 0.922</td> <th>  Jarque-Bera (JB):  </th> <td>   0.126</td>\n",
       "</tr>\n",
       "<tr>\n",
       "  <th>Skew:</th>          <td>-0.027</td> <th>  Prob(JB):          </th> <td>   0.939</td>\n",
       "</tr>\n",
       "<tr>\n",
       "  <th>Kurtosis:</th>      <td> 3.014</td> <th>  Cond. No.          </th> <td>    1.96</td>\n",
       "</tr>\n",
       "</table><br/><br/>Notes:<br/>[1] R² is computed without centering (uncentered) since the model does not contain a constant.<br/>[2] Standard Errors assume that the covariance matrix of the errors is correctly specified."
      ],
      "text/plain": [
       "<class 'statsmodels.iolib.summary.Summary'>\n",
       "\"\"\"\n",
       "                                 OLS Regression Results                                \n",
       "=======================================================================================\n",
       "Dep. Variable:                      y   R-squared (uncentered):                   0.917\n",
       "Model:                            OLS   Adj. R-squared (uncentered):              0.917\n",
       "Method:                 Least Squares   F-statistic:                              5522.\n",
       "Date:                Thu, 18 Aug 2022   Prob (F-statistic):                        0.00\n",
       "Time:                        17:46:06   Log-Likelihood:                         -1457.3\n",
       "No. Observations:                1000   AIC:                                      2919.\n",
       "Df Residuals:                     998   BIC:                                      2928.\n",
       "Df Model:                           2                                                  \n",
       "Covariance Type:            nonrobust                                                  \n",
       "==============================================================================\n",
       "                 coef    std err          t      P>|t|      [0.025      0.975]\n",
       "------------------------------------------------------------------------------\n",
       "x1             1.3229      0.028     46.678      0.000       1.267       1.379\n",
       "x2             5.0736      0.056     91.370      0.000       4.965       5.183\n",
       "==============================================================================\n",
       "Omnibus:                        0.162   Durbin-Watson:                   1.873\n",
       "Prob(Omnibus):                  0.922   Jarque-Bera (JB):                0.126\n",
       "Skew:                          -0.027   Prob(JB):                        0.939\n",
       "Kurtosis:                       3.014   Cond. No.                         1.96\n",
       "==============================================================================\n",
       "\n",
       "Notes:\n",
       "[1] R² is computed without centering (uncentered) since the model does not contain a constant.\n",
       "[2] Standard Errors assume that the covariance matrix of the errors is correctly specified.\n",
       "\"\"\""
      ]
     },
     "execution_count": 10,
     "metadata": {},
     "output_type": "execute_result"
    }
   ],
   "source": [
    "model = OLS(np.asarray(df[outcome]), np.asarray(df[[common_cause, treatment]], dtype=np.float64))\n",
    "result = model.fit()\n",
    "result.summary()"
   ]
  }
 ],
 "metadata": {
  "kernelspec": {
   "display_name": "Python 3",
   "language": "python",
   "name": "python3"
  },
  "language_info": {
   "codemirror_mode": {
    "name": "ipython",
    "version": 3
   },
   "file_extension": ".py",
   "mimetype": "text/x-python",
   "name": "python",
   "nbconvert_exporter": "python",
   "pygments_lexer": "ipython3",
   "version": "3.8.10"
  },
  "toc": {
   "base_numbering": 1,
   "nav_menu": {},
   "number_sections": false,
   "sideBar": true,
   "skip_h1_title": true,
   "title_cell": "Table of Contents",
   "title_sidebar": "Contents",
   "toc_cell": false,
   "toc_position": {},
   "toc_section_display": true,
   "toc_window_display": false
  }
 },
 "nbformat": 4,
 "nbformat_minor": 4
}
