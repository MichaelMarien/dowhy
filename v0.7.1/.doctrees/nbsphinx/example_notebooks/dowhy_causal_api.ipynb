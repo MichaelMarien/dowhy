{
 "cells": [
  {
   "cell_type": "markdown",
   "metadata": {},
   "source": [
    "# Demo for the DoWhy causal API\n",
    "We show a simple example of adding a causal extension to any dataframe. "
   ]
  },
  {
   "cell_type": "code",
   "execution_count": 1,
   "metadata": {
    "execution": {
     "iopub.execute_input": "2022-08-21T17:39:31.728885Z",
     "iopub.status.busy": "2022-08-21T17:39:31.728548Z",
     "iopub.status.idle": "2022-08-21T17:39:33.180581Z",
     "shell.execute_reply": "2022-08-21T17:39:33.179544Z"
    }
   },
   "outputs": [],
   "source": [
    "import dowhy.datasets\n",
    "import dowhy.api\n",
    "\n",
    "import numpy as np\n",
    "import pandas as pd\n",
    "\n",
    "from statsmodels.api import OLS"
   ]
  },
  {
   "cell_type": "code",
   "execution_count": 2,
   "metadata": {
    "execution": {
     "iopub.execute_input": "2022-08-21T17:39:33.185090Z",
     "iopub.status.busy": "2022-08-21T17:39:33.184410Z",
     "iopub.status.idle": "2022-08-21T17:39:33.241780Z",
     "shell.execute_reply": "2022-08-21T17:39:33.240958Z"
    }
   },
   "outputs": [
    {
     "data": {
      "text/html": [
       "<div>\n",
       "<style scoped>\n",
       "    .dataframe tbody tr th:only-of-type {\n",
       "        vertical-align: middle;\n",
       "    }\n",
       "\n",
       "    .dataframe tbody tr th {\n",
       "        vertical-align: top;\n",
       "    }\n",
       "\n",
       "    .dataframe thead th {\n",
       "        text-align: right;\n",
       "    }\n",
       "</style>\n",
       "<table border=\"1\" class=\"dataframe\">\n",
       "  <thead>\n",
       "    <tr style=\"text-align: right;\">\n",
       "      <th></th>\n",
       "      <th>W0</th>\n",
       "      <th>v0</th>\n",
       "      <th>y</th>\n",
       "    </tr>\n",
       "  </thead>\n",
       "  <tbody>\n",
       "    <tr>\n",
       "      <th>0</th>\n",
       "      <td>-0.028953</td>\n",
       "      <td>False</td>\n",
       "      <td>1.183704</td>\n",
       "    </tr>\n",
       "    <tr>\n",
       "      <th>1</th>\n",
       "      <td>-2.671505</td>\n",
       "      <td>False</td>\n",
       "      <td>-3.381404</td>\n",
       "    </tr>\n",
       "    <tr>\n",
       "      <th>2</th>\n",
       "      <td>-1.807897</td>\n",
       "      <td>False</td>\n",
       "      <td>-3.114475</td>\n",
       "    </tr>\n",
       "    <tr>\n",
       "      <th>3</th>\n",
       "      <td>0.589487</td>\n",
       "      <td>True</td>\n",
       "      <td>7.262895</td>\n",
       "    </tr>\n",
       "    <tr>\n",
       "      <th>4</th>\n",
       "      <td>1.153648</td>\n",
       "      <td>True</td>\n",
       "      <td>5.152697</td>\n",
       "    </tr>\n",
       "    <tr>\n",
       "      <th>...</th>\n",
       "      <td>...</td>\n",
       "      <td>...</td>\n",
       "      <td>...</td>\n",
       "    </tr>\n",
       "    <tr>\n",
       "      <th>995</th>\n",
       "      <td>1.822792</td>\n",
       "      <td>True</td>\n",
       "      <td>8.615791</td>\n",
       "    </tr>\n",
       "    <tr>\n",
       "      <th>996</th>\n",
       "      <td>-0.130931</td>\n",
       "      <td>True</td>\n",
       "      <td>3.533773</td>\n",
       "    </tr>\n",
       "    <tr>\n",
       "      <th>997</th>\n",
       "      <td>-2.798855</td>\n",
       "      <td>False</td>\n",
       "      <td>-4.505421</td>\n",
       "    </tr>\n",
       "    <tr>\n",
       "      <th>998</th>\n",
       "      <td>-1.495691</td>\n",
       "      <td>False</td>\n",
       "      <td>-2.905536</td>\n",
       "    </tr>\n",
       "    <tr>\n",
       "      <th>999</th>\n",
       "      <td>-1.304298</td>\n",
       "      <td>True</td>\n",
       "      <td>2.395871</td>\n",
       "    </tr>\n",
       "  </tbody>\n",
       "</table>\n",
       "<p>1000 rows × 3 columns</p>\n",
       "</div>"
      ],
      "text/plain": [
       "           W0     v0         y\n",
       "0   -0.028953  False  1.183704\n",
       "1   -2.671505  False -3.381404\n",
       "2   -1.807897  False -3.114475\n",
       "3    0.589487   True  7.262895\n",
       "4    1.153648   True  5.152697\n",
       "..        ...    ...       ...\n",
       "995  1.822792   True  8.615791\n",
       "996 -0.130931   True  3.533773\n",
       "997 -2.798855  False -4.505421\n",
       "998 -1.495691  False -2.905536\n",
       "999 -1.304298   True  2.395871\n",
       "\n",
       "[1000 rows x 3 columns]"
      ]
     },
     "execution_count": 2,
     "metadata": {},
     "output_type": "execute_result"
    }
   ],
   "source": [
    "data = dowhy.datasets.linear_dataset(beta=5,\n",
    "        num_common_causes=1,\n",
    "        num_instruments = 0,\n",
    "        num_samples=1000,\n",
    "        treatment_is_binary=True)\n",
    "df = data['df']\n",
    "df['y'] = df['y'] + np.random.normal(size=len(df)) # Adding noise to data. Without noise, the variance in Y|X, Z is zero, and mcmc fails.\n",
    "#data['dot_graph'] = 'digraph { v ->y;X0-> v;X0-> y;}'\n",
    "\n",
    "treatment= data[\"treatment_name\"][0]\n",
    "outcome = data[\"outcome_name\"][0]\n",
    "common_cause = data[\"common_causes_names\"][0]\n",
    "df"
   ]
  },
  {
   "cell_type": "code",
   "execution_count": 3,
   "metadata": {
    "execution": {
     "iopub.execute_input": "2022-08-21T17:39:33.245876Z",
     "iopub.status.busy": "2022-08-21T17:39:33.245421Z",
     "iopub.status.idle": "2022-08-21T17:39:34.195244Z",
     "shell.execute_reply": "2022-08-21T17:39:34.194284Z"
    }
   },
   "outputs": [
    {
     "data": {
      "text/plain": [
       "<AxesSubplot:xlabel='v0'>"
      ]
     },
     "execution_count": 3,
     "metadata": {},
     "output_type": "execute_result"
    },
    {
     "data": {
      "image/png": "[encoded data removed]",
      "text/plain": [
       "<Figure size 640x480 with 1 Axes>"
      ]
     },
     "metadata": {},
     "output_type": "display_data"
    }
   ],
   "source": [
    "# data['df'] is just a regular pandas.DataFrame\n",
    "df.causal.do(x=treatment,\n",
    "                     variable_types={treatment: 'b', outcome: 'c', common_cause: 'c'},\n",
    "                     outcome=outcome,\n",
    "                     common_causes=[common_cause],\n",
    "                     proceed_when_unidentifiable=True).groupby(treatment).mean().plot(y=outcome, kind='bar')"
   ]
  },
  {
   "cell_type": "code",
   "execution_count": 4,
   "metadata": {
    "execution": {
     "iopub.execute_input": "2022-08-21T17:39:34.199734Z",
     "iopub.status.busy": "2022-08-21T17:39:34.198966Z",
     "iopub.status.idle": "2022-08-21T17:39:34.339217Z",
     "shell.execute_reply": "2022-08-21T17:39:34.338459Z"
    }
   },
   "outputs": [
    {
     "data": {
      "text/plain": [
       "<AxesSubplot:xlabel='v0'>"
      ]
     },
     "execution_count": 4,
     "metadata": {},
     "output_type": "execute_result"
    },
    {
     "data": {
      "image/png": "[encoded data removed]",
      "text/plain": [
       "<Figure size 640x480 with 1 Axes>"
      ]
     },
     "metadata": {},
     "output_type": "display_data"
    }
   ],
   "source": [
    "df.causal.do(x={treatment: 1}, \n",
    "              variable_types={treatment:'b', outcome: 'c', common_cause: 'c'}, \n",
    "              outcome=outcome,\n",
    "              method='weighting', \n",
    "              common_causes=[common_cause],\n",
    "              proceed_when_unidentifiable=True).groupby(treatment).mean().plot(y=outcome, kind='bar')"
   ]
  },
  {
   "cell_type": "code",
   "execution_count": 5,
   "metadata": {
    "execution": {
     "iopub.execute_input": "2022-08-21T17:39:34.343950Z",
     "iopub.status.busy": "2022-08-21T17:39:34.343400Z",
     "iopub.status.idle": "2022-08-21T17:39:34.384767Z",
     "shell.execute_reply": "2022-08-21T17:39:34.383966Z"
    }
   },
   "outputs": [],
   "source": [
    "cdf_1 = df.causal.do(x={treatment: 1}, \n",
    "              variable_types={treatment: 'b', outcome: 'c', common_cause: 'c'}, \n",
    "              outcome=outcome, \n",
    "              dot_graph=data['dot_graph'],\n",
    "              proceed_when_unidentifiable=True)\n",
    "\n",
    "cdf_0 = df.causal.do(x={treatment: 0}, \n",
    "              variable_types={treatment: 'b', outcome: 'c', common_cause: 'c'}, \n",
    "              outcome=outcome, \n",
    "              dot_graph=data['dot_graph'],\n",
    "              proceed_when_unidentifiable=True)\n"
   ]
  },
  {
   "cell_type": "code",
   "execution_count": 6,
   "metadata": {
    "execution": {
     "iopub.execute_input": "2022-08-21T17:39:34.388917Z",
     "iopub.status.busy": "2022-08-21T17:39:34.388607Z",
     "iopub.status.idle": "2022-08-21T17:39:34.404232Z",
     "shell.execute_reply": "2022-08-21T17:39:34.403497Z"
    },
    "scrolled": true
   },
   "outputs": [
    {
     "data": {
      "text/html": [
       "<div>\n",
       "<style scoped>\n",
       "    .dataframe tbody tr th:only-of-type {\n",
       "        vertical-align: middle;\n",
       "    }\n",
       "\n",
       "    .dataframe tbody tr th {\n",
       "        vertical-align: top;\n",
       "    }\n",
       "\n",
       "    .dataframe thead th {\n",
       "        text-align: right;\n",
       "    }\n",
       "</style>\n",
       "<table border=\"1\" class=\"dataframe\">\n",
       "  <thead>\n",
       "    <tr style=\"text-align: right;\">\n",
       "      <th></th>\n",
       "      <th>W0</th>\n",
       "      <th>v0</th>\n",
       "      <th>y</th>\n",
       "      <th>propensity_score</th>\n",
       "      <th>weight</th>\n",
       "    </tr>\n",
       "  </thead>\n",
       "  <tbody>\n",
       "    <tr>\n",
       "      <th>0</th>\n",
       "      <td>-2.037775</td>\n",
       "      <td>False</td>\n",
       "      <td>-5.209848</td>\n",
       "      <td>0.776978</td>\n",
       "      <td>1.287038</td>\n",
       "    </tr>\n",
       "    <tr>\n",
       "      <th>1</th>\n",
       "      <td>-1.955067</td>\n",
       "      <td>False</td>\n",
       "      <td>-3.523390</td>\n",
       "      <td>0.767364</td>\n",
       "      <td>1.303162</td>\n",
       "    </tr>\n",
       "    <tr>\n",
       "      <th>2</th>\n",
       "      <td>-0.725699</td>\n",
       "      <td>False</td>\n",
       "      <td>0.747073</td>\n",
       "      <td>0.594139</td>\n",
       "      <td>1.683107</td>\n",
       "    </tr>\n",
       "    <tr>\n",
       "      <th>3</th>\n",
       "      <td>-0.582994</td>\n",
       "      <td>False</td>\n",
       "      <td>-0.739827</td>\n",
       "      <td>0.571213</td>\n",
       "      <td>1.750660</td>\n",
       "    </tr>\n",
       "    <tr>\n",
       "      <th>4</th>\n",
       "      <td>-1.202951</td>\n",
       "      <td>False</td>\n",
       "      <td>-1.190988</td>\n",
       "      <td>0.667407</td>\n",
       "      <td>1.498337</td>\n",
       "    </tr>\n",
       "    <tr>\n",
       "      <th>...</th>\n",
       "      <td>...</td>\n",
       "      <td>...</td>\n",
       "      <td>...</td>\n",
       "      <td>...</td>\n",
       "      <td>...</td>\n",
       "    </tr>\n",
       "    <tr>\n",
       "      <th>995</th>\n",
       "      <td>-1.760318</td>\n",
       "      <td>False</td>\n",
       "      <td>-4.400352</td>\n",
       "      <td>0.743606</td>\n",
       "      <td>1.344799</td>\n",
       "    </tr>\n",
       "    <tr>\n",
       "      <th>996</th>\n",
       "      <td>-0.924579</td>\n",
       "      <td>False</td>\n",
       "      <td>-0.429571</td>\n",
       "      <td>0.625398</td>\n",
       "      <td>1.598981</td>\n",
       "    </tr>\n",
       "    <tr>\n",
       "      <th>997</th>\n",
       "      <td>-1.084845</td>\n",
       "      <td>False</td>\n",
       "      <td>-3.405073</td>\n",
       "      <td>0.649862</td>\n",
       "      <td>1.538788</td>\n",
       "    </tr>\n",
       "    <tr>\n",
       "      <th>998</th>\n",
       "      <td>-0.099031</td>\n",
       "      <td>False</td>\n",
       "      <td>1.167137</td>\n",
       "      <td>0.491749</td>\n",
       "      <td>2.033558</td>\n",
       "    </tr>\n",
       "    <tr>\n",
       "      <th>999</th>\n",
       "      <td>-0.030878</td>\n",
       "      <td>False</td>\n",
       "      <td>-0.401007</td>\n",
       "      <td>0.480499</td>\n",
       "      <td>2.081170</td>\n",
       "    </tr>\n",
       "  </tbody>\n",
       "</table>\n",
       "<p>1000 rows × 5 columns</p>\n",
       "</div>"
      ],
      "text/plain": [
       "           W0     v0         y  propensity_score    weight\n",
       "0   -2.037775  False -5.209848          0.776978  1.287038\n",
       "1   -1.955067  False -3.523390          0.767364  1.303162\n",
       "2   -0.725699  False  0.747073          0.594139  1.683107\n",
       "3   -0.582994  False -0.739827          0.571213  1.750660\n",
       "4   -1.202951  False -1.190988          0.667407  1.498337\n",
       "..        ...    ...       ...               ...       ...\n",
       "995 -1.760318  False -4.400352          0.743606  1.344799\n",
       "996 -0.924579  False -0.429571          0.625398  1.598981\n",
       "997 -1.084845  False -3.405073          0.649862  1.538788\n",
       "998 -0.099031  False  1.167137          0.491749  2.033558\n",
       "999 -0.030878  False -0.401007          0.480499  2.081170\n",
       "\n",
       "[1000 rows x 5 columns]"
      ]
     },
     "execution_count": 6,
     "metadata": {},
     "output_type": "execute_result"
    }
   ],
   "source": [
    "cdf_0"
   ]
  },
  {
   "cell_type": "code",
   "execution_count": 7,
   "metadata": {
    "execution": {
     "iopub.execute_input": "2022-08-21T17:39:34.407904Z",
     "iopub.status.busy": "2022-08-21T17:39:34.407201Z",
     "iopub.status.idle": "2022-08-21T17:39:34.421264Z",
     "shell.execute_reply": "2022-08-21T17:39:34.420506Z"
    }
   },
   "outputs": [
    {
     "data": {
      "text/html": [
       "<div>\n",
       "<style scoped>\n",
       "    .dataframe tbody tr th:only-of-type {\n",
       "        vertical-align: middle;\n",
       "    }\n",
       "\n",
       "    .dataframe tbody tr th {\n",
       "        vertical-align: top;\n",
       "    }\n",
       "\n",
       "    .dataframe thead th {\n",
       "        text-align: right;\n",
       "    }\n",
       "</style>\n",
       "<table border=\"1\" class=\"dataframe\">\n",
       "  <thead>\n",
       "    <tr style=\"text-align: right;\">\n",
       "      <th></th>\n",
       "      <th>W0</th>\n",
       "      <th>v0</th>\n",
       "      <th>y</th>\n",
       "      <th>propensity_score</th>\n",
       "      <th>weight</th>\n",
       "    </tr>\n",
       "  </thead>\n",
       "  <tbody>\n",
       "    <tr>\n",
       "      <th>0</th>\n",
       "      <td>-1.710639</td>\n",
       "      <td>True</td>\n",
       "      <td>2.005712</td>\n",
       "      <td>0.262703</td>\n",
       "      <td>3.806577</td>\n",
       "    </tr>\n",
       "    <tr>\n",
       "      <th>1</th>\n",
       "      <td>-0.399367</td>\n",
       "      <td>True</td>\n",
       "      <td>4.132107</td>\n",
       "      <td>0.458729</td>\n",
       "      <td>2.179935</td>\n",
       "    </tr>\n",
       "    <tr>\n",
       "      <th>2</th>\n",
       "      <td>0.177754</td>\n",
       "      <td>True</td>\n",
       "      <td>6.923106</td>\n",
       "      <td>0.553769</td>\n",
       "      <td>1.805807</td>\n",
       "    </tr>\n",
       "    <tr>\n",
       "      <th>3</th>\n",
       "      <td>-2.497404</td>\n",
       "      <td>True</td>\n",
       "      <td>1.638349</td>\n",
       "      <td>0.174816</td>\n",
       "      <td>5.720292</td>\n",
       "    </tr>\n",
       "    <tr>\n",
       "      <th>4</th>\n",
       "      <td>-0.941595</td>\n",
       "      <td>True</td>\n",
       "      <td>4.835776</td>\n",
       "      <td>0.371971</td>\n",
       "      <td>2.688382</td>\n",
       "    </tr>\n",
       "    <tr>\n",
       "      <th>...</th>\n",
       "      <td>...</td>\n",
       "      <td>...</td>\n",
       "      <td>...</td>\n",
       "      <td>...</td>\n",
       "      <td>...</td>\n",
       "    </tr>\n",
       "    <tr>\n",
       "      <th>995</th>\n",
       "      <td>-0.958727</td>\n",
       "      <td>True</td>\n",
       "      <td>2.590399</td>\n",
       "      <td>0.369330</td>\n",
       "      <td>2.707605</td>\n",
       "    </tr>\n",
       "    <tr>\n",
       "      <th>996</th>\n",
       "      <td>-0.352063</td>\n",
       "      <td>True</td>\n",
       "      <td>2.577401</td>\n",
       "      <td>0.466500</td>\n",
       "      <td>2.143622</td>\n",
       "    </tr>\n",
       "    <tr>\n",
       "      <th>997</th>\n",
       "      <td>-0.312568</td>\n",
       "      <td>True</td>\n",
       "      <td>4.017700</td>\n",
       "      <td>0.473001</td>\n",
       "      <td>2.114160</td>\n",
       "    </tr>\n",
       "    <tr>\n",
       "      <th>998</th>\n",
       "      <td>-1.059234</td>\n",
       "      <td>True</td>\n",
       "      <td>1.612482</td>\n",
       "      <td>0.353999</td>\n",
       "      <td>2.824869</td>\n",
       "    </tr>\n",
       "    <tr>\n",
       "      <th>999</th>\n",
       "      <td>-1.393128</td>\n",
       "      <td>True</td>\n",
       "      <td>3.111755</td>\n",
       "      <td>0.305308</td>\n",
       "      <td>3.275386</td>\n",
       "    </tr>\n",
       "  </tbody>\n",
       "</table>\n",
       "<p>1000 rows × 5 columns</p>\n",
       "</div>"
      ],
      "text/plain": [
       "           W0    v0         y  propensity_score    weight\n",
       "0   -1.710639  True  2.005712          0.262703  3.806577\n",
       "1   -0.399367  True  4.132107          0.458729  2.179935\n",
       "2    0.177754  True  6.923106          0.553769  1.805807\n",
       "3   -2.497404  True  1.638349          0.174816  5.720292\n",
       "4   -0.941595  True  4.835776          0.371971  2.688382\n",
       "..        ...   ...       ...               ...       ...\n",
       "995 -0.958727  True  2.590399          0.369330  2.707605\n",
       "996 -0.352063  True  2.577401          0.466500  2.143622\n",
       "997 -0.312568  True  4.017700          0.473001  2.114160\n",
       "998 -1.059234  True  1.612482          0.353999  2.824869\n",
       "999 -1.393128  True  3.111755          0.305308  3.275386\n",
       "\n",
       "[1000 rows x 5 columns]"
      ]
     },
     "execution_count": 7,
     "metadata": {},
     "output_type": "execute_result"
    }
   ],
   "source": [
    "cdf_1"
   ]
  },
  {
   "cell_type": "markdown",
   "metadata": {},
   "source": [
    "## Comparing the estimate to Linear Regression\n",
    "First, estimating the effect using the causal data frame, and the 95% confidence interval."
   ]
  },
  {
   "cell_type": "code",
   "execution_count": 8,
   "metadata": {
    "execution": {
     "iopub.execute_input": "2022-08-21T17:39:34.426303Z",
     "iopub.status.busy": "2022-08-21T17:39:34.425934Z",
     "iopub.status.idle": "2022-08-21T17:39:34.543766Z",
     "shell.execute_reply": "2022-08-21T17:39:34.542928Z"
    }
   },
   "outputs": [
    {
     "data": {
      "image/png": "[encoded data removed]",
      "text/latex": [
       "$\\displaystyle 5.06275048040551$"
      ],
      "text/plain": [
       "5.062750480405508"
      ]
     },
     "execution_count": 8,
     "metadata": {},
     "output_type": "execute_result"
    }
   ],
   "source": [
    "(cdf_1['y'] - cdf_0['y']).mean()"
   ]
  },
  {
   "cell_type": "code",
   "execution_count": 9,
   "metadata": {
    "execution": {
     "iopub.execute_input": "2022-08-21T17:39:34.548508Z",
     "iopub.status.busy": "2022-08-21T17:39:34.547666Z",
     "iopub.status.idle": "2022-08-21T17:39:34.575843Z",
     "shell.execute_reply": "2022-08-21T17:39:34.574958Z"
    }
   },
   "outputs": [
    {
     "data": {
      "image/png": "[encoded data removed]",
      "text/latex": [
       "$\\displaystyle 0.166994512315674$"
      ],
      "text/plain": [
       "0.16699451231567367"
      ]
     },
     "execution_count": 9,
     "metadata": {},
     "output_type": "execute_result"
    }
   ],
   "source": [
    "1.96*(cdf_1['y'] - cdf_0['y']).std() / np.sqrt(len(df))"
   ]
  },
  {
   "cell_type": "markdown",
   "metadata": {},
   "source": [
    "Comparing to the estimate from OLS."
   ]
  },
  {
   "cell_type": "code",
   "execution_count": 10,
   "metadata": {
    "execution": {
     "iopub.execute_input": "2022-08-21T17:39:34.581003Z",
     "iopub.status.busy": "2022-08-21T17:39:34.579442Z",
     "iopub.status.idle": "2022-08-21T17:39:34.600472Z",
     "shell.execute_reply": "2022-08-21T17:39:34.599657Z"
    }
   },
   "outputs": [
    {
     "data": {
      "text/html": [
       "<table class=\"simpletable\">\n",
       "<caption>OLS Regression Results</caption>\n",
       "<tr>\n",
       "  <th>Dep. Variable:</th>            <td>y</td>        <th>  R-squared (uncentered):</th>      <td>   0.922</td>\n",
       "</tr>\n",
       "<tr>\n",
       "  <th>Model:</th>                   <td>OLS</td>       <th>  Adj. R-squared (uncentered):</th> <td>   0.921</td>\n",
       "</tr>\n",
       "<tr>\n",
       "  <th>Method:</th>             <td>Least Squares</td>  <th>  F-statistic:       </th>          <td>   5866.</td>\n",
       "</tr>\n",
       "<tr>\n",
       "  <th>Date:</th>             <td>Sun, 21 Aug 2022</td> <th>  Prob (F-statistic):</th>           <td>  0.00</td> \n",
       "</tr>\n",
       "<tr>\n",
       "  <th>Time:</th>                 <td>17:39:34</td>     <th>  Log-Likelihood:    </th>          <td> -1399.5</td>\n",
       "</tr>\n",
       "<tr>\n",
       "  <th>No. Observations:</th>      <td>  1000</td>      <th>  AIC:               </th>          <td>   2803.</td>\n",
       "</tr>\n",
       "<tr>\n",
       "  <th>Df Residuals:</th>          <td>   998</td>      <th>  BIC:               </th>          <td>   2813.</td>\n",
       "</tr>\n",
       "<tr>\n",
       "  <th>Df Model:</th>              <td>     2</td>      <th>                     </th>              <td> </td>   \n",
       "</tr>\n",
       "<tr>\n",
       "  <th>Covariance Type:</th>      <td>nonrobust</td>    <th>                     </th>              <td> </td>   \n",
       "</tr>\n",
       "</table>\n",
       "<table class=\"simpletable\">\n",
       "<tr>\n",
       "   <td></td>     <th>coef</th>     <th>std err</th>      <th>t</th>      <th>P>|t|</th>  <th>[0.025</th>    <th>0.975]</th>  \n",
       "</tr>\n",
       "<tr>\n",
       "  <th>x1</th> <td>    1.6782</td> <td>    0.023</td> <td>   71.821</td> <td> 0.000</td> <td>    1.632</td> <td>    1.724</td>\n",
       "</tr>\n",
       "<tr>\n",
       "  <th>x2</th> <td>    4.9492</td> <td>    0.052</td> <td>   96.085</td> <td> 0.000</td> <td>    4.848</td> <td>    5.050</td>\n",
       "</tr>\n",
       "</table>\n",
       "<table class=\"simpletable\">\n",
       "<tr>\n",
       "  <th>Omnibus:</th>       <td> 2.915</td> <th>  Durbin-Watson:     </th> <td>   1.989</td>\n",
       "</tr>\n",
       "<tr>\n",
       "  <th>Prob(Omnibus):</th> <td> 0.233</td> <th>  Jarque-Bera (JB):  </th> <td>   2.794</td>\n",
       "</tr>\n",
       "<tr>\n",
       "  <th>Skew:</th>          <td>-0.101</td> <th>  Prob(JB):          </th> <td>   0.247</td>\n",
       "</tr>\n",
       "<tr>\n",
       "  <th>Kurtosis:</th>      <td> 3.161</td> <th>  Cond. No.          </th> <td>    2.31</td>\n",
       "</tr>\n",
       "</table><br/><br/>Notes:<br/>[1] R² is computed without centering (uncentered) since the model does not contain a constant.<br/>[2] Standard Errors assume that the covariance matrix of the errors is correctly specified."
      ],
      "text/plain": [
       "<class 'statsmodels.iolib.summary.Summary'>\n",
       "\"\"\"\n",
       "                                 OLS Regression Results                                \n",
       "=======================================================================================\n",
       "Dep. Variable:                      y   R-squared (uncentered):                   0.922\n",
       "Model:                            OLS   Adj. R-squared (uncentered):              0.921\n",
       "Method:                 Least Squares   F-statistic:                              5866.\n",
       "Date:                Sun, 21 Aug 2022   Prob (F-statistic):                        0.00\n",
       "Time:                        17:39:34   Log-Likelihood:                         -1399.5\n",
       "No. Observations:                1000   AIC:                                      2803.\n",
       "Df Residuals:                     998   BIC:                                      2813.\n",
       "Df Model:                           2                                                  \n",
       "Covariance Type:            nonrobust                                                  \n",
       "==============================================================================\n",
       "                 coef    std err          t      P>|t|      [0.025      0.975]\n",
       "------------------------------------------------------------------------------\n",
       "x1             1.6782      0.023     71.821      0.000       1.632       1.724\n",
       "x2             4.9492      0.052     96.085      0.000       4.848       5.050\n",
       "==============================================================================\n",
       "Omnibus:                        2.915   Durbin-Watson:                   1.989\n",
       "Prob(Omnibus):                  0.233   Jarque-Bera (JB):                2.794\n",
       "Skew:                          -0.101   Prob(JB):                        0.247\n",
       "Kurtosis:                       3.161   Cond. No.                         2.31\n",
       "==============================================================================\n",
       "\n",
       "Notes:\n",
       "[1] R² is computed without centering (uncentered) since the model does not contain a constant.\n",
       "[2] Standard Errors assume that the covariance matrix of the errors is correctly specified.\n",
       "\"\"\""
      ]
     },
     "execution_count": 10,
     "metadata": {},
     "output_type": "execute_result"
    }
   ],
   "source": [
    "model = OLS(np.asarray(df[outcome]), np.asarray(df[[common_cause, treatment]], dtype=np.float64))\n",
    "result = model.fit()\n",
    "result.summary()"
   ]
  }
 ],
 "metadata": {
  "kernelspec": {
   "display_name": "Python 3",
   "language": "python",
   "name": "python3"
  },
  "language_info": {
   "codemirror_mode": {
    "name": "ipython",
    "version": 3
   },
   "file_extension": ".py",
   "mimetype": "text/x-python",
   "name": "python",
   "nbconvert_exporter": "python",
   "pygments_lexer": "ipython3",
   "version": "3.8.10"
  },
  "toc": {
   "base_numbering": 1,
   "nav_menu": {},
   "number_sections": false,
   "sideBar": true,
   "skip_h1_title": true,
   "title_cell": "Table of Contents",
   "title_sidebar": "Contents",
   "toc_cell": false,
   "toc_position": {},
   "toc_section_display": true,
   "toc_window_display": false
  }
 },
 "nbformat": 4,
 "nbformat_minor": 4
}
