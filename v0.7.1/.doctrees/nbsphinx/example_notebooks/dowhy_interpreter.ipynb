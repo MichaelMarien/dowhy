{
 "cells": [
  {
   "cell_type": "markdown",
   "id": "0ba61f49",
   "metadata": {},
   "source": [
    "# DoWhy: Interpreters for Causal Estimators\n",
    "\n",
    "This is a quick introduction to the use of interpreters in the DoWhy causal inference library.\n",
    "We will load in a sample dataset, use different methods for estimating the causal effect of a (pre-specified)treatment variable on a (pre-specified) outcome variable and demonstrate how to interpret the obtained results.\n",
    "\n",
    "First, let us add the required path for Python to find the DoWhy code and load all required packages"
   ]
  },
  {
   "cell_type": "code",
   "execution_count": 1,
   "id": "192efecb",
   "metadata": {
    "execution": {
     "iopub.execute_input": "2022-08-18T17:46:49.203168Z",
     "iopub.status.busy": "2022-08-18T17:46:49.202724Z",
     "iopub.status.idle": "2022-08-18T17:46:49.218841Z",
     "shell.execute_reply": "2022-08-18T17:46:49.218266Z"
    }
   },
   "outputs": [],
   "source": [
    "%load_ext autoreload\n",
    "%autoreload 2"
   ]
  },
  {
   "cell_type": "code",
   "execution_count": 2,
   "id": "76a25071",
   "metadata": {
    "execution": {
     "iopub.execute_input": "2022-08-18T17:46:49.221814Z",
     "iopub.status.busy": "2022-08-18T17:46:49.221605Z",
     "iopub.status.idle": "2022-08-18T17:46:50.200654Z",
     "shell.execute_reply": "2022-08-18T17:46:50.199984Z"
    }
   },
   "outputs": [],
   "source": [
    "import numpy as np\n",
    "import pandas as pd\n",
    "import logging\n",
    "\n",
    "import dowhy\n",
    "from dowhy import CausalModel\n",
    "import dowhy.datasets "
   ]
  },
  {
   "cell_type": "markdown",
   "id": "934f6d45",
   "metadata": {},
   "source": [
    "Now, let us load a dataset. For simplicity, we simulate a dataset with linear relationships between common causes and treatment, and common causes and outcome.\n",
    "\n",
    "Beta is the true causal effect."
   ]
  },
  {
   "cell_type": "code",
   "execution_count": 3,
   "id": "64cee979",
   "metadata": {
    "execution": {
     "iopub.execute_input": "2022-08-18T17:46:50.204871Z",
     "iopub.status.busy": "2022-08-18T17:46:50.204194Z",
     "iopub.status.idle": "2022-08-18T17:46:50.481138Z",
     "shell.execute_reply": "2022-08-18T17:46:50.480543Z"
    }
   },
   "outputs": [
    {
     "name": "stdout",
     "output_type": "stream",
     "text": [
      "9356\n"
     ]
    },
    {
     "data": {
      "text/html": [
       "<div>\n",
       "<style scoped>\n",
       "    .dataframe tbody tr th:only-of-type {\n",
       "        vertical-align: middle;\n",
       "    }\n",
       "\n",
       "    .dataframe tbody tr th {\n",
       "        vertical-align: top;\n",
       "    }\n",
       "\n",
       "    .dataframe thead th {\n",
       "        text-align: right;\n",
       "    }\n",
       "</style>\n",
       "<table border=\"1\" class=\"dataframe\">\n",
       "  <thead>\n",
       "    <tr style=\"text-align: right;\">\n",
       "      <th></th>\n",
       "      <th>Z0</th>\n",
       "      <th>Z1</th>\n",
       "      <th>W0</th>\n",
       "      <th>W1</th>\n",
       "      <th>W2</th>\n",
       "      <th>W3</th>\n",
       "      <th>W4</th>\n",
       "      <th>v0</th>\n",
       "      <th>y</th>\n",
       "    </tr>\n",
       "  </thead>\n",
       "  <tbody>\n",
       "    <tr>\n",
       "      <th>0</th>\n",
       "      <td>1.0</td>\n",
       "      <td>0.801152</td>\n",
       "      <td>-0.615430</td>\n",
       "      <td>-0.265658</td>\n",
       "      <td>0.755048</td>\n",
       "      <td>-0.047025</td>\n",
       "      <td>0</td>\n",
       "      <td>True</td>\n",
       "      <td>1.108415</td>\n",
       "    </tr>\n",
       "    <tr>\n",
       "      <th>1</th>\n",
       "      <td>1.0</td>\n",
       "      <td>0.520679</td>\n",
       "      <td>1.183522</td>\n",
       "      <td>-1.079099</td>\n",
       "      <td>1.433327</td>\n",
       "      <td>0.555604</td>\n",
       "      <td>1</td>\n",
       "      <td>True</td>\n",
       "      <td>2.950034</td>\n",
       "    </tr>\n",
       "    <tr>\n",
       "      <th>2</th>\n",
       "      <td>1.0</td>\n",
       "      <td>0.395353</td>\n",
       "      <td>1.247969</td>\n",
       "      <td>-1.262671</td>\n",
       "      <td>1.746956</td>\n",
       "      <td>-1.049132</td>\n",
       "      <td>1</td>\n",
       "      <td>True</td>\n",
       "      <td>2.389015</td>\n",
       "    </tr>\n",
       "    <tr>\n",
       "      <th>3</th>\n",
       "      <td>1.0</td>\n",
       "      <td>0.555825</td>\n",
       "      <td>-0.515795</td>\n",
       "      <td>0.968778</td>\n",
       "      <td>0.794530</td>\n",
       "      <td>0.083420</td>\n",
       "      <td>3</td>\n",
       "      <td>True</td>\n",
       "      <td>3.773919</td>\n",
       "    </tr>\n",
       "    <tr>\n",
       "      <th>4</th>\n",
       "      <td>0.0</td>\n",
       "      <td>0.370095</td>\n",
       "      <td>0.529488</td>\n",
       "      <td>-1.128482</td>\n",
       "      <td>0.574660</td>\n",
       "      <td>0.344082</td>\n",
       "      <td>1</td>\n",
       "      <td>True</td>\n",
       "      <td>1.709194</td>\n",
       "    </tr>\n",
       "    <tr>\n",
       "      <th>...</th>\n",
       "      <td>...</td>\n",
       "      <td>...</td>\n",
       "      <td>...</td>\n",
       "      <td>...</td>\n",
       "      <td>...</td>\n",
       "      <td>...</td>\n",
       "      <td>...</td>\n",
       "      <td>...</td>\n",
       "      <td>...</td>\n",
       "    </tr>\n",
       "    <tr>\n",
       "      <th>9995</th>\n",
       "      <td>1.0</td>\n",
       "      <td>0.267533</td>\n",
       "      <td>-0.207551</td>\n",
       "      <td>-0.160187</td>\n",
       "      <td>0.736287</td>\n",
       "      <td>-2.087853</td>\n",
       "      <td>3</td>\n",
       "      <td>True</td>\n",
       "      <td>2.051031</td>\n",
       "    </tr>\n",
       "    <tr>\n",
       "      <th>9996</th>\n",
       "      <td>1.0</td>\n",
       "      <td>0.397491</td>\n",
       "      <td>0.557939</td>\n",
       "      <td>-0.724363</td>\n",
       "      <td>-0.572665</td>\n",
       "      <td>-1.692130</td>\n",
       "      <td>0</td>\n",
       "      <td>True</td>\n",
       "      <td>-0.531786</td>\n",
       "    </tr>\n",
       "    <tr>\n",
       "      <th>9997</th>\n",
       "      <td>1.0</td>\n",
       "      <td>0.270106</td>\n",
       "      <td>1.133325</td>\n",
       "      <td>-0.667287</td>\n",
       "      <td>0.835520</td>\n",
       "      <td>-0.002742</td>\n",
       "      <td>2</td>\n",
       "      <td>True</td>\n",
       "      <td>2.937536</td>\n",
       "    </tr>\n",
       "    <tr>\n",
       "      <th>9998</th>\n",
       "      <td>0.0</td>\n",
       "      <td>0.996749</td>\n",
       "      <td>-1.072233</td>\n",
       "      <td>-1.060830</td>\n",
       "      <td>0.799664</td>\n",
       "      <td>-0.730401</td>\n",
       "      <td>3</td>\n",
       "      <td>True</td>\n",
       "      <td>1.604880</td>\n",
       "    </tr>\n",
       "    <tr>\n",
       "      <th>9999</th>\n",
       "      <td>1.0</td>\n",
       "      <td>0.828538</td>\n",
       "      <td>-1.289109</td>\n",
       "      <td>-0.994603</td>\n",
       "      <td>-0.546173</td>\n",
       "      <td>0.996800</td>\n",
       "      <td>0</td>\n",
       "      <td>True</td>\n",
       "      <td>-0.399108</td>\n",
       "    </tr>\n",
       "  </tbody>\n",
       "</table>\n",
       "<p>10000 rows × 9 columns</p>\n",
       "</div>"
      ],
      "text/plain": [
       "       Z0        Z1        W0        W1        W2        W3 W4    v0         y\n",
       "0     1.0  0.801152 -0.615430 -0.265658  0.755048 -0.047025  0  True  1.108415\n",
       "1     1.0  0.520679  1.183522 -1.079099  1.433327  0.555604  1  True  2.950034\n",
       "2     1.0  0.395353  1.247969 -1.262671  1.746956 -1.049132  1  True  2.389015\n",
       "3     1.0  0.555825 -0.515795  0.968778  0.794530  0.083420  3  True  3.773919\n",
       "4     0.0  0.370095  0.529488 -1.128482  0.574660  0.344082  1  True  1.709194\n",
       "...   ...       ...       ...       ...       ...       ... ..   ...       ...\n",
       "9995  1.0  0.267533 -0.207551 -0.160187  0.736287 -2.087853  3  True  2.051031\n",
       "9996  1.0  0.397491  0.557939 -0.724363 -0.572665 -1.692130  0  True -0.531786\n",
       "9997  1.0  0.270106  1.133325 -0.667287  0.835520 -0.002742  2  True  2.937536\n",
       "9998  0.0  0.996749 -1.072233 -1.060830  0.799664 -0.730401  3  True  1.604880\n",
       "9999  1.0  0.828538 -1.289109 -0.994603 -0.546173  0.996800  0  True -0.399108\n",
       "\n",
       "[10000 rows x 9 columns]"
      ]
     },
     "execution_count": 3,
     "metadata": {},
     "output_type": "execute_result"
    }
   ],
   "source": [
    "data = dowhy.datasets.linear_dataset(beta=1,\n",
    "        num_common_causes=5, \n",
    "        num_instruments = 2,\n",
    "        num_treatments=1,\n",
    "        num_discrete_common_causes=1,\n",
    "        num_samples=10000,\n",
    "        treatment_is_binary=True,\n",
    "        outcome_is_binary=False)\n",
    "df = data[\"df\"]\n",
    "print(df[df.v0==True].shape[0])\n",
    "df"
   ]
  },
  {
   "cell_type": "markdown",
   "id": "2bebaa47",
   "metadata": {},
   "source": [
    "Note that we are using a pandas dataframe to load the data."
   ]
  },
  {
   "cell_type": "markdown",
   "id": "44905fdc",
   "metadata": {},
   "source": [
    "## Identifying the causal estimand"
   ]
  },
  {
   "cell_type": "markdown",
   "id": "044b826b",
   "metadata": {},
   "source": [
    "We now input a causal graph in the GML graph format."
   ]
  },
  {
   "cell_type": "code",
   "execution_count": 4,
   "id": "6dcfc276",
   "metadata": {
    "execution": {
     "iopub.execute_input": "2022-08-18T17:46:50.485490Z",
     "iopub.status.busy": "2022-08-18T17:46:50.484333Z",
     "iopub.status.idle": "2022-08-18T17:46:50.509550Z",
     "shell.execute_reply": "2022-08-18T17:46:50.508924Z"
    }
   },
   "outputs": [],
   "source": [
    "# With graph\n",
    "model=CausalModel(\n",
    "        data = df,\n",
    "        treatment=data[\"treatment_name\"],\n",
    "        outcome=data[\"outcome_name\"],\n",
    "        graph=data[\"gml_graph\"],\n",
    "        instruments=data[\"instrument_names\"]\n",
    "        )"
   ]
  },
  {
   "cell_type": "code",
   "execution_count": 5,
   "id": "dc24af35",
   "metadata": {
    "execution": {
     "iopub.execute_input": "2022-08-18T17:46:50.512964Z",
     "iopub.status.busy": "2022-08-18T17:46:50.512596Z",
     "iopub.status.idle": "2022-08-18T17:46:50.568736Z",
     "shell.execute_reply": "2022-08-18T17:46:50.568099Z"
    }
   },
   "outputs": [],
   "source": [
    "model.view_model()"
   ]
  },
  {
   "cell_type": "code",
   "execution_count": 6,
   "id": "a636c9af",
   "metadata": {
    "execution": {
     "iopub.execute_input": "2022-08-18T17:46:50.572326Z",
     "iopub.status.busy": "2022-08-18T17:46:50.571698Z",
     "iopub.status.idle": "2022-08-18T17:46:50.598319Z",
     "shell.execute_reply": "2022-08-18T17:46:50.597671Z"
    }
   },
   "outputs": [
    {
     "data": {
      "image/png": "[encoded data removed]",
      "text/plain": [
       "<IPython.core.display.Image object>"
      ]
     },
     "metadata": {},
     "output_type": "display_data"
    }
   ],
   "source": [
    "from IPython.display import Image, display\n",
    "display(Image(filename=\"causal_model.png\"))"
   ]
  },
  {
   "cell_type": "markdown",
   "id": "4c0f7e5b",
   "metadata": {},
   "source": [
    "We get a causal graph. Now identification and estimation is done."
   ]
  },
  {
   "cell_type": "code",
   "execution_count": 7,
   "id": "9e0d49ab",
   "metadata": {
    "execution": {
     "iopub.execute_input": "2022-08-18T17:46:50.601836Z",
     "iopub.status.busy": "2022-08-18T17:46:50.601323Z",
     "iopub.status.idle": "2022-08-18T17:46:50.820275Z",
     "shell.execute_reply": "2022-08-18T17:46:50.819627Z"
    }
   },
   "outputs": [
    {
     "name": "stdout",
     "output_type": "stream",
     "text": [
      "Estimand type: nonparametric-ate\n",
      "\n",
      "### Estimand : 1\n",
      "Estimand name: backdoor\n",
      "Estimand expression:\n",
      "  d                       \n",
      "─────(E[y|W3,W2,W0,W1,W4])\n",
      "d[v₀]                     \n",
      "Estimand assumption 1, Unconfoundedness: If U→{v0} and U→y then P(y|v0,W3,W2,W0,W1,W4,U) = P(y|v0,W3,W2,W0,W1,W4)\n",
      "\n",
      "### Estimand : 2\n",
      "Estimand name: iv\n",
      "Estimand expression:\n",
      " ⎡                              -1⎤\n",
      " ⎢    d        ⎛    d          ⎞  ⎥\n",
      "E⎢─────────(y)⋅⎜─────────([v₀])⎟  ⎥\n",
      " ⎣d[Z₀  Z₁]    ⎝d[Z₀  Z₁]      ⎠  ⎦\n",
      "Estimand assumption 1, As-if-random: If U→→y then ¬(U →→{Z0,Z1})\n",
      "Estimand assumption 2, Exclusion: If we remove {Z0,Z1}→{v0}, then ¬({Z0,Z1}→y)\n",
      "\n",
      "### Estimand : 3\n",
      "Estimand name: frontdoor\n",
      "No such variable(s) found!\n",
      "\n"
     ]
    }
   ],
   "source": [
    "identified_estimand = model.identify_effect(proceed_when_unidentifiable=True)\n",
    "print(identified_estimand)"
   ]
  },
  {
   "cell_type": "markdown",
   "id": "211cfe5f",
   "metadata": {},
   "source": [
    "## Method 1: Propensity Score Stratification\n",
    "\n",
    "We will be using propensity scores to stratify units in the data."
   ]
  },
  {
   "cell_type": "code",
   "execution_count": 8,
   "id": "984a978c",
   "metadata": {
    "execution": {
     "iopub.execute_input": "2022-08-18T17:46:50.823253Z",
     "iopub.status.busy": "2022-08-18T17:46:50.823000Z",
     "iopub.status.idle": "2022-08-18T17:46:51.484273Z",
     "shell.execute_reply": "2022-08-18T17:46:51.483627Z"
    }
   },
   "outputs": [
    {
     "name": "stdout",
     "output_type": "stream",
     "text": [
      "propensity_score_stratification\n"
     ]
    },
    {
     "name": "stderr",
     "output_type": "stream",
     "text": [
      "/github/home/.cache/pypoetry/virtualenvs/dowhy-oN2hW5jr-py3.8/lib/python3.8/site-packages/sklearn/utils/validation.py:993: DataConversionWarning: A column-vector y was passed when a 1d array was expected. Please change the shape of y to (n_samples, ), for example using ravel().\n",
      "  y = column_or_1d(y, warn=True)\n"
     ]
    },
    {
     "name": "stdout",
     "output_type": "stream",
     "text": [
      "*** Causal Estimate ***\n",
      "\n",
      "## Identified estimand\n",
      "Estimand type: nonparametric-ate\n",
      "\n",
      "### Estimand : 1\n",
      "Estimand name: backdoor\n",
      "Estimand expression:\n",
      "  d                       \n",
      "─────(E[y|W3,W2,W0,W1,W4])\n",
      "d[v₀]                     \n",
      "Estimand assumption 1, Unconfoundedness: If U→{v0} and U→y then P(y|v0,W3,W2,W0,W1,W4,U) = P(y|v0,W3,W2,W0,W1,W4)\n",
      "\n",
      "## Realized estimand\n",
      "b: y~v0+W3+W2+W0+W1+W4\n",
      "Target units: att\n",
      "\n",
      "## Estimate\n",
      "Mean value: 1.0091138256673053\n",
      "\n",
      "Causal Estimate is 1.0091138256673053\n"
     ]
    }
   ],
   "source": [
    "causal_estimate_strat = model.estimate_effect(identified_estimand,\n",
    "                                              method_name=\"backdoor.propensity_score_stratification\",\n",
    "                                              target_units=\"att\")\n",
    "print(causal_estimate_strat)\n",
    "print(\"Causal Estimate is \" + str(causal_estimate_strat.value))"
   ]
  },
  {
   "cell_type": "markdown",
   "id": "fafd3c7a",
   "metadata": {},
   "source": [
    "### Textual Interpreter\n",
    "\n",
    "The textual Interpreter describes (in words) the effect of unit change in the treatment variable on the outcome variable."
   ]
  },
  {
   "cell_type": "code",
   "execution_count": 9,
   "id": "4b3fa6a6",
   "metadata": {
    "execution": {
     "iopub.execute_input": "2022-08-18T17:46:51.487071Z",
     "iopub.status.busy": "2022-08-18T17:46:51.486835Z",
     "iopub.status.idle": "2022-08-18T17:46:51.512134Z",
     "shell.execute_reply": "2022-08-18T17:46:51.511550Z"
    }
   },
   "outputs": [
    {
     "name": "stdout",
     "output_type": "stream",
     "text": [
      "Increasing the treatment variable(s) [v0] from 0 to 1 causes an increase of 1.0091138256673053 in the expected value of the outcome [y], over the data distribution/population represented by the dataset.\n"
     ]
    }
   ],
   "source": [
    "# Textual Interpreter\n",
    "interpretation = causal_estimate_strat.interpret(method_name=\"textual_effect_interpreter\")"
   ]
  },
  {
   "cell_type": "markdown",
   "id": "e158e37a",
   "metadata": {},
   "source": [
    "### Visual Interpreter\n",
    "\n",
    "The visual interpreter plots the change in the standardized mean difference (SMD) before and after Propensity Score based adjustment of the dataset. The formula for SMD is given below.\n",
    "\n",
    "\n",
    "$SMD = \\frac{\\bar X_{1} - \\bar X_{2}}{\\sqrt{(S_{1}^{2} + S_{2}^{2})/2}}$\n",
    "\n",
    "Here, $\\bar X_{1}$ and $\\bar X_{2}$ are the sample mean for the treated and control groups.\n"
   ]
  },
  {
   "cell_type": "code",
   "execution_count": 10,
   "id": "9dfb7e98",
   "metadata": {
    "execution": {
     "iopub.execute_input": "2022-08-18T17:46:51.514723Z",
     "iopub.status.busy": "2022-08-18T17:46:51.514512Z",
     "iopub.status.idle": "2022-08-18T17:46:52.439989Z",
     "shell.execute_reply": "2022-08-18T17:46:52.439375Z"
    }
   },
   "outputs": [
    {
     "data": {
      "image/png": "[encoded data removed]",
      "text/plain": [
       "<Figure size 432x288 with 1 Axes>"
      ]
     },
     "metadata": {
      "needs_background": "light"
     },
     "output_type": "display_data"
    }
   ],
   "source": [
    "# Visual Interpreter\n",
    "interpretation = causal_estimate_strat.interpret(method_name=\"propensity_balance_interpreter\")"
   ]
  },
  {
   "cell_type": "markdown",
   "id": "27315ede",
   "metadata": {},
   "source": [
    "This plot shows how the SMD decreases from the unadjusted to the stratified units. "
   ]
  },
  {
   "cell_type": "markdown",
   "id": "8f5eb6d6",
   "metadata": {},
   "source": [
    "## Method 2: Propensity Score Matching\n",
    "\n",
    "We will be using propensity scores to match units in the data."
   ]
  },
  {
   "cell_type": "code",
   "execution_count": 11,
   "id": "e2c86b7d",
   "metadata": {
    "execution": {
     "iopub.execute_input": "2022-08-18T17:46:52.443581Z",
     "iopub.status.busy": "2022-08-18T17:46:52.443091Z",
     "iopub.status.idle": "2022-08-18T17:46:56.054611Z",
     "shell.execute_reply": "2022-08-18T17:46:56.053966Z"
    }
   },
   "outputs": [
    {
     "name": "stdout",
     "output_type": "stream",
     "text": [
      "propensity_score_matching\n"
     ]
    },
    {
     "name": "stderr",
     "output_type": "stream",
     "text": [
      "/github/home/.cache/pypoetry/virtualenvs/dowhy-oN2hW5jr-py3.8/lib/python3.8/site-packages/sklearn/utils/validation.py:993: DataConversionWarning: A column-vector y was passed when a 1d array was expected. Please change the shape of y to (n_samples, ), for example using ravel().\n",
      "  y = column_or_1d(y, warn=True)\n"
     ]
    },
    {
     "name": "stdout",
     "output_type": "stream",
     "text": [
      "*** Causal Estimate ***\n",
      "\n",
      "## Identified estimand\n",
      "Estimand type: nonparametric-ate\n",
      "\n",
      "### Estimand : 1\n",
      "Estimand name: backdoor\n",
      "Estimand expression:\n",
      "  d                       \n",
      "─────(E[y|W3,W2,W0,W1,W4])\n",
      "d[v₀]                     \n",
      "Estimand assumption 1, Unconfoundedness: If U→{v0} and U→y then P(y|v0,W3,W2,W0,W1,W4,U) = P(y|v0,W3,W2,W0,W1,W4)\n",
      "\n",
      "## Realized estimand\n",
      "b: y~v0+W3+W2+W0+W1+W4\n",
      "Target units: atc\n",
      "\n",
      "## Estimate\n",
      "Mean value: 0.9867149582097786\n",
      "\n",
      "Causal Estimate is 0.9867149582097786\n"
     ]
    }
   ],
   "source": [
    "causal_estimate_match = model.estimate_effect(identified_estimand,\n",
    "                                              method_name=\"backdoor.propensity_score_matching\",\n",
    "                                              target_units=\"atc\")\n",
    "print(causal_estimate_match)\n",
    "print(\"Causal Estimate is \" + str(causal_estimate_match.value))"
   ]
  },
  {
   "cell_type": "code",
   "execution_count": 12,
   "id": "2507bf4a",
   "metadata": {
    "execution": {
     "iopub.execute_input": "2022-08-18T17:46:56.057745Z",
     "iopub.status.busy": "2022-08-18T17:46:56.057410Z",
     "iopub.status.idle": "2022-08-18T17:46:56.084540Z",
     "shell.execute_reply": "2022-08-18T17:46:56.083928Z"
    }
   },
   "outputs": [
    {
     "name": "stdout",
     "output_type": "stream",
     "text": [
      "Increasing the treatment variable(s) [v0] from 0 to 1 causes an increase of 0.9867149582097786 in the expected value of the outcome [y], over the data distribution/population represented by the dataset.\n"
     ]
    }
   ],
   "source": [
    "# Textual Interpreter\n",
    "interpretation = causal_estimate_match.interpret(method_name=\"textual_effect_interpreter\")"
   ]
  },
  {
   "cell_type": "markdown",
   "id": "94748722",
   "metadata": {},
   "source": [
    "Cannot use propensity balance interpretor here since the interpreter method only supports propensity score stratification estimator."
   ]
  },
  {
   "cell_type": "markdown",
   "id": "d9c6ba67",
   "metadata": {},
   "source": [
    "## Method 3: Weighting\n",
    "\n",
    "We will be using (inverse) propensity scores to assign weights to units in the data. DoWhy supports a few different weighting schemes:\n",
    "1. Vanilla Inverse Propensity Score weighting (IPS) (weighting_scheme=\"ips_weight\")\n",
    "2. Self-normalized IPS weighting (also known as the Hajek estimator) (weighting_scheme=\"ips_normalized_weight\")\n",
    "3. Stabilized IPS weighting (weighting_scheme = \"ips_stabilized_weight\")"
   ]
  },
  {
   "cell_type": "code",
   "execution_count": 13,
   "id": "bdcc0aac",
   "metadata": {
    "execution": {
     "iopub.execute_input": "2022-08-18T17:46:56.088155Z",
     "iopub.status.busy": "2022-08-18T17:46:56.087653Z",
     "iopub.status.idle": "2022-08-18T17:46:56.149719Z",
     "shell.execute_reply": "2022-08-18T17:46:56.149060Z"
    }
   },
   "outputs": [
    {
     "name": "stdout",
     "output_type": "stream",
     "text": [
      "propensity_score_weighting\n",
      "*** Causal Estimate ***\n",
      "\n",
      "## Identified estimand\n",
      "Estimand type: nonparametric-ate\n",
      "\n",
      "### Estimand : 1\n",
      "Estimand name: backdoor\n",
      "Estimand expression:\n",
      "  d                       \n",
      "─────(E[y|W3,W2,W0,W1,W4])\n",
      "d[v₀]                     \n",
      "Estimand assumption 1, Unconfoundedness: If U→{v0} and U→y then P(y|v0,W3,W2,W0,W1,W4,U) = P(y|v0,W3,W2,W0,W1,W4)\n",
      "\n",
      "## Realized estimand\n",
      "b: y~v0+W3+W2+W0+W1+W4\n",
      "Target units: ate\n",
      "\n",
      "## Estimate\n",
      "Mean value: 1.8412339934892434\n",
      "\n",
      "Causal Estimate is 1.8412339934892434\n"
     ]
    },
    {
     "name": "stderr",
     "output_type": "stream",
     "text": [
      "/github/home/.cache/pypoetry/virtualenvs/dowhy-oN2hW5jr-py3.8/lib/python3.8/site-packages/sklearn/utils/validation.py:993: DataConversionWarning: A column-vector y was passed when a 1d array was expected. Please change the shape of y to (n_samples, ), for example using ravel().\n",
      "  y = column_or_1d(y, warn=True)\n"
     ]
    }
   ],
   "source": [
    "causal_estimate_ipw = model.estimate_effect(identified_estimand,\n",
    "                                            method_name=\"backdoor.propensity_score_weighting\",\n",
    "                                            target_units = \"ate\",\n",
    "                                            method_params={\"weighting_scheme\":\"ips_weight\"})\n",
    "print(causal_estimate_ipw)\n",
    "print(\"Causal Estimate is \" + str(causal_estimate_ipw.value))"
   ]
  },
  {
   "cell_type": "code",
   "execution_count": 14,
   "id": "5d2a845a",
   "metadata": {
    "execution": {
     "iopub.execute_input": "2022-08-18T17:46:56.153332Z",
     "iopub.status.busy": "2022-08-18T17:46:56.152737Z",
     "iopub.status.idle": "2022-08-18T17:46:56.178951Z",
     "shell.execute_reply": "2022-08-18T17:46:56.178329Z"
    }
   },
   "outputs": [
    {
     "name": "stdout",
     "output_type": "stream",
     "text": [
      "Increasing the treatment variable(s) [v0] from 0 to 1 causes an increase of 1.8412339934892434 in the expected value of the outcome [y], over the data distribution/population represented by the dataset.\n"
     ]
    }
   ],
   "source": [
    "# Textual Interpreter\n",
    "interpretation = causal_estimate_ipw.interpret(method_name=\"textual_effect_interpreter\")"
   ]
  },
  {
   "cell_type": "code",
   "execution_count": 15,
   "id": "8c04463a",
   "metadata": {
    "execution": {
     "iopub.execute_input": "2022-08-18T17:46:56.182244Z",
     "iopub.status.busy": "2022-08-18T17:46:56.181924Z",
     "iopub.status.idle": "2022-08-18T17:46:56.413491Z",
     "shell.execute_reply": "2022-08-18T17:46:56.412904Z"
    }
   },
   "outputs": [
    {
     "data": {
      "image/png": "[encoded data removed]",
      "text/plain": [
       "<Figure size 576x576 with 2 Axes>"
      ]
     },
     "metadata": {
      "needs_background": "light"
     },
     "output_type": "display_data"
    }
   ],
   "source": [
    "interpretation = causal_estimate_ipw.interpret(method_name=\"confounder_distribution_interpreter\", fig_size=(8,8), font_size=12, var_name='W4', var_type='discrete')"
   ]
  },
  {
   "cell_type": "code",
   "execution_count": null,
   "id": "160ec15f",
   "metadata": {},
   "outputs": [],
   "source": []
  }
 ],
 "metadata": {
  "kernelspec": {
   "display_name": "Python 3",
   "language": "python",
   "name": "python3"
  },
  "language_info": {
   "codemirror_mode": {
    "name": "ipython",
    "version": 3
   },
   "file_extension": ".py",
   "mimetype": "text/x-python",
   "name": "python",
   "nbconvert_exporter": "python",
   "pygments_lexer": "ipython3",
   "version": "3.8.10"
  },
  "toc": {
   "base_numbering": 1,
   "nav_menu": {},
   "number_sections": false,
   "sideBar": true,
   "skip_h1_title": true,
   "title_cell": "Table of Contents",
   "title_sidebar": "Contents",
   "toc_cell": false,
   "toc_position": {},
   "toc_section_display": true,
   "toc_window_display": false
  }
 },
 "nbformat": 4,
 "nbformat_minor": 5
}
