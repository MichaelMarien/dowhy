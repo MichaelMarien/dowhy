{
 "cells": [
  {
   "cell_type": "markdown",
   "id": "4943551a",
   "metadata": {},
   "source": [
    "# DoWhy: Interpreters for Causal Estimators\n",
    "\n",
    "This is a quick introduction to the use of interpreters in the DoWhy causal inference library.\n",
    "We will load in a sample dataset, use different methods for estimating the causal effect of a (pre-specified)treatment variable on a (pre-specified) outcome variable and demonstrate how to interpret the obtained results.\n",
    "\n",
    "First, let us add the required path for Python to find the DoWhy code and load all required packages"
   ]
  },
  {
   "cell_type": "code",
   "execution_count": 1,
   "id": "1f84a3a0",
   "metadata": {
    "execution": {
     "iopub.execute_input": "2022-07-28T19:51:42.269614Z",
     "iopub.status.busy": "2022-07-28T19:51:42.269205Z",
     "iopub.status.idle": "2022-07-28T19:51:42.284924Z",
     "shell.execute_reply": "2022-07-28T19:51:42.284332Z"
    }
   },
   "outputs": [],
   "source": [
    "%load_ext autoreload\n",
    "%autoreload 2"
   ]
  },
  {
   "cell_type": "code",
   "execution_count": 2,
   "id": "d766b045",
   "metadata": {
    "execution": {
     "iopub.execute_input": "2022-07-28T19:51:42.287605Z",
     "iopub.status.busy": "2022-07-28T19:51:42.287406Z",
     "iopub.status.idle": "2022-07-28T19:51:43.255300Z",
     "shell.execute_reply": "2022-07-28T19:51:43.254549Z"
    }
   },
   "outputs": [
    {
     "name": "stdout",
     "output_type": "stream",
     "text": [
      "keywords are unexpanded, not using\n"
     ]
    }
   ],
   "source": [
    "import numpy as np\n",
    "import pandas as pd\n",
    "import logging\n",
    "\n",
    "import dowhy\n",
    "from dowhy import CausalModel\n",
    "import dowhy.datasets "
   ]
  },
  {
   "cell_type": "markdown",
   "id": "740b667a",
   "metadata": {},
   "source": [
    "Now, let us load a dataset. For simplicity, we simulate a dataset with linear relationships between common causes and treatment, and common causes and outcome.\n",
    "\n",
    "Beta is the true causal effect."
   ]
  },
  {
   "cell_type": "code",
   "execution_count": 3,
   "id": "954fa19d",
   "metadata": {
    "execution": {
     "iopub.execute_input": "2022-07-28T19:51:43.259377Z",
     "iopub.status.busy": "2022-07-28T19:51:43.258411Z",
     "iopub.status.idle": "2022-07-28T19:51:43.545329Z",
     "shell.execute_reply": "2022-07-28T19:51:43.544476Z"
    }
   },
   "outputs": [
    {
     "name": "stdout",
     "output_type": "stream",
     "text": [
      "8044\n"
     ]
    },
    {
     "data": {
      "text/html": [
       "<div>\n",
       "<style scoped>\n",
       "    .dataframe tbody tr th:only-of-type {\n",
       "        vertical-align: middle;\n",
       "    }\n",
       "\n",
       "    .dataframe tbody tr th {\n",
       "        vertical-align: top;\n",
       "    }\n",
       "\n",
       "    .dataframe thead th {\n",
       "        text-align: right;\n",
       "    }\n",
       "</style>\n",
       "<table border=\"1\" class=\"dataframe\">\n",
       "  <thead>\n",
       "    <tr style=\"text-align: right;\">\n",
       "      <th></th>\n",
       "      <th>Z0</th>\n",
       "      <th>Z1</th>\n",
       "      <th>W0</th>\n",
       "      <th>W1</th>\n",
       "      <th>W2</th>\n",
       "      <th>W3</th>\n",
       "      <th>W4</th>\n",
       "      <th>v0</th>\n",
       "      <th>y</th>\n",
       "    </tr>\n",
       "  </thead>\n",
       "  <tbody>\n",
       "    <tr>\n",
       "      <th>0</th>\n",
       "      <td>0.0</td>\n",
       "      <td>0.113018</td>\n",
       "      <td>0.301106</td>\n",
       "      <td>0.180919</td>\n",
       "      <td>0.585685</td>\n",
       "      <td>-0.345133</td>\n",
       "      <td>3</td>\n",
       "      <td>True</td>\n",
       "      <td>1.662648</td>\n",
       "    </tr>\n",
       "    <tr>\n",
       "      <th>1</th>\n",
       "      <td>0.0</td>\n",
       "      <td>0.601981</td>\n",
       "      <td>0.619504</td>\n",
       "      <td>-1.813532</td>\n",
       "      <td>0.454254</td>\n",
       "      <td>0.858187</td>\n",
       "      <td>0</td>\n",
       "      <td>True</td>\n",
       "      <td>1.166523</td>\n",
       "    </tr>\n",
       "    <tr>\n",
       "      <th>2</th>\n",
       "      <td>1.0</td>\n",
       "      <td>0.101220</td>\n",
       "      <td>-0.368226</td>\n",
       "      <td>-0.251329</td>\n",
       "      <td>0.918758</td>\n",
       "      <td>0.758643</td>\n",
       "      <td>3</td>\n",
       "      <td>True</td>\n",
       "      <td>2.072045</td>\n",
       "    </tr>\n",
       "    <tr>\n",
       "      <th>3</th>\n",
       "      <td>0.0</td>\n",
       "      <td>0.508584</td>\n",
       "      <td>0.527524</td>\n",
       "      <td>-0.867735</td>\n",
       "      <td>0.223006</td>\n",
       "      <td>-2.301844</td>\n",
       "      <td>1</td>\n",
       "      <td>True</td>\n",
       "      <td>0.104651</td>\n",
       "    </tr>\n",
       "    <tr>\n",
       "      <th>4</th>\n",
       "      <td>0.0</td>\n",
       "      <td>0.125303</td>\n",
       "      <td>-0.113041</td>\n",
       "      <td>-1.029480</td>\n",
       "      <td>1.474420</td>\n",
       "      <td>-0.103306</td>\n",
       "      <td>0</td>\n",
       "      <td>False</td>\n",
       "      <td>0.486476</td>\n",
       "    </tr>\n",
       "    <tr>\n",
       "      <th>...</th>\n",
       "      <td>...</td>\n",
       "      <td>...</td>\n",
       "      <td>...</td>\n",
       "      <td>...</td>\n",
       "      <td>...</td>\n",
       "      <td>...</td>\n",
       "      <td>...</td>\n",
       "      <td>...</td>\n",
       "      <td>...</td>\n",
       "    </tr>\n",
       "    <tr>\n",
       "      <th>9995</th>\n",
       "      <td>0.0</td>\n",
       "      <td>0.822834</td>\n",
       "      <td>-0.323260</td>\n",
       "      <td>1.108429</td>\n",
       "      <td>-1.353976</td>\n",
       "      <td>0.175589</td>\n",
       "      <td>3</td>\n",
       "      <td>True</td>\n",
       "      <td>0.943121</td>\n",
       "    </tr>\n",
       "    <tr>\n",
       "      <th>9996</th>\n",
       "      <td>1.0</td>\n",
       "      <td>0.507964</td>\n",
       "      <td>-0.945739</td>\n",
       "      <td>2.589727</td>\n",
       "      <td>0.029658</td>\n",
       "      <td>-0.987827</td>\n",
       "      <td>2</td>\n",
       "      <td>True</td>\n",
       "      <td>1.466987</td>\n",
       "    </tr>\n",
       "    <tr>\n",
       "      <th>9997</th>\n",
       "      <td>0.0</td>\n",
       "      <td>0.664608</td>\n",
       "      <td>0.555989</td>\n",
       "      <td>0.131003</td>\n",
       "      <td>1.358055</td>\n",
       "      <td>-1.385911</td>\n",
       "      <td>3</td>\n",
       "      <td>True</td>\n",
       "      <td>1.661229</td>\n",
       "    </tr>\n",
       "    <tr>\n",
       "      <th>9998</th>\n",
       "      <td>0.0</td>\n",
       "      <td>0.638531</td>\n",
       "      <td>0.899476</td>\n",
       "      <td>0.985800</td>\n",
       "      <td>-1.635607</td>\n",
       "      <td>-1.289087</td>\n",
       "      <td>0</td>\n",
       "      <td>True</td>\n",
       "      <td>-0.052307</td>\n",
       "    </tr>\n",
       "    <tr>\n",
       "      <th>9999</th>\n",
       "      <td>1.0</td>\n",
       "      <td>0.859875</td>\n",
       "      <td>0.770194</td>\n",
       "      <td>-0.245426</td>\n",
       "      <td>0.590736</td>\n",
       "      <td>-1.135515</td>\n",
       "      <td>0</td>\n",
       "      <td>True</td>\n",
       "      <td>0.901577</td>\n",
       "    </tr>\n",
       "  </tbody>\n",
       "</table>\n",
       "<p>10000 rows × 9 columns</p>\n",
       "</div>"
      ],
      "text/plain": [
       "       Z0        Z1        W0        W1        W2        W3 W4     v0  \\\n",
       "0     0.0  0.113018  0.301106  0.180919  0.585685 -0.345133  3   True   \n",
       "1     0.0  0.601981  0.619504 -1.813532  0.454254  0.858187  0   True   \n",
       "2     1.0  0.101220 -0.368226 -0.251329  0.918758  0.758643  3   True   \n",
       "3     0.0  0.508584  0.527524 -0.867735  0.223006 -2.301844  1   True   \n",
       "4     0.0  0.125303 -0.113041 -1.029480  1.474420 -0.103306  0  False   \n",
       "...   ...       ...       ...       ...       ...       ... ..    ...   \n",
       "9995  0.0  0.822834 -0.323260  1.108429 -1.353976  0.175589  3   True   \n",
       "9996  1.0  0.507964 -0.945739  2.589727  0.029658 -0.987827  2   True   \n",
       "9997  0.0  0.664608  0.555989  0.131003  1.358055 -1.385911  3   True   \n",
       "9998  0.0  0.638531  0.899476  0.985800 -1.635607 -1.289087  0   True   \n",
       "9999  1.0  0.859875  0.770194 -0.245426  0.590736 -1.135515  0   True   \n",
       "\n",
       "             y  \n",
       "0     1.662648  \n",
       "1     1.166523  \n",
       "2     2.072045  \n",
       "3     0.104651  \n",
       "4     0.486476  \n",
       "...        ...  \n",
       "9995  0.943121  \n",
       "9996  1.466987  \n",
       "9997  1.661229  \n",
       "9998 -0.052307  \n",
       "9999  0.901577  \n",
       "\n",
       "[10000 rows x 9 columns]"
      ]
     },
     "execution_count": 3,
     "metadata": {},
     "output_type": "execute_result"
    }
   ],
   "source": [
    "data = dowhy.datasets.linear_dataset(beta=1,\n",
    "        num_common_causes=5, \n",
    "        num_instruments = 2,\n",
    "        num_treatments=1,\n",
    "        num_discrete_common_causes=1,\n",
    "        num_samples=10000,\n",
    "        treatment_is_binary=True,\n",
    "        outcome_is_binary=False)\n",
    "df = data[\"df\"]\n",
    "print(df[df.v0==True].shape[0])\n",
    "df"
   ]
  },
  {
   "cell_type": "markdown",
   "id": "4e9af4f5",
   "metadata": {},
   "source": [
    "Note that we are using a pandas dataframe to load the data."
   ]
  },
  {
   "cell_type": "markdown",
   "id": "9228a74e",
   "metadata": {},
   "source": [
    "## Identifying the causal estimand"
   ]
  },
  {
   "cell_type": "markdown",
   "id": "f5fa035b",
   "metadata": {},
   "source": [
    "We now input a causal graph in the GML graph format."
   ]
  },
  {
   "cell_type": "code",
   "execution_count": 4,
   "id": "402ff01e",
   "metadata": {
    "execution": {
     "iopub.execute_input": "2022-07-28T19:51:43.548324Z",
     "iopub.status.busy": "2022-07-28T19:51:43.548106Z",
     "iopub.status.idle": "2022-07-28T19:51:43.571070Z",
     "shell.execute_reply": "2022-07-28T19:51:43.570506Z"
    }
   },
   "outputs": [],
   "source": [
    "# With graph\n",
    "model=CausalModel(\n",
    "        data = df,\n",
    "        treatment=data[\"treatment_name\"],\n",
    "        outcome=data[\"outcome_name\"],\n",
    "        graph=data[\"gml_graph\"],\n",
    "        instruments=data[\"instrument_names\"]\n",
    "        )"
   ]
  },
  {
   "cell_type": "code",
   "execution_count": 5,
   "id": "8164ad3c",
   "metadata": {
    "execution": {
     "iopub.execute_input": "2022-07-28T19:51:43.573923Z",
     "iopub.status.busy": "2022-07-28T19:51:43.573651Z",
     "iopub.status.idle": "2022-07-28T19:51:43.630158Z",
     "shell.execute_reply": "2022-07-28T19:51:43.629534Z"
    }
   },
   "outputs": [],
   "source": [
    "model.view_model()"
   ]
  },
  {
   "cell_type": "code",
   "execution_count": 6,
   "id": "410dd48e",
   "metadata": {
    "execution": {
     "iopub.execute_input": "2022-07-28T19:51:43.633535Z",
     "iopub.status.busy": "2022-07-28T19:51:43.633121Z",
     "iopub.status.idle": "2022-07-28T19:51:43.657734Z",
     "shell.execute_reply": "2022-07-28T19:51:43.657153Z"
    }
   },
   "outputs": [
    {
     "data": {
      "image/png": "[encoded data removed]",
      "text/plain": [
       "<IPython.core.display.Image object>"
      ]
     },
     "metadata": {},
     "output_type": "display_data"
    }
   ],
   "source": [
    "from IPython.display import Image, display\n",
    "display(Image(filename=\"causal_model.png\"))"
   ]
  },
  {
   "cell_type": "markdown",
   "id": "02d6c53c",
   "metadata": {},
   "source": [
    "We get a causal graph. Now identification and estimation is done."
   ]
  },
  {
   "cell_type": "code",
   "execution_count": 7,
   "id": "f810c19d",
   "metadata": {
    "execution": {
     "iopub.execute_input": "2022-07-28T19:51:43.660937Z",
     "iopub.status.busy": "2022-07-28T19:51:43.660612Z",
     "iopub.status.idle": "2022-07-28T19:51:43.878257Z",
     "shell.execute_reply": "2022-07-28T19:51:43.877197Z"
    }
   },
   "outputs": [
    {
     "name": "stdout",
     "output_type": "stream",
     "text": [
      "Estimand type: nonparametric-ate\n",
      "\n",
      "### Estimand : 1\n",
      "Estimand name: backdoor\n",
      "Estimand expression:\n",
      "  d                       \n",
      "─────(E[y|W0,W3,W1,W4,W2])\n",
      "d[v₀]                     \n",
      "Estimand assumption 1, Unconfoundedness: If U→{v0} and U→y then P(y|v0,W0,W3,W1,W4,W2,U) = P(y|v0,W0,W3,W1,W4,W2)\n",
      "\n",
      "### Estimand : 2\n",
      "Estimand name: iv\n",
      "Estimand expression:\n",
      " ⎡                              -1⎤\n",
      " ⎢    d        ⎛    d          ⎞  ⎥\n",
      "E⎢─────────(y)⋅⎜─────────([v₀])⎟  ⎥\n",
      " ⎣d[Z₀  Z₁]    ⎝d[Z₀  Z₁]      ⎠  ⎦\n",
      "Estimand assumption 1, As-if-random: If U→→y then ¬(U →→{Z0,Z1})\n",
      "Estimand assumption 2, Exclusion: If we remove {Z0,Z1}→{v0}, then ¬({Z0,Z1}→y)\n",
      "\n",
      "### Estimand : 3\n",
      "Estimand name: frontdoor\n",
      "No such variable(s) found!\n",
      "\n"
     ]
    }
   ],
   "source": [
    "identified_estimand = model.identify_effect(proceed_when_unidentifiable=True)\n",
    "print(identified_estimand)"
   ]
  },
  {
   "cell_type": "markdown",
   "id": "687b810f",
   "metadata": {},
   "source": [
    "## Method 1: Propensity Score Stratification\n",
    "\n",
    "We will be using propensity scores to stratify units in the data."
   ]
  },
  {
   "cell_type": "code",
   "execution_count": 8,
   "id": "4f61e1c0",
   "metadata": {
    "execution": {
     "iopub.execute_input": "2022-07-28T19:51:43.881206Z",
     "iopub.status.busy": "2022-07-28T19:51:43.880990Z",
     "iopub.status.idle": "2022-07-28T19:51:44.467095Z",
     "shell.execute_reply": "2022-07-28T19:51:44.466469Z"
    }
   },
   "outputs": [
    {
     "name": "stdout",
     "output_type": "stream",
     "text": [
      "propensity_score_stratification\n"
     ]
    },
    {
     "name": "stderr",
     "output_type": "stream",
     "text": [
      "/usr/local/lib/python3.8/dist-packages/sklearn/utils/validation.py:993: DataConversionWarning: A column-vector y was passed when a 1d array was expected. Please change the shape of y to (n_samples, ), for example using ravel().\n",
      "  y = column_or_1d(y, warn=True)\n"
     ]
    },
    {
     "name": "stdout",
     "output_type": "stream",
     "text": [
      "*** Causal Estimate ***\n",
      "\n",
      "## Identified estimand\n",
      "Estimand type: nonparametric-ate\n",
      "\n",
      "### Estimand : 1\n",
      "Estimand name: backdoor\n",
      "Estimand expression:\n",
      "  d                       \n",
      "─────(E[y|W0,W3,W1,W4,W2])\n",
      "d[v₀]                     \n",
      "Estimand assumption 1, Unconfoundedness: If U→{v0} and U→y then P(y|v0,W0,W3,W1,W4,W2,U) = P(y|v0,W0,W3,W1,W4,W2)\n",
      "\n",
      "## Realized estimand\n",
      "b: y~v0+W0+W3+W1+W4+W2\n",
      "Target units: att\n",
      "\n",
      "## Estimate\n",
      "Mean value: 1.021134869011138\n",
      "\n",
      "Causal Estimate is 1.021134869011138\n"
     ]
    }
   ],
   "source": [
    "causal_estimate_strat = model.estimate_effect(identified_estimand,\n",
    "                                              method_name=\"backdoor.propensity_score_stratification\",\n",
    "                                              target_units=\"att\")\n",
    "print(causal_estimate_strat)\n",
    "print(\"Causal Estimate is \" + str(causal_estimate_strat.value))"
   ]
  },
  {
   "cell_type": "markdown",
   "id": "9f899781",
   "metadata": {},
   "source": [
    "### Textual Interpreter\n",
    "\n",
    "The textual Interpreter describes (in words) the effect of unit change in the treatment variable on the outcome variable."
   ]
  },
  {
   "cell_type": "code",
   "execution_count": 9,
   "id": "1531ad05",
   "metadata": {
    "execution": {
     "iopub.execute_input": "2022-07-28T19:51:44.470116Z",
     "iopub.status.busy": "2022-07-28T19:51:44.469900Z",
     "iopub.status.idle": "2022-07-28T19:51:44.493977Z",
     "shell.execute_reply": "2022-07-28T19:51:44.493368Z"
    }
   },
   "outputs": [
    {
     "name": "stdout",
     "output_type": "stream",
     "text": [
      "Increasing the treatment variable(s) [v0] from 0 to 1 causes an increase of 1.021134869011138 in the expected value of the outcome [y], over the data distribution/population represented by the dataset.\n"
     ]
    }
   ],
   "source": [
    "# Textual Interpreter\n",
    "interpretation = causal_estimate_strat.interpret(method_name=\"textual_effect_interpreter\")"
   ]
  },
  {
   "cell_type": "markdown",
   "id": "ab1093ef",
   "metadata": {},
   "source": [
    "### Visual Interpreter\n",
    "\n",
    "The visual interpreter plots the change in the standardized mean difference (SMD) before and after Propensity Score based adjustment of the dataset. The formula for SMD is given below.\n",
    "\n",
    "\n",
    "$SMD = \\frac{\\bar X_{1} - \\bar X_{2}}{\\sqrt{(S_{1}^{2} + S_{2}^{2})/2}}$\n",
    "\n",
    "Here, $\\bar X_{1}$ and $\\bar X_{2}$ are the sample mean for the treated and control groups.\n"
   ]
  },
  {
   "cell_type": "code",
   "execution_count": 10,
   "id": "cec6d53c",
   "metadata": {
    "execution": {
     "iopub.execute_input": "2022-07-28T19:51:44.497098Z",
     "iopub.status.busy": "2022-07-28T19:51:44.496713Z",
     "iopub.status.idle": "2022-07-28T19:51:45.679408Z",
     "shell.execute_reply": "2022-07-28T19:51:45.678809Z"
    }
   },
   "outputs": [
    {
     "data": {
      "image/png": "[encoded data removed]",
      "text/plain": [
       "<Figure size 432x288 with 1 Axes>"
      ]
     },
     "metadata": {
      "needs_background": "light"
     },
     "output_type": "display_data"
    }
   ],
   "source": [
    "# Visual Interpreter\n",
    "interpretation = causal_estimate_strat.interpret(method_name=\"propensity_balance_interpreter\")"
   ]
  },
  {
   "cell_type": "markdown",
   "id": "681d47fb",
   "metadata": {},
   "source": [
    "This plot shows how the SMD decreases from the unadjusted to the stratified units. "
   ]
  },
  {
   "cell_type": "markdown",
   "id": "0f1782ec",
   "metadata": {},
   "source": [
    "## Method 2: Propensity Score Matching\n",
    "\n",
    "We will be using propensity scores to match units in the data."
   ]
  },
  {
   "cell_type": "code",
   "execution_count": 11,
   "id": "f5a4e18a",
   "metadata": {
    "execution": {
     "iopub.execute_input": "2022-07-28T19:51:45.683781Z",
     "iopub.status.busy": "2022-07-28T19:51:45.682518Z",
     "iopub.status.idle": "2022-07-28T19:51:49.263403Z",
     "shell.execute_reply": "2022-07-28T19:51:49.262779Z"
    }
   },
   "outputs": [
    {
     "name": "stdout",
     "output_type": "stream",
     "text": [
      "propensity_score_matching\n"
     ]
    },
    {
     "name": "stderr",
     "output_type": "stream",
     "text": [
      "/usr/local/lib/python3.8/dist-packages/sklearn/utils/validation.py:993: DataConversionWarning: A column-vector y was passed when a 1d array was expected. Please change the shape of y to (n_samples, ), for example using ravel().\n",
      "  y = column_or_1d(y, warn=True)\n"
     ]
    },
    {
     "name": "stdout",
     "output_type": "stream",
     "text": [
      "*** Causal Estimate ***\n",
      "\n",
      "## Identified estimand\n",
      "Estimand type: nonparametric-ate\n",
      "\n",
      "### Estimand : 1\n",
      "Estimand name: backdoor\n",
      "Estimand expression:\n",
      "  d                       \n",
      "─────(E[y|W0,W3,W1,W4,W2])\n",
      "d[v₀]                     \n",
      "Estimand assumption 1, Unconfoundedness: If U→{v0} and U→y then P(y|v0,W0,W3,W1,W4,W2,U) = P(y|v0,W0,W3,W1,W4,W2)\n",
      "\n",
      "## Realized estimand\n",
      "b: y~v0+W0+W3+W1+W4+W2\n",
      "Target units: atc\n",
      "\n",
      "## Estimate\n",
      "Mean value: 1.0191678064384762\n",
      "\n",
      "Causal Estimate is 1.0191678064384762\n"
     ]
    }
   ],
   "source": [
    "causal_estimate_match = model.estimate_effect(identified_estimand,\n",
    "                                              method_name=\"backdoor.propensity_score_matching\",\n",
    "                                              target_units=\"atc\")\n",
    "print(causal_estimate_match)\n",
    "print(\"Causal Estimate is \" + str(causal_estimate_match.value))"
   ]
  },
  {
   "cell_type": "code",
   "execution_count": 12,
   "id": "989bd8be",
   "metadata": {
    "execution": {
     "iopub.execute_input": "2022-07-28T19:51:49.266356Z",
     "iopub.status.busy": "2022-07-28T19:51:49.266023Z",
     "iopub.status.idle": "2022-07-28T19:51:49.289757Z",
     "shell.execute_reply": "2022-07-28T19:51:49.289153Z"
    }
   },
   "outputs": [
    {
     "name": "stdout",
     "output_type": "stream",
     "text": [
      "Increasing the treatment variable(s) [v0] from 0 to 1 causes an increase of 1.0191678064384762 in the expected value of the outcome [y], over the data distribution/population represented by the dataset.\n"
     ]
    }
   ],
   "source": [
    "# Textual Interpreter\n",
    "interpretation = causal_estimate_match.interpret(method_name=\"textual_effect_interpreter\")"
   ]
  },
  {
   "cell_type": "markdown",
   "id": "3a9a7b6c",
   "metadata": {},
   "source": [
    "Cannot use propensity balance interpretor here since the interpreter method only supports propensity score stratification estimator."
   ]
  },
  {
   "cell_type": "markdown",
   "id": "09375e65",
   "metadata": {},
   "source": [
    "## Method 3: Weighting\n",
    "\n",
    "We will be using (inverse) propensity scores to assign weights to units in the data. DoWhy supports a few different weighting schemes:\n",
    "1. Vanilla Inverse Propensity Score weighting (IPS) (weighting_scheme=\"ips_weight\")\n",
    "2. Self-normalized IPS weighting (also known as the Hajek estimator) (weighting_scheme=\"ips_normalized_weight\")\n",
    "3. Stabilized IPS weighting (weighting_scheme = \"ips_stabilized_weight\")"
   ]
  },
  {
   "cell_type": "code",
   "execution_count": 13,
   "id": "ffc53792",
   "metadata": {
    "execution": {
     "iopub.execute_input": "2022-07-28T19:51:49.292381Z",
     "iopub.status.busy": "2022-07-28T19:51:49.292178Z",
     "iopub.status.idle": "2022-07-28T19:51:49.351333Z",
     "shell.execute_reply": "2022-07-28T19:51:49.350718Z"
    }
   },
   "outputs": [
    {
     "name": "stdout",
     "output_type": "stream",
     "text": [
      "propensity_score_weighting\n",
      "*** Causal Estimate ***\n",
      "\n",
      "## Identified estimand\n",
      "Estimand type: nonparametric-ate\n",
      "\n",
      "### Estimand : 1\n",
      "Estimand name: backdoor\n",
      "Estimand expression:\n",
      "  d                       \n",
      "─────(E[y|W0,W3,W1,W4,W2])\n",
      "d[v₀]                     \n",
      "Estimand assumption 1, Unconfoundedness: If U→{v0} and U→y then P(y|v0,W0,W3,W1,W4,W2,U) = P(y|v0,W0,W3,W1,W4,W2)\n",
      "\n",
      "## Realized estimand\n",
      "b: y~v0+W0+W3+W1+W4+W2\n",
      "Target units: ate\n",
      "\n",
      "## Estimate\n",
      "Mean value: 1.034165385671401\n",
      "\n",
      "Causal Estimate is 1.034165385671401\n"
     ]
    },
    {
     "name": "stderr",
     "output_type": "stream",
     "text": [
      "/usr/local/lib/python3.8/dist-packages/sklearn/utils/validation.py:993: DataConversionWarning: A column-vector y was passed when a 1d array was expected. Please change the shape of y to (n_samples, ), for example using ravel().\n",
      "  y = column_or_1d(y, warn=True)\n"
     ]
    }
   ],
   "source": [
    "causal_estimate_ipw = model.estimate_effect(identified_estimand,\n",
    "                                            method_name=\"backdoor.propensity_score_weighting\",\n",
    "                                            target_units = \"ate\",\n",
    "                                            method_params={\"weighting_scheme\":\"ips_weight\"})\n",
    "print(causal_estimate_ipw)\n",
    "print(\"Causal Estimate is \" + str(causal_estimate_ipw.value))"
   ]
  },
  {
   "cell_type": "code",
   "execution_count": 14,
   "id": "0e5ade67",
   "metadata": {
    "execution": {
     "iopub.execute_input": "2022-07-28T19:51:49.354521Z",
     "iopub.status.busy": "2022-07-28T19:51:49.354196Z",
     "iopub.status.idle": "2022-07-28T19:51:49.378600Z",
     "shell.execute_reply": "2022-07-28T19:51:49.377998Z"
    }
   },
   "outputs": [
    {
     "name": "stdout",
     "output_type": "stream",
     "text": [
      "Increasing the treatment variable(s) [v0] from 0 to 1 causes an increase of 1.034165385671401 in the expected value of the outcome [y], over the data distribution/population represented by the dataset.\n"
     ]
    }
   ],
   "source": [
    "# Textual Interpreter\n",
    "interpretation = causal_estimate_ipw.interpret(method_name=\"textual_effect_interpreter\")"
   ]
  },
  {
   "cell_type": "code",
   "execution_count": 15,
   "id": "af5a9871",
   "metadata": {
    "execution": {
     "iopub.execute_input": "2022-07-28T19:51:49.381760Z",
     "iopub.status.busy": "2022-07-28T19:51:49.381539Z",
     "iopub.status.idle": "2022-07-28T19:51:49.613828Z",
     "shell.execute_reply": "2022-07-28T19:51:49.613163Z"
    }
   },
   "outputs": [
    {
     "data": {
      "image/png": "[encoded data removed]",
      "text/plain": [
       "<Figure size 576x576 with 2 Axes>"
      ]
     },
     "metadata": {
      "needs_background": "light"
     },
     "output_type": "display_data"
    }
   ],
   "source": [
    "interpretation = causal_estimate_ipw.interpret(method_name=\"confounder_distribution_interpreter\", fig_size=(8,8), font_size=12, var_name='W4', var_type='discrete')"
   ]
  },
  {
   "cell_type": "code",
   "execution_count": null,
   "id": "5c98e1b3",
   "metadata": {},
   "outputs": [],
   "source": []
  }
 ],
 "metadata": {
  "kernelspec": {
   "display_name": "Python 3",
   "language": "python",
   "name": "python3"
  },
  "language_info": {
   "codemirror_mode": {
    "name": "ipython",
    "version": 3
   },
   "file_extension": ".py",
   "mimetype": "text/x-python",
   "name": "python",
   "nbconvert_exporter": "python",
   "pygments_lexer": "ipython3",
   "version": "3.8.10"
  },
  "toc": {
   "base_numbering": 1,
   "nav_menu": {},
   "number_sections": false,
   "sideBar": true,
   "skip_h1_title": true,
   "title_cell": "Table of Contents",
   "title_sidebar": "Contents",
   "toc_cell": false,
   "toc_position": {},
   "toc_section_display": true,
   "toc_window_display": false
  }
 },
 "nbformat": 4,
 "nbformat_minor": 5
}
