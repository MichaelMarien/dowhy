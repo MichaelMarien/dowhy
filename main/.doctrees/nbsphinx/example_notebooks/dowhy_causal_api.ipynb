{
 "cells": [
  {
   "cell_type": "markdown",
   "metadata": {},
   "source": [
    "# Demo for the DoWhy causal API\n",
    "We show a simple example of adding a causal extension to any dataframe. "
   ]
  },
  {
   "cell_type": "code",
   "execution_count": 1,
   "metadata": {
    "execution": {
     "iopub.execute_input": "2022-08-18T18:12:44.944265Z",
     "iopub.status.busy": "2022-08-18T18:12:44.944008Z",
     "iopub.status.idle": "2022-08-18T18:12:46.038332Z",
     "shell.execute_reply": "2022-08-18T18:12:46.037645Z"
    }
   },
   "outputs": [],
   "source": [
    "import dowhy.datasets\n",
    "import dowhy.api\n",
    "\n",
    "import numpy as np\n",
    "import pandas as pd\n",
    "\n",
    "from statsmodels.api import OLS"
   ]
  },
  {
   "cell_type": "code",
   "execution_count": 2,
   "metadata": {
    "execution": {
     "iopub.execute_input": "2022-08-18T18:12:46.042477Z",
     "iopub.status.busy": "2022-08-18T18:12:46.041820Z",
     "iopub.status.idle": "2022-08-18T18:12:46.082866Z",
     "shell.execute_reply": "2022-08-18T18:12:46.082240Z"
    }
   },
   "outputs": [
    {
     "data": {
      "text/html": [
       "<div>\n",
       "<style scoped>\n",
       "    .dataframe tbody tr th:only-of-type {\n",
       "        vertical-align: middle;\n",
       "    }\n",
       "\n",
       "    .dataframe tbody tr th {\n",
       "        vertical-align: top;\n",
       "    }\n",
       "\n",
       "    .dataframe thead th {\n",
       "        text-align: right;\n",
       "    }\n",
       "</style>\n",
       "<table border=\"1\" class=\"dataframe\">\n",
       "  <thead>\n",
       "    <tr style=\"text-align: right;\">\n",
       "      <th></th>\n",
       "      <th>W0</th>\n",
       "      <th>v0</th>\n",
       "      <th>y</th>\n",
       "    </tr>\n",
       "  </thead>\n",
       "  <tbody>\n",
       "    <tr>\n",
       "      <th>0</th>\n",
       "      <td>1.150107</td>\n",
       "      <td>True</td>\n",
       "      <td>8.566190</td>\n",
       "    </tr>\n",
       "    <tr>\n",
       "      <th>1</th>\n",
       "      <td>0.194132</td>\n",
       "      <td>False</td>\n",
       "      <td>-0.399928</td>\n",
       "    </tr>\n",
       "    <tr>\n",
       "      <th>2</th>\n",
       "      <td>0.125770</td>\n",
       "      <td>True</td>\n",
       "      <td>6.156362</td>\n",
       "    </tr>\n",
       "    <tr>\n",
       "      <th>3</th>\n",
       "      <td>-0.892743</td>\n",
       "      <td>False</td>\n",
       "      <td>-1.667940</td>\n",
       "    </tr>\n",
       "    <tr>\n",
       "      <th>4</th>\n",
       "      <td>0.220855</td>\n",
       "      <td>True</td>\n",
       "      <td>4.663174</td>\n",
       "    </tr>\n",
       "    <tr>\n",
       "      <th>...</th>\n",
       "      <td>...</td>\n",
       "      <td>...</td>\n",
       "      <td>...</td>\n",
       "    </tr>\n",
       "    <tr>\n",
       "      <th>995</th>\n",
       "      <td>0.635961</td>\n",
       "      <td>True</td>\n",
       "      <td>5.277604</td>\n",
       "    </tr>\n",
       "    <tr>\n",
       "      <th>996</th>\n",
       "      <td>0.427099</td>\n",
       "      <td>False</td>\n",
       "      <td>0.899574</td>\n",
       "    </tr>\n",
       "    <tr>\n",
       "      <th>997</th>\n",
       "      <td>-0.182966</td>\n",
       "      <td>False</td>\n",
       "      <td>-0.179757</td>\n",
       "    </tr>\n",
       "    <tr>\n",
       "      <th>998</th>\n",
       "      <td>2.231956</td>\n",
       "      <td>True</td>\n",
       "      <td>8.861955</td>\n",
       "    </tr>\n",
       "    <tr>\n",
       "      <th>999</th>\n",
       "      <td>0.805094</td>\n",
       "      <td>True</td>\n",
       "      <td>7.885356</td>\n",
       "    </tr>\n",
       "  </tbody>\n",
       "</table>\n",
       "<p>1000 rows × 3 columns</p>\n",
       "</div>"
      ],
      "text/plain": [
       "           W0     v0         y\n",
       "0    1.150107   True  8.566190\n",
       "1    0.194132  False -0.399928\n",
       "2    0.125770   True  6.156362\n",
       "3   -0.892743  False -1.667940\n",
       "4    0.220855   True  4.663174\n",
       "..        ...    ...       ...\n",
       "995  0.635961   True  5.277604\n",
       "996  0.427099  False  0.899574\n",
       "997 -0.182966  False -0.179757\n",
       "998  2.231956   True  8.861955\n",
       "999  0.805094   True  7.885356\n",
       "\n",
       "[1000 rows x 3 columns]"
      ]
     },
     "execution_count": 2,
     "metadata": {},
     "output_type": "execute_result"
    }
   ],
   "source": [
    "data = dowhy.datasets.linear_dataset(beta=5,\n",
    "        num_common_causes=1,\n",
    "        num_instruments = 0,\n",
    "        num_samples=1000,\n",
    "        treatment_is_binary=True)\n",
    "df = data['df']\n",
    "df['y'] = df['y'] + np.random.normal(size=len(df)) # Adding noise to data. Without noise, the variance in Y|X, Z is zero, and mcmc fails.\n",
    "#data['dot_graph'] = 'digraph { v ->y;X0-> v;X0-> y;}'\n",
    "\n",
    "treatment= data[\"treatment_name\"][0]\n",
    "outcome = data[\"outcome_name\"][0]\n",
    "common_cause = data[\"common_causes_names\"][0]\n",
    "df"
   ]
  },
  {
   "cell_type": "code",
   "execution_count": 3,
   "metadata": {
    "execution": {
     "iopub.execute_input": "2022-08-18T18:12:46.086103Z",
     "iopub.status.busy": "2022-08-18T18:12:46.085550Z",
     "iopub.status.idle": "2022-08-18T18:12:46.833132Z",
     "shell.execute_reply": "2022-08-18T18:12:46.832559Z"
    }
   },
   "outputs": [
    {
     "data": {
      "text/plain": [
       "<AxesSubplot:xlabel='v0'>"
      ]
     },
     "execution_count": 3,
     "metadata": {},
     "output_type": "execute_result"
    },
    {
     "data": {
      "image/png": "[encoded data removed]",
      "text/plain": [
       "<Figure size 432x288 with 1 Axes>"
      ]
     },
     "metadata": {
      "needs_background": "light"
     },
     "output_type": "display_data"
    }
   ],
   "source": [
    "# data['df'] is just a regular pandas.DataFrame\n",
    "df.causal.do(x=treatment,\n",
    "                     variable_types={treatment: 'b', outcome: 'c', common_cause: 'c'},\n",
    "                     outcome=outcome,\n",
    "                     common_causes=[common_cause],\n",
    "                     proceed_when_unidentifiable=True).groupby(treatment).mean().plot(y=outcome, kind='bar')"
   ]
  },
  {
   "cell_type": "code",
   "execution_count": 4,
   "metadata": {
    "execution": {
     "iopub.execute_input": "2022-08-18T18:12:46.837602Z",
     "iopub.status.busy": "2022-08-18T18:12:46.836423Z",
     "iopub.status.idle": "2022-08-18T18:12:46.936421Z",
     "shell.execute_reply": "2022-08-18T18:12:46.935872Z"
    }
   },
   "outputs": [
    {
     "data": {
      "text/plain": [
       "<AxesSubplot:xlabel='v0'>"
      ]
     },
     "execution_count": 4,
     "metadata": {},
     "output_type": "execute_result"
    },
    {
     "data": {
      "image/png": "[encoded data removed]",
      "text/plain": [
       "<Figure size 432x288 with 1 Axes>"
      ]
     },
     "metadata": {
      "needs_background": "light"
     },
     "output_type": "display_data"
    }
   ],
   "source": [
    "df.causal.do(x={treatment: 1}, \n",
    "              variable_types={treatment:'b', outcome: 'c', common_cause: 'c'}, \n",
    "              outcome=outcome,\n",
    "              method='weighting', \n",
    "              common_causes=[common_cause],\n",
    "              proceed_when_unidentifiable=True).groupby(treatment).mean().plot(y=outcome, kind='bar')"
   ]
  },
  {
   "cell_type": "code",
   "execution_count": 5,
   "metadata": {
    "execution": {
     "iopub.execute_input": "2022-08-18T18:12:46.940674Z",
     "iopub.status.busy": "2022-08-18T18:12:46.939667Z",
     "iopub.status.idle": "2022-08-18T18:12:46.971943Z",
     "shell.execute_reply": "2022-08-18T18:12:46.971305Z"
    }
   },
   "outputs": [],
   "source": [
    "cdf_1 = df.causal.do(x={treatment: 1}, \n",
    "              variable_types={treatment: 'b', outcome: 'c', common_cause: 'c'}, \n",
    "              outcome=outcome, \n",
    "              dot_graph=data['dot_graph'],\n",
    "              proceed_when_unidentifiable=True)\n",
    "\n",
    "cdf_0 = df.causal.do(x={treatment: 0}, \n",
    "              variable_types={treatment: 'b', outcome: 'c', common_cause: 'c'}, \n",
    "              outcome=outcome, \n",
    "              dot_graph=data['dot_graph'],\n",
    "              proceed_when_unidentifiable=True)\n"
   ]
  },
  {
   "cell_type": "code",
   "execution_count": 6,
   "metadata": {
    "execution": {
     "iopub.execute_input": "2022-08-18T18:12:46.975333Z",
     "iopub.status.busy": "2022-08-18T18:12:46.974729Z",
     "iopub.status.idle": "2022-08-18T18:12:46.987645Z",
     "shell.execute_reply": "2022-08-18T18:12:46.987046Z"
    },
    "scrolled": true
   },
   "outputs": [
    {
     "data": {
      "text/html": [
       "<div>\n",
       "<style scoped>\n",
       "    .dataframe tbody tr th:only-of-type {\n",
       "        vertical-align: middle;\n",
       "    }\n",
       "\n",
       "    .dataframe tbody tr th {\n",
       "        vertical-align: top;\n",
       "    }\n",
       "\n",
       "    .dataframe thead th {\n",
       "        text-align: right;\n",
       "    }\n",
       "</style>\n",
       "<table border=\"1\" class=\"dataframe\">\n",
       "  <thead>\n",
       "    <tr style=\"text-align: right;\">\n",
       "      <th></th>\n",
       "      <th>W0</th>\n",
       "      <th>v0</th>\n",
       "      <th>y</th>\n",
       "      <th>propensity_score</th>\n",
       "      <th>weight</th>\n",
       "    </tr>\n",
       "  </thead>\n",
       "  <tbody>\n",
       "    <tr>\n",
       "      <th>0</th>\n",
       "      <td>2.146170</td>\n",
       "      <td>False</td>\n",
       "      <td>6.422988</td>\n",
       "      <td>0.006378</td>\n",
       "      <td>156.791176</td>\n",
       "    </tr>\n",
       "    <tr>\n",
       "      <th>1</th>\n",
       "      <td>-1.761655</td>\n",
       "      <td>False</td>\n",
       "      <td>-3.056198</td>\n",
       "      <td>0.985329</td>\n",
       "      <td>1.014889</td>\n",
       "    </tr>\n",
       "    <tr>\n",
       "      <th>2</th>\n",
       "      <td>1.765596</td>\n",
       "      <td>False</td>\n",
       "      <td>2.974084</td>\n",
       "      <td>0.015564</td>\n",
       "      <td>64.252205</td>\n",
       "    </tr>\n",
       "    <tr>\n",
       "      <th>3</th>\n",
       "      <td>-0.032523</td>\n",
       "      <td>False</td>\n",
       "      <td>0.129383</td>\n",
       "      <td>0.527895</td>\n",
       "      <td>1.894317</td>\n",
       "    </tr>\n",
       "    <tr>\n",
       "      <th>4</th>\n",
       "      <td>-0.514159</td>\n",
       "      <td>False</td>\n",
       "      <td>-2.653901</td>\n",
       "      <td>0.777723</td>\n",
       "      <td>1.285805</td>\n",
       "    </tr>\n",
       "    <tr>\n",
       "      <th>...</th>\n",
       "      <td>...</td>\n",
       "      <td>...</td>\n",
       "      <td>...</td>\n",
       "      <td>...</td>\n",
       "      <td>...</td>\n",
       "    </tr>\n",
       "    <tr>\n",
       "      <th>995</th>\n",
       "      <td>0.942800</td>\n",
       "      <td>False</td>\n",
       "      <td>1.790180</td>\n",
       "      <td>0.099899</td>\n",
       "      <td>10.010105</td>\n",
       "    </tr>\n",
       "    <tr>\n",
       "      <th>996</th>\n",
       "      <td>1.202630</td>\n",
       "      <td>False</td>\n",
       "      <td>3.393589</td>\n",
       "      <td>0.056586</td>\n",
       "      <td>17.672337</td>\n",
       "    </tr>\n",
       "    <tr>\n",
       "      <th>997</th>\n",
       "      <td>0.692021</td>\n",
       "      <td>False</td>\n",
       "      <td>1.052235</td>\n",
       "      <td>0.167371</td>\n",
       "      <td>5.974767</td>\n",
       "    </tr>\n",
       "    <tr>\n",
       "      <th>998</th>\n",
       "      <td>-1.349496</td>\n",
       "      <td>False</td>\n",
       "      <td>-2.759362</td>\n",
       "      <td>0.961982</td>\n",
       "      <td>1.039521</td>\n",
       "    </tr>\n",
       "    <tr>\n",
       "      <th>999</th>\n",
       "      <td>-0.344461</td>\n",
       "      <td>False</td>\n",
       "      <td>-1.394522</td>\n",
       "      <td>0.700676</td>\n",
       "      <td>1.427194</td>\n",
       "    </tr>\n",
       "  </tbody>\n",
       "</table>\n",
       "<p>1000 rows × 5 columns</p>\n",
       "</div>"
      ],
      "text/plain": [
       "           W0     v0         y  propensity_score      weight\n",
       "0    2.146170  False  6.422988          0.006378  156.791176\n",
       "1   -1.761655  False -3.056198          0.985329    1.014889\n",
       "2    1.765596  False  2.974084          0.015564   64.252205\n",
       "3   -0.032523  False  0.129383          0.527895    1.894317\n",
       "4   -0.514159  False -2.653901          0.777723    1.285805\n",
       "..        ...    ...       ...               ...         ...\n",
       "995  0.942800  False  1.790180          0.099899   10.010105\n",
       "996  1.202630  False  3.393589          0.056586   17.672337\n",
       "997  0.692021  False  1.052235          0.167371    5.974767\n",
       "998 -1.349496  False -2.759362          0.961982    1.039521\n",
       "999 -0.344461  False -1.394522          0.700676    1.427194\n",
       "\n",
       "[1000 rows x 5 columns]"
      ]
     },
     "execution_count": 6,
     "metadata": {},
     "output_type": "execute_result"
    }
   ],
   "source": [
    "cdf_0"
   ]
  },
  {
   "cell_type": "code",
   "execution_count": 7,
   "metadata": {
    "execution": {
     "iopub.execute_input": "2022-08-18T18:12:46.990782Z",
     "iopub.status.busy": "2022-08-18T18:12:46.990435Z",
     "iopub.status.idle": "2022-08-18T18:12:47.002927Z",
     "shell.execute_reply": "2022-08-18T18:12:47.002311Z"
    }
   },
   "outputs": [
    {
     "data": {
      "text/html": [
       "<div>\n",
       "<style scoped>\n",
       "    .dataframe tbody tr th:only-of-type {\n",
       "        vertical-align: middle;\n",
       "    }\n",
       "\n",
       "    .dataframe tbody tr th {\n",
       "        vertical-align: top;\n",
       "    }\n",
       "\n",
       "    .dataframe thead th {\n",
       "        text-align: right;\n",
       "    }\n",
       "</style>\n",
       "<table border=\"1\" class=\"dataframe\">\n",
       "  <thead>\n",
       "    <tr style=\"text-align: right;\">\n",
       "      <th></th>\n",
       "      <th>W0</th>\n",
       "      <th>v0</th>\n",
       "      <th>y</th>\n",
       "      <th>propensity_score</th>\n",
       "      <th>weight</th>\n",
       "    </tr>\n",
       "  </thead>\n",
       "  <tbody>\n",
       "    <tr>\n",
       "      <th>0</th>\n",
       "      <td>0.393705</td>\n",
       "      <td>True</td>\n",
       "      <td>4.549113</td>\n",
       "      <td>0.710502</td>\n",
       "      <td>1.407456</td>\n",
       "    </tr>\n",
       "    <tr>\n",
       "      <th>1</th>\n",
       "      <td>-0.581491</td>\n",
       "      <td>True</td>\n",
       "      <td>4.682425</td>\n",
       "      <td>0.195931</td>\n",
       "      <td>5.103834</td>\n",
       "    </tr>\n",
       "    <tr>\n",
       "      <th>2</th>\n",
       "      <td>0.508834</td>\n",
       "      <td>True</td>\n",
       "      <td>5.079400</td>\n",
       "      <td>0.763236</td>\n",
       "      <td>1.310211</td>\n",
       "    </tr>\n",
       "    <tr>\n",
       "      <th>3</th>\n",
       "      <td>-0.297556</td>\n",
       "      <td>True</td>\n",
       "      <td>2.678525</td>\n",
       "      <td>0.323130</td>\n",
       "      <td>3.094730</td>\n",
       "    </tr>\n",
       "    <tr>\n",
       "      <th>4</th>\n",
       "      <td>0.664644</td>\n",
       "      <td>True</td>\n",
       "      <td>6.129785</td>\n",
       "      <td>0.823398</td>\n",
       "      <td>1.214480</td>\n",
       "    </tr>\n",
       "    <tr>\n",
       "      <th>...</th>\n",
       "      <td>...</td>\n",
       "      <td>...</td>\n",
       "      <td>...</td>\n",
       "      <td>...</td>\n",
       "      <td>...</td>\n",
       "    </tr>\n",
       "    <tr>\n",
       "      <th>995</th>\n",
       "      <td>-0.433298</td>\n",
       "      <td>True</td>\n",
       "      <td>2.897919</td>\n",
       "      <td>0.257132</td>\n",
       "      <td>3.889051</td>\n",
       "    </tr>\n",
       "    <tr>\n",
       "      <th>996</th>\n",
       "      <td>0.730158</td>\n",
       "      <td>True</td>\n",
       "      <td>5.985086</td>\n",
       "      <td>0.844842</td>\n",
       "      <td>1.183653</td>\n",
       "    </tr>\n",
       "    <tr>\n",
       "      <th>997</th>\n",
       "      <td>0.680798</td>\n",
       "      <td>True</td>\n",
       "      <td>5.743404</td>\n",
       "      <td>0.828892</td>\n",
       "      <td>1.206429</td>\n",
       "    </tr>\n",
       "    <tr>\n",
       "      <th>998</th>\n",
       "      <td>0.494645</td>\n",
       "      <td>True</td>\n",
       "      <td>6.031932</td>\n",
       "      <td>0.757110</td>\n",
       "      <td>1.320813</td>\n",
       "    </tr>\n",
       "    <tr>\n",
       "      <th>999</th>\n",
       "      <td>-0.584694</td>\n",
       "      <td>True</td>\n",
       "      <td>4.540609</td>\n",
       "      <td>0.194739</td>\n",
       "      <td>5.135081</td>\n",
       "    </tr>\n",
       "  </tbody>\n",
       "</table>\n",
       "<p>1000 rows × 5 columns</p>\n",
       "</div>"
      ],
      "text/plain": [
       "           W0    v0         y  propensity_score    weight\n",
       "0    0.393705  True  4.549113          0.710502  1.407456\n",
       "1   -0.581491  True  4.682425          0.195931  5.103834\n",
       "2    0.508834  True  5.079400          0.763236  1.310211\n",
       "3   -0.297556  True  2.678525          0.323130  3.094730\n",
       "4    0.664644  True  6.129785          0.823398  1.214480\n",
       "..        ...   ...       ...               ...       ...\n",
       "995 -0.433298  True  2.897919          0.257132  3.889051\n",
       "996  0.730158  True  5.985086          0.844842  1.183653\n",
       "997  0.680798  True  5.743404          0.828892  1.206429\n",
       "998  0.494645  True  6.031932          0.757110  1.320813\n",
       "999 -0.584694  True  4.540609          0.194739  5.135081\n",
       "\n",
       "[1000 rows x 5 columns]"
      ]
     },
     "execution_count": 7,
     "metadata": {},
     "output_type": "execute_result"
    }
   ],
   "source": [
    "cdf_1"
   ]
  },
  {
   "cell_type": "markdown",
   "metadata": {},
   "source": [
    "## Comparing the estimate to Linear Regression\n",
    "First, estimating the effect using the causal data frame, and the 95% confidence interval."
   ]
  },
  {
   "cell_type": "code",
   "execution_count": 8,
   "metadata": {
    "execution": {
     "iopub.execute_input": "2022-08-18T18:12:47.006307Z",
     "iopub.status.busy": "2022-08-18T18:12:47.005947Z",
     "iopub.status.idle": "2022-08-18T18:12:47.104357Z",
     "shell.execute_reply": "2022-08-18T18:12:47.103704Z"
    }
   },
   "outputs": [
    {
     "data": {
      "image/png": "[encoded data removed]",
      "text/latex": [
       "$\\displaystyle 4.48709838008993$"
      ],
      "text/plain": [
       "4.487098380089932"
      ]
     },
     "execution_count": 8,
     "metadata": {},
     "output_type": "execute_result"
    }
   ],
   "source": [
    "(cdf_1['y'] - cdf_0['y']).mean()"
   ]
  },
  {
   "cell_type": "code",
   "execution_count": 9,
   "metadata": {
    "execution": {
     "iopub.execute_input": "2022-08-18T18:12:47.107617Z",
     "iopub.status.busy": "2022-08-18T18:12:47.107067Z",
     "iopub.status.idle": "2022-08-18T18:12:47.134699Z",
     "shell.execute_reply": "2022-08-18T18:12:47.134093Z"
    }
   },
   "outputs": [
    {
     "data": {
      "image/png": "[encoded data removed]",
      "text/latex": [
       "$\\displaystyle 0.232160936851745$"
      ],
      "text/plain": [
       "0.23216093685174485"
      ]
     },
     "execution_count": 9,
     "metadata": {},
     "output_type": "execute_result"
    }
   ],
   "source": [
    "1.96*(cdf_1['y'] - cdf_0['y']).std() / np.sqrt(len(df))"
   ]
  },
  {
   "cell_type": "markdown",
   "metadata": {},
   "source": [
    "Comparing to the estimate from OLS."
   ]
  },
  {
   "cell_type": "code",
   "execution_count": 10,
   "metadata": {
    "execution": {
     "iopub.execute_input": "2022-08-18T18:12:47.138034Z",
     "iopub.status.busy": "2022-08-18T18:12:47.137509Z",
     "iopub.status.idle": "2022-08-18T18:12:47.154452Z",
     "shell.execute_reply": "2022-08-18T18:12:47.153852Z"
    }
   },
   "outputs": [
    {
     "data": {
      "text/html": [
       "<table class=\"simpletable\">\n",
       "<caption>OLS Regression Results</caption>\n",
       "<tr>\n",
       "  <th>Dep. Variable:</th>            <td>y</td>        <th>  R-squared (uncentered):</th>      <td>   0.968</td> \n",
       "</tr>\n",
       "<tr>\n",
       "  <th>Model:</th>                   <td>OLS</td>       <th>  Adj. R-squared (uncentered):</th> <td>   0.968</td> \n",
       "</tr>\n",
       "<tr>\n",
       "  <th>Method:</th>             <td>Least Squares</td>  <th>  F-statistic:       </th>          <td>1.533e+04</td>\n",
       "</tr>\n",
       "<tr>\n",
       "  <th>Date:</th>             <td>Thu, 18 Aug 2022</td> <th>  Prob (F-statistic):</th>           <td>  0.00</td>  \n",
       "</tr>\n",
       "<tr>\n",
       "  <th>Time:</th>                 <td>18:12:47</td>     <th>  Log-Likelihood:    </th>          <td> -1393.0</td> \n",
       "</tr>\n",
       "<tr>\n",
       "  <th>No. Observations:</th>      <td>  1000</td>      <th>  AIC:               </th>          <td>   2790.</td> \n",
       "</tr>\n",
       "<tr>\n",
       "  <th>Df Residuals:</th>          <td>   998</td>      <th>  BIC:               </th>          <td>   2800.</td> \n",
       "</tr>\n",
       "<tr>\n",
       "  <th>Df Model:</th>              <td>     2</td>      <th>                     </th>              <td> </td>    \n",
       "</tr>\n",
       "<tr>\n",
       "  <th>Covariance Type:</th>      <td>nonrobust</td>    <th>                     </th>              <td> </td>    \n",
       "</tr>\n",
       "</table>\n",
       "<table class=\"simpletable\">\n",
       "<tr>\n",
       "   <td></td>     <th>coef</th>     <th>std err</th>      <th>t</th>      <th>P>|t|</th>  <th>[0.025</th>    <th>0.975]</th>  \n",
       "</tr>\n",
       "<tr>\n",
       "  <th>x1</th> <td>    2.3059</td> <td>    0.037</td> <td>   62.805</td> <td> 0.000</td> <td>    2.234</td> <td>    2.378</td>\n",
       "</tr>\n",
       "<tr>\n",
       "  <th>x2</th> <td>    5.0434</td> <td>    0.050</td> <td>  101.367</td> <td> 0.000</td> <td>    4.946</td> <td>    5.141</td>\n",
       "</tr>\n",
       "</table>\n",
       "<table class=\"simpletable\">\n",
       "<tr>\n",
       "  <th>Omnibus:</th>       <td> 0.544</td> <th>  Durbin-Watson:     </th> <td>   1.986</td>\n",
       "</tr>\n",
       "<tr>\n",
       "  <th>Prob(Omnibus):</th> <td> 0.762</td> <th>  Jarque-Bera (JB):  </th> <td>   0.419</td>\n",
       "</tr>\n",
       "<tr>\n",
       "  <th>Skew:</th>          <td>-0.001</td> <th>  Prob(JB):          </th> <td>   0.811</td>\n",
       "</tr>\n",
       "<tr>\n",
       "  <th>Kurtosis:</th>      <td> 3.100</td> <th>  Cond. No.          </th> <td>    2.02</td>\n",
       "</tr>\n",
       "</table><br/><br/>Notes:<br/>[1] R² is computed without centering (uncentered) since the model does not contain a constant.<br/>[2] Standard Errors assume that the covariance matrix of the errors is correctly specified."
      ],
      "text/plain": [
       "<class 'statsmodels.iolib.summary.Summary'>\n",
       "\"\"\"\n",
       "                                 OLS Regression Results                                \n",
       "=======================================================================================\n",
       "Dep. Variable:                      y   R-squared (uncentered):                   0.968\n",
       "Model:                            OLS   Adj. R-squared (uncentered):              0.968\n",
       "Method:                 Least Squares   F-statistic:                          1.533e+04\n",
       "Date:                Thu, 18 Aug 2022   Prob (F-statistic):                        0.00\n",
       "Time:                        18:12:47   Log-Likelihood:                         -1393.0\n",
       "No. Observations:                1000   AIC:                                      2790.\n",
       "Df Residuals:                     998   BIC:                                      2800.\n",
       "Df Model:                           2                                                  \n",
       "Covariance Type:            nonrobust                                                  \n",
       "==============================================================================\n",
       "                 coef    std err          t      P>|t|      [0.025      0.975]\n",
       "------------------------------------------------------------------------------\n",
       "x1             2.3059      0.037     62.805      0.000       2.234       2.378\n",
       "x2             5.0434      0.050    101.367      0.000       4.946       5.141\n",
       "==============================================================================\n",
       "Omnibus:                        0.544   Durbin-Watson:                   1.986\n",
       "Prob(Omnibus):                  0.762   Jarque-Bera (JB):                0.419\n",
       "Skew:                          -0.001   Prob(JB):                        0.811\n",
       "Kurtosis:                       3.100   Cond. No.                         2.02\n",
       "==============================================================================\n",
       "\n",
       "Notes:\n",
       "[1] R² is computed without centering (uncentered) since the model does not contain a constant.\n",
       "[2] Standard Errors assume that the covariance matrix of the errors is correctly specified.\n",
       "\"\"\""
      ]
     },
     "execution_count": 10,
     "metadata": {},
     "output_type": "execute_result"
    }
   ],
   "source": [
    "model = OLS(np.asarray(df[outcome]), np.asarray(df[[common_cause, treatment]], dtype=np.float64))\n",
    "result = model.fit()\n",
    "result.summary()"
   ]
  }
 ],
 "metadata": {
  "kernelspec": {
   "display_name": "Python 3",
   "language": "python",
   "name": "python3"
  },
  "language_info": {
   "codemirror_mode": {
    "name": "ipython",
    "version": 3
   },
   "file_extension": ".py",
   "mimetype": "text/x-python",
   "name": "python",
   "nbconvert_exporter": "python",
   "pygments_lexer": "ipython3",
   "version": "3.8.10"
  },
  "toc": {
   "base_numbering": 1,
   "nav_menu": {},
   "number_sections": false,
   "sideBar": true,
   "skip_h1_title": true,
   "title_cell": "Table of Contents",
   "title_sidebar": "Contents",
   "toc_cell": false,
   "toc_position": {},
   "toc_section_display": true,
   "toc_window_display": false
  }
 },
 "nbformat": 4,
 "nbformat_minor": 4
}
