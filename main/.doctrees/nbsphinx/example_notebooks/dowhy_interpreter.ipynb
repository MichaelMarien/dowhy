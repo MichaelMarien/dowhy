{
 "cells": [
  {
   "cell_type": "markdown",
   "id": "c01ef8f9",
   "metadata": {},
   "source": [
    "# DoWhy: Interpreters for Causal Estimators\n",
    "\n",
    "This is a quick introduction to the use of interpreters in the DoWhy causal inference library.\n",
    "We will load in a sample dataset, use different methods for estimating the causal effect of a (pre-specified)treatment variable on a (pre-specified) outcome variable and demonstrate how to interpret the obtained results.\n",
    "\n",
    "First, let us add the required path for Python to find the DoWhy code and load all required packages"
   ]
  },
  {
   "cell_type": "code",
   "execution_count": 1,
   "id": "66f9e2c0",
   "metadata": {
    "execution": {
     "iopub.execute_input": "2022-08-18T18:13:34.707556Z",
     "iopub.status.busy": "2022-08-18T18:13:34.706993Z",
     "iopub.status.idle": "2022-08-18T18:13:34.723098Z",
     "shell.execute_reply": "2022-08-18T18:13:34.722499Z"
    }
   },
   "outputs": [],
   "source": [
    "%load_ext autoreload\n",
    "%autoreload 2"
   ]
  },
  {
   "cell_type": "code",
   "execution_count": 2,
   "id": "9664433e",
   "metadata": {
    "execution": {
     "iopub.execute_input": "2022-08-18T18:13:34.725933Z",
     "iopub.status.busy": "2022-08-18T18:13:34.725727Z",
     "iopub.status.idle": "2022-08-18T18:13:35.706737Z",
     "shell.execute_reply": "2022-08-18T18:13:35.705701Z"
    }
   },
   "outputs": [],
   "source": [
    "import numpy as np\n",
    "import pandas as pd\n",
    "import logging\n",
    "\n",
    "import dowhy\n",
    "from dowhy import CausalModel\n",
    "import dowhy.datasets "
   ]
  },
  {
   "cell_type": "markdown",
   "id": "54a0a1c4",
   "metadata": {},
   "source": [
    "Now, let us load a dataset. For simplicity, we simulate a dataset with linear relationships between common causes and treatment, and common causes and outcome.\n",
    "\n",
    "Beta is the true causal effect."
   ]
  },
  {
   "cell_type": "code",
   "execution_count": 3,
   "id": "70d5c50f",
   "metadata": {
    "execution": {
     "iopub.execute_input": "2022-08-18T18:13:35.713502Z",
     "iopub.status.busy": "2022-08-18T18:13:35.712276Z",
     "iopub.status.idle": "2022-08-18T18:13:35.993421Z",
     "shell.execute_reply": "2022-08-18T18:13:35.992835Z"
    }
   },
   "outputs": [
    {
     "name": "stdout",
     "output_type": "stream",
     "text": [
      "8721\n"
     ]
    },
    {
     "data": {
      "text/html": [
       "<div>\n",
       "<style scoped>\n",
       "    .dataframe tbody tr th:only-of-type {\n",
       "        vertical-align: middle;\n",
       "    }\n",
       "\n",
       "    .dataframe tbody tr th {\n",
       "        vertical-align: top;\n",
       "    }\n",
       "\n",
       "    .dataframe thead th {\n",
       "        text-align: right;\n",
       "    }\n",
       "</style>\n",
       "<table border=\"1\" class=\"dataframe\">\n",
       "  <thead>\n",
       "    <tr style=\"text-align: right;\">\n",
       "      <th></th>\n",
       "      <th>Z0</th>\n",
       "      <th>Z1</th>\n",
       "      <th>W0</th>\n",
       "      <th>W1</th>\n",
       "      <th>W2</th>\n",
       "      <th>W3</th>\n",
       "      <th>W4</th>\n",
       "      <th>v0</th>\n",
       "      <th>y</th>\n",
       "    </tr>\n",
       "  </thead>\n",
       "  <tbody>\n",
       "    <tr>\n",
       "      <th>0</th>\n",
       "      <td>0.0</td>\n",
       "      <td>0.854003</td>\n",
       "      <td>0.676946</td>\n",
       "      <td>-0.112679</td>\n",
       "      <td>0.134121</td>\n",
       "      <td>-1.041350</td>\n",
       "      <td>3</td>\n",
       "      <td>True</td>\n",
       "      <td>1.497122</td>\n",
       "    </tr>\n",
       "    <tr>\n",
       "      <th>1</th>\n",
       "      <td>0.0</td>\n",
       "      <td>0.496478</td>\n",
       "      <td>0.162634</td>\n",
       "      <td>-2.210037</td>\n",
       "      <td>0.778455</td>\n",
       "      <td>-1.190923</td>\n",
       "      <td>1</td>\n",
       "      <td>True</td>\n",
       "      <td>-0.782925</td>\n",
       "    </tr>\n",
       "    <tr>\n",
       "      <th>2</th>\n",
       "      <td>1.0</td>\n",
       "      <td>0.262734</td>\n",
       "      <td>0.498648</td>\n",
       "      <td>-1.563037</td>\n",
       "      <td>1.574640</td>\n",
       "      <td>-1.494143</td>\n",
       "      <td>2</td>\n",
       "      <td>True</td>\n",
       "      <td>0.164065</td>\n",
       "    </tr>\n",
       "    <tr>\n",
       "      <th>3</th>\n",
       "      <td>1.0</td>\n",
       "      <td>0.623118</td>\n",
       "      <td>0.393051</td>\n",
       "      <td>-1.218910</td>\n",
       "      <td>-0.571369</td>\n",
       "      <td>-2.756345</td>\n",
       "      <td>1</td>\n",
       "      <td>True</td>\n",
       "      <td>-0.212608</td>\n",
       "    </tr>\n",
       "    <tr>\n",
       "      <th>4</th>\n",
       "      <td>1.0</td>\n",
       "      <td>0.475182</td>\n",
       "      <td>-0.502955</td>\n",
       "      <td>0.152571</td>\n",
       "      <td>0.141310</td>\n",
       "      <td>-0.639835</td>\n",
       "      <td>0</td>\n",
       "      <td>True</td>\n",
       "      <td>0.695484</td>\n",
       "    </tr>\n",
       "    <tr>\n",
       "      <th>...</th>\n",
       "      <td>...</td>\n",
       "      <td>...</td>\n",
       "      <td>...</td>\n",
       "      <td>...</td>\n",
       "      <td>...</td>\n",
       "      <td>...</td>\n",
       "      <td>...</td>\n",
       "      <td>...</td>\n",
       "      <td>...</td>\n",
       "    </tr>\n",
       "    <tr>\n",
       "      <th>9995</th>\n",
       "      <td>0.0</td>\n",
       "      <td>0.078845</td>\n",
       "      <td>0.939413</td>\n",
       "      <td>-0.525888</td>\n",
       "      <td>1.045334</td>\n",
       "      <td>0.462281</td>\n",
       "      <td>1</td>\n",
       "      <td>True</td>\n",
       "      <td>1.501520</td>\n",
       "    </tr>\n",
       "    <tr>\n",
       "      <th>9996</th>\n",
       "      <td>1.0</td>\n",
       "      <td>0.305060</td>\n",
       "      <td>-0.053028</td>\n",
       "      <td>-1.990176</td>\n",
       "      <td>0.688997</td>\n",
       "      <td>-0.486194</td>\n",
       "      <td>1</td>\n",
       "      <td>True</td>\n",
       "      <td>-0.618375</td>\n",
       "    </tr>\n",
       "    <tr>\n",
       "      <th>9997</th>\n",
       "      <td>1.0</td>\n",
       "      <td>0.222629</td>\n",
       "      <td>0.693685</td>\n",
       "      <td>-0.499925</td>\n",
       "      <td>-0.143990</td>\n",
       "      <td>0.244771</td>\n",
       "      <td>0</td>\n",
       "      <td>True</td>\n",
       "      <td>1.086625</td>\n",
       "    </tr>\n",
       "    <tr>\n",
       "      <th>9998</th>\n",
       "      <td>1.0</td>\n",
       "      <td>0.032307</td>\n",
       "      <td>1.182329</td>\n",
       "      <td>-0.266182</td>\n",
       "      <td>-0.654272</td>\n",
       "      <td>-1.170550</td>\n",
       "      <td>2</td>\n",
       "      <td>True</td>\n",
       "      <td>1.499135</td>\n",
       "    </tr>\n",
       "    <tr>\n",
       "      <th>9999</th>\n",
       "      <td>0.0</td>\n",
       "      <td>0.090433</td>\n",
       "      <td>-0.132750</td>\n",
       "      <td>-0.266260</td>\n",
       "      <td>1.456555</td>\n",
       "      <td>0.391608</td>\n",
       "      <td>3</td>\n",
       "      <td>True</td>\n",
       "      <td>1.221179</td>\n",
       "    </tr>\n",
       "  </tbody>\n",
       "</table>\n",
       "<p>10000 rows × 9 columns</p>\n",
       "</div>"
      ],
      "text/plain": [
       "       Z0        Z1        W0        W1        W2        W3 W4    v0         y\n",
       "0     0.0  0.854003  0.676946 -0.112679  0.134121 -1.041350  3  True  1.497122\n",
       "1     0.0  0.496478  0.162634 -2.210037  0.778455 -1.190923  1  True -0.782925\n",
       "2     1.0  0.262734  0.498648 -1.563037  1.574640 -1.494143  2  True  0.164065\n",
       "3     1.0  0.623118  0.393051 -1.218910 -0.571369 -2.756345  1  True -0.212608\n",
       "4     1.0  0.475182 -0.502955  0.152571  0.141310 -0.639835  0  True  0.695484\n",
       "...   ...       ...       ...       ...       ...       ... ..   ...       ...\n",
       "9995  0.0  0.078845  0.939413 -0.525888  1.045334  0.462281  1  True  1.501520\n",
       "9996  1.0  0.305060 -0.053028 -1.990176  0.688997 -0.486194  1  True -0.618375\n",
       "9997  1.0  0.222629  0.693685 -0.499925 -0.143990  0.244771  0  True  1.086625\n",
       "9998  1.0  0.032307  1.182329 -0.266182 -0.654272 -1.170550  2  True  1.499135\n",
       "9999  0.0  0.090433 -0.132750 -0.266260  1.456555  0.391608  3  True  1.221179\n",
       "\n",
       "[10000 rows x 9 columns]"
      ]
     },
     "execution_count": 3,
     "metadata": {},
     "output_type": "execute_result"
    }
   ],
   "source": [
    "data = dowhy.datasets.linear_dataset(beta=1,\n",
    "        num_common_causes=5, \n",
    "        num_instruments = 2,\n",
    "        num_treatments=1,\n",
    "        num_discrete_common_causes=1,\n",
    "        num_samples=10000,\n",
    "        treatment_is_binary=True,\n",
    "        outcome_is_binary=False)\n",
    "df = data[\"df\"]\n",
    "print(df[df.v0==True].shape[0])\n",
    "df"
   ]
  },
  {
   "cell_type": "markdown",
   "id": "90bcde61",
   "metadata": {},
   "source": [
    "Note that we are using a pandas dataframe to load the data."
   ]
  },
  {
   "cell_type": "markdown",
   "id": "ca21b987",
   "metadata": {},
   "source": [
    "## Identifying the causal estimand"
   ]
  },
  {
   "cell_type": "markdown",
   "id": "0e34fd63",
   "metadata": {},
   "source": [
    "We now input a causal graph in the GML graph format."
   ]
  },
  {
   "cell_type": "code",
   "execution_count": 4,
   "id": "574ff5dd",
   "metadata": {
    "execution": {
     "iopub.execute_input": "2022-08-18T18:13:35.997924Z",
     "iopub.status.busy": "2022-08-18T18:13:35.996879Z",
     "iopub.status.idle": "2022-08-18T18:13:36.021652Z",
     "shell.execute_reply": "2022-08-18T18:13:36.021107Z"
    }
   },
   "outputs": [],
   "source": [
    "# With graph\n",
    "model=CausalModel(\n",
    "        data = df,\n",
    "        treatment=data[\"treatment_name\"],\n",
    "        outcome=data[\"outcome_name\"],\n",
    "        graph=data[\"gml_graph\"],\n",
    "        instruments=data[\"instrument_names\"]\n",
    "        )"
   ]
  },
  {
   "cell_type": "code",
   "execution_count": 5,
   "id": "16414653",
   "metadata": {
    "execution": {
     "iopub.execute_input": "2022-08-18T18:13:36.025936Z",
     "iopub.status.busy": "2022-08-18T18:13:36.024905Z",
     "iopub.status.idle": "2022-08-18T18:13:36.078473Z",
     "shell.execute_reply": "2022-08-18T18:13:36.077822Z"
    }
   },
   "outputs": [],
   "source": [
    "model.view_model()"
   ]
  },
  {
   "cell_type": "code",
   "execution_count": 6,
   "id": "8fcc4ed6",
   "metadata": {
    "execution": {
     "iopub.execute_input": "2022-08-18T18:13:36.081699Z",
     "iopub.status.busy": "2022-08-18T18:13:36.081283Z",
     "iopub.status.idle": "2022-08-18T18:13:36.106981Z",
     "shell.execute_reply": "2022-08-18T18:13:36.106359Z"
    }
   },
   "outputs": [
    {
     "data": {
      "image/png": "[encoded data removed]",
      "text/plain": [
       "<IPython.core.display.Image object>"
      ]
     },
     "metadata": {},
     "output_type": "display_data"
    }
   ],
   "source": [
    "from IPython.display import Image, display\n",
    "display(Image(filename=\"causal_model.png\"))"
   ]
  },
  {
   "cell_type": "markdown",
   "id": "d6e55399",
   "metadata": {},
   "source": [
    "We get a causal graph. Now identification and estimation is done."
   ]
  },
  {
   "cell_type": "code",
   "execution_count": 7,
   "id": "ed9e295a",
   "metadata": {
    "execution": {
     "iopub.execute_input": "2022-08-18T18:13:36.110194Z",
     "iopub.status.busy": "2022-08-18T18:13:36.109857Z",
     "iopub.status.idle": "2022-08-18T18:13:36.329014Z",
     "shell.execute_reply": "2022-08-18T18:13:36.328371Z"
    }
   },
   "outputs": [
    {
     "name": "stdout",
     "output_type": "stream",
     "text": [
      "Estimand type: nonparametric-ate\n",
      "\n",
      "### Estimand : 1\n",
      "Estimand name: backdoor\n",
      "Estimand expression:\n",
      "  d                       \n",
      "─────(E[y|W1,W0,W3,W2,W4])\n",
      "d[v₀]                     \n",
      "Estimand assumption 1, Unconfoundedness: If U→{v0} and U→y then P(y|v0,W1,W0,W3,W2,W4,U) = P(y|v0,W1,W0,W3,W2,W4)\n",
      "\n",
      "### Estimand : 2\n",
      "Estimand name: iv\n",
      "Estimand expression:\n",
      " ⎡                              -1⎤\n",
      " ⎢    d        ⎛    d          ⎞  ⎥\n",
      "E⎢─────────(y)⋅⎜─────────([v₀])⎟  ⎥\n",
      " ⎣d[Z₀  Z₁]    ⎝d[Z₀  Z₁]      ⎠  ⎦\n",
      "Estimand assumption 1, As-if-random: If U→→y then ¬(U →→{Z0,Z1})\n",
      "Estimand assumption 2, Exclusion: If we remove {Z0,Z1}→{v0}, then ¬({Z0,Z1}→y)\n",
      "\n",
      "### Estimand : 3\n",
      "Estimand name: frontdoor\n",
      "No such variable(s) found!\n",
      "\n"
     ]
    }
   ],
   "source": [
    "identified_estimand = model.identify_effect(proceed_when_unidentifiable=True)\n",
    "print(identified_estimand)"
   ]
  },
  {
   "cell_type": "markdown",
   "id": "3adf63c0",
   "metadata": {},
   "source": [
    "## Method 1: Propensity Score Stratification\n",
    "\n",
    "We will be using propensity scores to stratify units in the data."
   ]
  },
  {
   "cell_type": "code",
   "execution_count": 8,
   "id": "64690538",
   "metadata": {
    "execution": {
     "iopub.execute_input": "2022-08-18T18:13:36.332321Z",
     "iopub.status.busy": "2022-08-18T18:13:36.331788Z",
     "iopub.status.idle": "2022-08-18T18:13:36.987304Z",
     "shell.execute_reply": "2022-08-18T18:13:36.986618Z"
    }
   },
   "outputs": [
    {
     "name": "stdout",
     "output_type": "stream",
     "text": [
      "propensity_score_stratification\n"
     ]
    },
    {
     "name": "stderr",
     "output_type": "stream",
     "text": [
      "/github/home/.cache/pypoetry/virtualenvs/dowhy-oN2hW5jr-py3.8/lib/python3.8/site-packages/sklearn/utils/validation.py:993: DataConversionWarning: A column-vector y was passed when a 1d array was expected. Please change the shape of y to (n_samples, ), for example using ravel().\n",
      "  y = column_or_1d(y, warn=True)\n"
     ]
    },
    {
     "name": "stdout",
     "output_type": "stream",
     "text": [
      "*** Causal Estimate ***\n",
      "\n",
      "## Identified estimand\n",
      "Estimand type: nonparametric-ate\n",
      "\n",
      "### Estimand : 1\n",
      "Estimand name: backdoor\n",
      "Estimand expression:\n",
      "  d                       \n",
      "─────(E[y|W1,W0,W3,W2,W4])\n",
      "d[v₀]                     \n",
      "Estimand assumption 1, Unconfoundedness: If U→{v0} and U→y then P(y|v0,W1,W0,W3,W2,W4,U) = P(y|v0,W1,W0,W3,W2,W4)\n",
      "\n",
      "## Realized estimand\n",
      "b: y~v0+W1+W0+W3+W2+W4\n",
      "Target units: att\n",
      "\n",
      "## Estimate\n",
      "Mean value: 0.9936038255094686\n",
      "\n",
      "Causal Estimate is 0.9936038255094686\n"
     ]
    }
   ],
   "source": [
    "causal_estimate_strat = model.estimate_effect(identified_estimand,\n",
    "                                              method_name=\"backdoor.propensity_score_stratification\",\n",
    "                                              target_units=\"att\")\n",
    "print(causal_estimate_strat)\n",
    "print(\"Causal Estimate is \" + str(causal_estimate_strat.value))"
   ]
  },
  {
   "cell_type": "markdown",
   "id": "c090ca3c",
   "metadata": {},
   "source": [
    "### Textual Interpreter\n",
    "\n",
    "The textual Interpreter describes (in words) the effect of unit change in the treatment variable on the outcome variable."
   ]
  },
  {
   "cell_type": "code",
   "execution_count": 9,
   "id": "0f3a91a3",
   "metadata": {
    "execution": {
     "iopub.execute_input": "2022-08-18T18:13:36.990732Z",
     "iopub.status.busy": "2022-08-18T18:13:36.990211Z",
     "iopub.status.idle": "2022-08-18T18:13:37.015802Z",
     "shell.execute_reply": "2022-08-18T18:13:37.015177Z"
    }
   },
   "outputs": [
    {
     "name": "stdout",
     "output_type": "stream",
     "text": [
      "Increasing the treatment variable(s) [v0] from 0 to 1 causes an increase of 0.9936038255094686 in the expected value of the outcome [y], over the data distribution/population represented by the dataset.\n"
     ]
    }
   ],
   "source": [
    "# Textual Interpreter\n",
    "interpretation = causal_estimate_strat.interpret(method_name=\"textual_effect_interpreter\")"
   ]
  },
  {
   "cell_type": "markdown",
   "id": "79a681e0",
   "metadata": {},
   "source": [
    "### Visual Interpreter\n",
    "\n",
    "The visual interpreter plots the change in the standardized mean difference (SMD) before and after Propensity Score based adjustment of the dataset. The formula for SMD is given below.\n",
    "\n",
    "\n",
    "$SMD = \\frac{\\bar X_{1} - \\bar X_{2}}{\\sqrt{(S_{1}^{2} + S_{2}^{2})/2}}$\n",
    "\n",
    "Here, $\\bar X_{1}$ and $\\bar X_{2}$ are the sample mean for the treated and control groups.\n"
   ]
  },
  {
   "cell_type": "code",
   "execution_count": 10,
   "id": "59108b89",
   "metadata": {
    "execution": {
     "iopub.execute_input": "2022-08-18T18:13:37.019898Z",
     "iopub.status.busy": "2022-08-18T18:13:37.018711Z",
     "iopub.status.idle": "2022-08-18T18:13:38.043511Z",
     "shell.execute_reply": "2022-08-18T18:13:38.042876Z"
    }
   },
   "outputs": [
    {
     "data": {
      "image/png": "[encoded data removed]",
      "text/plain": [
       "<Figure size 432x288 with 1 Axes>"
      ]
     },
     "metadata": {
      "needs_background": "light"
     },
     "output_type": "display_data"
    }
   ],
   "source": [
    "# Visual Interpreter\n",
    "interpretation = causal_estimate_strat.interpret(method_name=\"propensity_balance_interpreter\")"
   ]
  },
  {
   "cell_type": "markdown",
   "id": "a3216dac",
   "metadata": {},
   "source": [
    "This plot shows how the SMD decreases from the unadjusted to the stratified units. "
   ]
  },
  {
   "cell_type": "markdown",
   "id": "f535cd10",
   "metadata": {},
   "source": [
    "## Method 2: Propensity Score Matching\n",
    "\n",
    "We will be using propensity scores to match units in the data."
   ]
  },
  {
   "cell_type": "code",
   "execution_count": 11,
   "id": "457270da",
   "metadata": {
    "execution": {
     "iopub.execute_input": "2022-08-18T18:13:38.047949Z",
     "iopub.status.busy": "2022-08-18T18:13:38.046587Z",
     "iopub.status.idle": "2022-08-18T18:13:41.667544Z",
     "shell.execute_reply": "2022-08-18T18:13:41.666917Z"
    }
   },
   "outputs": [
    {
     "name": "stdout",
     "output_type": "stream",
     "text": [
      "propensity_score_matching\n"
     ]
    },
    {
     "name": "stderr",
     "output_type": "stream",
     "text": [
      "/github/home/.cache/pypoetry/virtualenvs/dowhy-oN2hW5jr-py3.8/lib/python3.8/site-packages/sklearn/utils/validation.py:993: DataConversionWarning: A column-vector y was passed when a 1d array was expected. Please change the shape of y to (n_samples, ), for example using ravel().\n",
      "  y = column_or_1d(y, warn=True)\n"
     ]
    },
    {
     "name": "stdout",
     "output_type": "stream",
     "text": [
      "*** Causal Estimate ***\n",
      "\n",
      "## Identified estimand\n",
      "Estimand type: nonparametric-ate\n",
      "\n",
      "### Estimand : 1\n",
      "Estimand name: backdoor\n",
      "Estimand expression:\n",
      "  d                       \n",
      "─────(E[y|W1,W0,W3,W2,W4])\n",
      "d[v₀]                     \n",
      "Estimand assumption 1, Unconfoundedness: If U→{v0} and U→y then P(y|v0,W1,W0,W3,W2,W4,U) = P(y|v0,W1,W0,W3,W2,W4)\n",
      "\n",
      "## Realized estimand\n",
      "b: y~v0+W1+W0+W3+W2+W4\n",
      "Target units: atc\n",
      "\n",
      "## Estimate\n",
      "Mean value: 1.0167015253020237\n",
      "\n",
      "Causal Estimate is 1.0167015253020237\n"
     ]
    }
   ],
   "source": [
    "causal_estimate_match = model.estimate_effect(identified_estimand,\n",
    "                                              method_name=\"backdoor.propensity_score_matching\",\n",
    "                                              target_units=\"atc\")\n",
    "print(causal_estimate_match)\n",
    "print(\"Causal Estimate is \" + str(causal_estimate_match.value))"
   ]
  },
  {
   "cell_type": "code",
   "execution_count": 12,
   "id": "e54ac2d8",
   "metadata": {
    "execution": {
     "iopub.execute_input": "2022-08-18T18:13:41.670833Z",
     "iopub.status.busy": "2022-08-18T18:13:41.670330Z",
     "iopub.status.idle": "2022-08-18T18:13:41.695600Z",
     "shell.execute_reply": "2022-08-18T18:13:41.694984Z"
    }
   },
   "outputs": [
    {
     "name": "stdout",
     "output_type": "stream",
     "text": [
      "Increasing the treatment variable(s) [v0] from 0 to 1 causes an increase of 1.0167015253020237 in the expected value of the outcome [y], over the data distribution/population represented by the dataset.\n"
     ]
    }
   ],
   "source": [
    "# Textual Interpreter\n",
    "interpretation = causal_estimate_match.interpret(method_name=\"textual_effect_interpreter\")"
   ]
  },
  {
   "cell_type": "markdown",
   "id": "a509fb71",
   "metadata": {},
   "source": [
    "Cannot use propensity balance interpretor here since the interpreter method only supports propensity score stratification estimator."
   ]
  },
  {
   "cell_type": "markdown",
   "id": "ba4c02e9",
   "metadata": {},
   "source": [
    "## Method 3: Weighting\n",
    "\n",
    "We will be using (inverse) propensity scores to assign weights to units in the data. DoWhy supports a few different weighting schemes:\n",
    "1. Vanilla Inverse Propensity Score weighting (IPS) (weighting_scheme=\"ips_weight\")\n",
    "2. Self-normalized IPS weighting (also known as the Hajek estimator) (weighting_scheme=\"ips_normalized_weight\")\n",
    "3. Stabilized IPS weighting (weighting_scheme = \"ips_stabilized_weight\")"
   ]
  },
  {
   "cell_type": "code",
   "execution_count": 13,
   "id": "15bc1485",
   "metadata": {
    "execution": {
     "iopub.execute_input": "2022-08-18T18:13:41.698921Z",
     "iopub.status.busy": "2022-08-18T18:13:41.698699Z",
     "iopub.status.idle": "2022-08-18T18:13:41.758729Z",
     "shell.execute_reply": "2022-08-18T18:13:41.757272Z"
    }
   },
   "outputs": [
    {
     "name": "stdout",
     "output_type": "stream",
     "text": [
      "propensity_score_weighting\n",
      "*** Causal Estimate ***\n",
      "\n",
      "## Identified estimand\n",
      "Estimand type: nonparametric-ate\n",
      "\n",
      "### Estimand : 1\n",
      "Estimand name: backdoor\n",
      "Estimand expression:\n",
      "  d                       \n",
      "─────(E[y|W1,W0,W3,W2,W4])\n",
      "d[v₀]                     \n",
      "Estimand assumption 1, Unconfoundedness: If U→{v0} and U→y then P(y|v0,W1,W0,W3,W2,W4,U) = P(y|v0,W1,W0,W3,W2,W4)\n",
      "\n",
      "## Realized estimand\n",
      "b: y~v0+W1+W0+W3+W2+W4\n",
      "Target units: ate\n",
      "\n",
      "## Estimate\n",
      "Mean value: 1.289855558989973\n",
      "\n",
      "Causal Estimate is 1.289855558989973\n"
     ]
    },
    {
     "name": "stderr",
     "output_type": "stream",
     "text": [
      "/github/home/.cache/pypoetry/virtualenvs/dowhy-oN2hW5jr-py3.8/lib/python3.8/site-packages/sklearn/utils/validation.py:993: DataConversionWarning: A column-vector y was passed when a 1d array was expected. Please change the shape of y to (n_samples, ), for example using ravel().\n",
      "  y = column_or_1d(y, warn=True)\n"
     ]
    }
   ],
   "source": [
    "causal_estimate_ipw = model.estimate_effect(identified_estimand,\n",
    "                                            method_name=\"backdoor.propensity_score_weighting\",\n",
    "                                            target_units = \"ate\",\n",
    "                                            method_params={\"weighting_scheme\":\"ips_weight\"})\n",
    "print(causal_estimate_ipw)\n",
    "print(\"Causal Estimate is \" + str(causal_estimate_ipw.value))"
   ]
  },
  {
   "cell_type": "code",
   "execution_count": 14,
   "id": "e6562f60",
   "metadata": {
    "execution": {
     "iopub.execute_input": "2022-08-18T18:13:41.761834Z",
     "iopub.status.busy": "2022-08-18T18:13:41.761605Z",
     "iopub.status.idle": "2022-08-18T18:13:41.786304Z",
     "shell.execute_reply": "2022-08-18T18:13:41.785722Z"
    }
   },
   "outputs": [
    {
     "name": "stdout",
     "output_type": "stream",
     "text": [
      "Increasing the treatment variable(s) [v0] from 0 to 1 causes an increase of 1.289855558989973 in the expected value of the outcome [y], over the data distribution/population represented by the dataset.\n"
     ]
    }
   ],
   "source": [
    "# Textual Interpreter\n",
    "interpretation = causal_estimate_ipw.interpret(method_name=\"textual_effect_interpreter\")"
   ]
  },
  {
   "cell_type": "code",
   "execution_count": 15,
   "id": "77902f38",
   "metadata": {
    "execution": {
     "iopub.execute_input": "2022-08-18T18:13:41.789334Z",
     "iopub.status.busy": "2022-08-18T18:13:41.789119Z",
     "iopub.status.idle": "2022-08-18T18:13:42.020246Z",
     "shell.execute_reply": "2022-08-18T18:13:42.019642Z"
    }
   },
   "outputs": [
    {
     "data": {
      "image/png": "[encoded data removed]",
      "text/plain": [
       "<Figure size 576x576 with 2 Axes>"
      ]
     },
     "metadata": {
      "needs_background": "light"
     },
     "output_type": "display_data"
    }
   ],
   "source": [
    "interpretation = causal_estimate_ipw.interpret(method_name=\"confounder_distribution_interpreter\", fig_size=(8,8), font_size=12, var_name='W4', var_type='discrete')"
   ]
  },
  {
   "cell_type": "code",
   "execution_count": null,
   "id": "178a3bbf",
   "metadata": {},
   "outputs": [],
   "source": []
  }
 ],
 "metadata": {
  "kernelspec": {
   "display_name": "Python 3",
   "language": "python",
   "name": "python3"
  },
  "language_info": {
   "codemirror_mode": {
    "name": "ipython",
    "version": 3
   },
   "file_extension": ".py",
   "mimetype": "text/x-python",
   "name": "python",
   "nbconvert_exporter": "python",
   "pygments_lexer": "ipython3",
   "version": "3.8.10"
  },
  "toc": {
   "base_numbering": 1,
   "nav_menu": {},
   "number_sections": false,
   "sideBar": true,
   "skip_h1_title": true,
   "title_cell": "Table of Contents",
   "title_sidebar": "Contents",
   "toc_cell": false,
   "toc_position": {},
   "toc_section_display": true,
   "toc_window_display": false
  }
 },
 "nbformat": 4,
 "nbformat_minor": 5
}
