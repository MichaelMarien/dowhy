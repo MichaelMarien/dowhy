{
 "cells": [
  {
   "cell_type": "markdown",
   "id": "dd9d8de3",
   "metadata": {},
   "source": [
    "# DoWhy: Interpreters for Causal Estimators\n",
    "\n",
    "This is a quick introduction to the use of interpreters in the DoWhy causal inference library.\n",
    "We will load in a sample dataset, use different methods for estimating the causal effect of a (pre-specified)treatment variable on a (pre-specified) outcome variable and demonstrate how to interpret the obtained results.\n",
    "\n",
    "First, let us add the required path for Python to find the DoWhy code and load all required packages"
   ]
  },
  {
   "cell_type": "code",
   "execution_count": 1,
   "id": "02707eae",
   "metadata": {
    "execution": {
     "iopub.execute_input": "2022-07-28T19:00:53.840765Z",
     "iopub.status.busy": "2022-07-28T19:00:53.840329Z",
     "iopub.status.idle": "2022-07-28T19:00:53.855864Z",
     "shell.execute_reply": "2022-07-28T19:00:53.855318Z"
    }
   },
   "outputs": [],
   "source": [
    "%load_ext autoreload\n",
    "%autoreload 2"
   ]
  },
  {
   "cell_type": "code",
   "execution_count": 2,
   "id": "4a411d5c",
   "metadata": {
    "execution": {
     "iopub.execute_input": "2022-07-28T19:00:53.858603Z",
     "iopub.status.busy": "2022-07-28T19:00:53.858406Z",
     "iopub.status.idle": "2022-07-28T19:00:54.812984Z",
     "shell.execute_reply": "2022-07-28T19:00:54.811906Z"
    }
   },
   "outputs": [
    {
     "name": "stdout",
     "output_type": "stream",
     "text": [
      "keywords are unexpanded, not using\n"
     ]
    }
   ],
   "source": [
    "import numpy as np\n",
    "import pandas as pd\n",
    "import logging\n",
    "\n",
    "import dowhy\n",
    "from dowhy import CausalModel\n",
    "import dowhy.datasets "
   ]
  },
  {
   "cell_type": "markdown",
   "id": "28b3f91d",
   "metadata": {},
   "source": [
    "Now, let us load a dataset. For simplicity, we simulate a dataset with linear relationships between common causes and treatment, and common causes and outcome.\n",
    "\n",
    "Beta is the true causal effect."
   ]
  },
  {
   "cell_type": "code",
   "execution_count": 3,
   "id": "5bf7b52a",
   "metadata": {
    "execution": {
     "iopub.execute_input": "2022-07-28T19:00:54.816657Z",
     "iopub.status.busy": "2022-07-28T19:00:54.815867Z",
     "iopub.status.idle": "2022-07-28T19:00:55.102615Z",
     "shell.execute_reply": "2022-07-28T19:00:55.101794Z"
    }
   },
   "outputs": [
    {
     "name": "stdout",
     "output_type": "stream",
     "text": [
      "8884\n"
     ]
    },
    {
     "data": {
      "text/html": [
       "<div>\n",
       "<style scoped>\n",
       "    .dataframe tbody tr th:only-of-type {\n",
       "        vertical-align: middle;\n",
       "    }\n",
       "\n",
       "    .dataframe tbody tr th {\n",
       "        vertical-align: top;\n",
       "    }\n",
       "\n",
       "    .dataframe thead th {\n",
       "        text-align: right;\n",
       "    }\n",
       "</style>\n",
       "<table border=\"1\" class=\"dataframe\">\n",
       "  <thead>\n",
       "    <tr style=\"text-align: right;\">\n",
       "      <th></th>\n",
       "      <th>Z0</th>\n",
       "      <th>Z1</th>\n",
       "      <th>W0</th>\n",
       "      <th>W1</th>\n",
       "      <th>W2</th>\n",
       "      <th>W3</th>\n",
       "      <th>W4</th>\n",
       "      <th>v0</th>\n",
       "      <th>y</th>\n",
       "    </tr>\n",
       "  </thead>\n",
       "  <tbody>\n",
       "    <tr>\n",
       "      <th>0</th>\n",
       "      <td>0.0</td>\n",
       "      <td>0.458664</td>\n",
       "      <td>2.603879</td>\n",
       "      <td>1.649287</td>\n",
       "      <td>-0.068841</td>\n",
       "      <td>0.711323</td>\n",
       "      <td>1</td>\n",
       "      <td>True</td>\n",
       "      <td>2.852514</td>\n",
       "    </tr>\n",
       "    <tr>\n",
       "      <th>1</th>\n",
       "      <td>0.0</td>\n",
       "      <td>0.886224</td>\n",
       "      <td>-1.210262</td>\n",
       "      <td>1.222956</td>\n",
       "      <td>-1.394773</td>\n",
       "      <td>0.786327</td>\n",
       "      <td>2</td>\n",
       "      <td>False</td>\n",
       "      <td>2.392355</td>\n",
       "    </tr>\n",
       "    <tr>\n",
       "      <th>2</th>\n",
       "      <td>1.0</td>\n",
       "      <td>0.308052</td>\n",
       "      <td>-1.307957</td>\n",
       "      <td>2.320670</td>\n",
       "      <td>-1.709041</td>\n",
       "      <td>0.436501</td>\n",
       "      <td>0</td>\n",
       "      <td>True</td>\n",
       "      <td>1.683748</td>\n",
       "    </tr>\n",
       "    <tr>\n",
       "      <th>3</th>\n",
       "      <td>1.0</td>\n",
       "      <td>0.617301</td>\n",
       "      <td>-1.109645</td>\n",
       "      <td>-1.052725</td>\n",
       "      <td>1.014428</td>\n",
       "      <td>0.663311</td>\n",
       "      <td>1</td>\n",
       "      <td>True</td>\n",
       "      <td>2.350403</td>\n",
       "    </tr>\n",
       "    <tr>\n",
       "      <th>4</th>\n",
       "      <td>0.0</td>\n",
       "      <td>0.633643</td>\n",
       "      <td>0.449880</td>\n",
       "      <td>0.811035</td>\n",
       "      <td>0.661533</td>\n",
       "      <td>-0.633518</td>\n",
       "      <td>0</td>\n",
       "      <td>True</td>\n",
       "      <td>0.664455</td>\n",
       "    </tr>\n",
       "    <tr>\n",
       "      <th>...</th>\n",
       "      <td>...</td>\n",
       "      <td>...</td>\n",
       "      <td>...</td>\n",
       "      <td>...</td>\n",
       "      <td>...</td>\n",
       "      <td>...</td>\n",
       "      <td>...</td>\n",
       "      <td>...</td>\n",
       "      <td>...</td>\n",
       "    </tr>\n",
       "    <tr>\n",
       "      <th>9995</th>\n",
       "      <td>0.0</td>\n",
       "      <td>0.875699</td>\n",
       "      <td>-0.526513</td>\n",
       "      <td>1.550681</td>\n",
       "      <td>0.576846</td>\n",
       "      <td>-0.576776</td>\n",
       "      <td>2</td>\n",
       "      <td>True</td>\n",
       "      <td>2.443213</td>\n",
       "    </tr>\n",
       "    <tr>\n",
       "      <th>9996</th>\n",
       "      <td>0.0</td>\n",
       "      <td>0.476767</td>\n",
       "      <td>0.277606</td>\n",
       "      <td>1.204753</td>\n",
       "      <td>-1.766031</td>\n",
       "      <td>0.131706</td>\n",
       "      <td>0</td>\n",
       "      <td>False</td>\n",
       "      <td>0.121060</td>\n",
       "    </tr>\n",
       "    <tr>\n",
       "      <th>9997</th>\n",
       "      <td>0.0</td>\n",
       "      <td>0.037833</td>\n",
       "      <td>0.479815</td>\n",
       "      <td>1.188689</td>\n",
       "      <td>0.843527</td>\n",
       "      <td>-0.859857</td>\n",
       "      <td>2</td>\n",
       "      <td>True</td>\n",
       "      <td>2.119702</td>\n",
       "    </tr>\n",
       "    <tr>\n",
       "      <th>9998</th>\n",
       "      <td>0.0</td>\n",
       "      <td>0.279862</td>\n",
       "      <td>1.273201</td>\n",
       "      <td>2.576169</td>\n",
       "      <td>0.174755</td>\n",
       "      <td>-1.010655</td>\n",
       "      <td>0</td>\n",
       "      <td>True</td>\n",
       "      <td>0.620646</td>\n",
       "    </tr>\n",
       "    <tr>\n",
       "      <th>9999</th>\n",
       "      <td>0.0</td>\n",
       "      <td>0.505840</td>\n",
       "      <td>2.216822</td>\n",
       "      <td>1.707636</td>\n",
       "      <td>-0.463139</td>\n",
       "      <td>-1.874004</td>\n",
       "      <td>0</td>\n",
       "      <td>True</td>\n",
       "      <td>-0.516933</td>\n",
       "    </tr>\n",
       "  </tbody>\n",
       "</table>\n",
       "<p>10000 rows × 9 columns</p>\n",
       "</div>"
      ],
      "text/plain": [
       "       Z0        Z1        W0        W1        W2        W3 W4     v0  \\\n",
       "0     0.0  0.458664  2.603879  1.649287 -0.068841  0.711323  1   True   \n",
       "1     0.0  0.886224 -1.210262  1.222956 -1.394773  0.786327  2  False   \n",
       "2     1.0  0.308052 -1.307957  2.320670 -1.709041  0.436501  0   True   \n",
       "3     1.0  0.617301 -1.109645 -1.052725  1.014428  0.663311  1   True   \n",
       "4     0.0  0.633643  0.449880  0.811035  0.661533 -0.633518  0   True   \n",
       "...   ...       ...       ...       ...       ...       ... ..    ...   \n",
       "9995  0.0  0.875699 -0.526513  1.550681  0.576846 -0.576776  2   True   \n",
       "9996  0.0  0.476767  0.277606  1.204753 -1.766031  0.131706  0  False   \n",
       "9997  0.0  0.037833  0.479815  1.188689  0.843527 -0.859857  2   True   \n",
       "9998  0.0  0.279862  1.273201  2.576169  0.174755 -1.010655  0   True   \n",
       "9999  0.0  0.505840  2.216822  1.707636 -0.463139 -1.874004  0   True   \n",
       "\n",
       "             y  \n",
       "0     2.852514  \n",
       "1     2.392355  \n",
       "2     1.683748  \n",
       "3     2.350403  \n",
       "4     0.664455  \n",
       "...        ...  \n",
       "9995  2.443213  \n",
       "9996  0.121060  \n",
       "9997  2.119702  \n",
       "9998  0.620646  \n",
       "9999 -0.516933  \n",
       "\n",
       "[10000 rows x 9 columns]"
      ]
     },
     "execution_count": 3,
     "metadata": {},
     "output_type": "execute_result"
    }
   ],
   "source": [
    "data = dowhy.datasets.linear_dataset(beta=1,\n",
    "        num_common_causes=5, \n",
    "        num_instruments = 2,\n",
    "        num_treatments=1,\n",
    "        num_discrete_common_causes=1,\n",
    "        num_samples=10000,\n",
    "        treatment_is_binary=True,\n",
    "        outcome_is_binary=False)\n",
    "df = data[\"df\"]\n",
    "print(df[df.v0==True].shape[0])\n",
    "df"
   ]
  },
  {
   "cell_type": "markdown",
   "id": "342f7cc4",
   "metadata": {},
   "source": [
    "Note that we are using a pandas dataframe to load the data."
   ]
  },
  {
   "cell_type": "markdown",
   "id": "0b053d1a",
   "metadata": {},
   "source": [
    "## Identifying the causal estimand"
   ]
  },
  {
   "cell_type": "markdown",
   "id": "d23a5d2c",
   "metadata": {},
   "source": [
    "We now input a causal graph in the GML graph format."
   ]
  },
  {
   "cell_type": "code",
   "execution_count": 4,
   "id": "7abecf5a",
   "metadata": {
    "execution": {
     "iopub.execute_input": "2022-07-28T19:00:55.105821Z",
     "iopub.status.busy": "2022-07-28T19:00:55.105534Z",
     "iopub.status.idle": "2022-07-28T19:00:55.128717Z",
     "shell.execute_reply": "2022-07-28T19:00:55.128147Z"
    }
   },
   "outputs": [],
   "source": [
    "# With graph\n",
    "model=CausalModel(\n",
    "        data = df,\n",
    "        treatment=data[\"treatment_name\"],\n",
    "        outcome=data[\"outcome_name\"],\n",
    "        graph=data[\"gml_graph\"],\n",
    "        instruments=data[\"instrument_names\"]\n",
    "        )"
   ]
  },
  {
   "cell_type": "code",
   "execution_count": 5,
   "id": "5e63ca3e",
   "metadata": {
    "execution": {
     "iopub.execute_input": "2022-07-28T19:00:55.131527Z",
     "iopub.status.busy": "2022-07-28T19:00:55.131222Z",
     "iopub.status.idle": "2022-07-28T19:00:55.186021Z",
     "shell.execute_reply": "2022-07-28T19:00:55.185401Z"
    }
   },
   "outputs": [],
   "source": [
    "model.view_model()"
   ]
  },
  {
   "cell_type": "code",
   "execution_count": 6,
   "id": "c72c9366",
   "metadata": {
    "execution": {
     "iopub.execute_input": "2022-07-28T19:00:55.189232Z",
     "iopub.status.busy": "2022-07-28T19:00:55.188673Z",
     "iopub.status.idle": "2022-07-28T19:00:55.211883Z",
     "shell.execute_reply": "2022-07-28T19:00:55.211270Z"
    }
   },
   "outputs": [
    {
     "data": {
      "image/png": "[encoded data removed]",
      "text/plain": [
       "<IPython.core.display.Image object>"
      ]
     },
     "metadata": {},
     "output_type": "display_data"
    }
   ],
   "source": [
    "from IPython.display import Image, display\n",
    "display(Image(filename=\"causal_model.png\"))"
   ]
  },
  {
   "cell_type": "markdown",
   "id": "00ee9177",
   "metadata": {},
   "source": [
    "We get a causal graph. Now identification and estimation is done."
   ]
  },
  {
   "cell_type": "code",
   "execution_count": 7,
   "id": "af58be82",
   "metadata": {
    "execution": {
     "iopub.execute_input": "2022-07-28T19:00:55.215155Z",
     "iopub.status.busy": "2022-07-28T19:00:55.214742Z",
     "iopub.status.idle": "2022-07-28T19:00:55.432142Z",
     "shell.execute_reply": "2022-07-28T19:00:55.431608Z"
    }
   },
   "outputs": [
    {
     "name": "stdout",
     "output_type": "stream",
     "text": [
      "Estimand type: nonparametric-ate\n",
      "\n",
      "### Estimand : 1\n",
      "Estimand name: backdoor\n",
      "Estimand expression:\n",
      "  d                       \n",
      "─────(E[y|W0,W3,W2,W4,W1])\n",
      "d[v₀]                     \n",
      "Estimand assumption 1, Unconfoundedness: If U→{v0} and U→y then P(y|v0,W0,W3,W2,W4,W1,U) = P(y|v0,W0,W3,W2,W4,W1)\n",
      "\n",
      "### Estimand : 2\n",
      "Estimand name: iv\n",
      "Estimand expression:\n",
      " ⎡                              -1⎤\n",
      " ⎢    d        ⎛    d          ⎞  ⎥\n",
      "E⎢─────────(y)⋅⎜─────────([v₀])⎟  ⎥\n",
      " ⎣d[Z₁  Z₀]    ⎝d[Z₁  Z₀]      ⎠  ⎦\n",
      "Estimand assumption 1, As-if-random: If U→→y then ¬(U →→{Z1,Z0})\n",
      "Estimand assumption 2, Exclusion: If we remove {Z1,Z0}→{v0}, then ¬({Z1,Z0}→y)\n",
      "\n",
      "### Estimand : 3\n",
      "Estimand name: frontdoor\n",
      "No such variable(s) found!\n",
      "\n"
     ]
    }
   ],
   "source": [
    "identified_estimand = model.identify_effect(proceed_when_unidentifiable=True)\n",
    "print(identified_estimand)"
   ]
  },
  {
   "cell_type": "markdown",
   "id": "efb42f4e",
   "metadata": {},
   "source": [
    "## Method 1: Propensity Score Stratification\n",
    "\n",
    "We will be using propensity scores to stratify units in the data."
   ]
  },
  {
   "cell_type": "code",
   "execution_count": 8,
   "id": "cfb61897",
   "metadata": {
    "execution": {
     "iopub.execute_input": "2022-07-28T19:00:55.435254Z",
     "iopub.status.busy": "2022-07-28T19:00:55.435031Z",
     "iopub.status.idle": "2022-07-28T19:00:56.068752Z",
     "shell.execute_reply": "2022-07-28T19:00:56.068115Z"
    }
   },
   "outputs": [
    {
     "name": "stdout",
     "output_type": "stream",
     "text": [
      "propensity_score_stratification\n"
     ]
    },
    {
     "name": "stderr",
     "output_type": "stream",
     "text": [
      "/usr/local/lib/python3.8/dist-packages/sklearn/utils/validation.py:993: DataConversionWarning: A column-vector y was passed when a 1d array was expected. Please change the shape of y to (n_samples, ), for example using ravel().\n",
      "  y = column_or_1d(y, warn=True)\n"
     ]
    },
    {
     "name": "stdout",
     "output_type": "stream",
     "text": [
      "*** Causal Estimate ***\n",
      "\n",
      "## Identified estimand\n",
      "Estimand type: nonparametric-ate\n",
      "\n",
      "### Estimand : 1\n",
      "Estimand name: backdoor\n",
      "Estimand expression:\n",
      "  d                       \n",
      "─────(E[y|W0,W3,W2,W4,W1])\n",
      "d[v₀]                     \n",
      "Estimand assumption 1, Unconfoundedness: If U→{v0} and U→y then P(y|v0,W0,W3,W2,W4,W1,U) = P(y|v0,W0,W3,W2,W4,W1)\n",
      "\n",
      "## Realized estimand\n",
      "b: y~v0+W0+W3+W2+W4+W1\n",
      "Target units: att\n",
      "\n",
      "## Estimate\n",
      "Mean value: 1.0272499686377707\n",
      "\n",
      "Causal Estimate is 1.0272499686377707\n"
     ]
    }
   ],
   "source": [
    "causal_estimate_strat = model.estimate_effect(identified_estimand,\n",
    "                                              method_name=\"backdoor.propensity_score_stratification\",\n",
    "                                              target_units=\"att\")\n",
    "print(causal_estimate_strat)\n",
    "print(\"Causal Estimate is \" + str(causal_estimate_strat.value))"
   ]
  },
  {
   "cell_type": "markdown",
   "id": "f4addc1f",
   "metadata": {},
   "source": [
    "### Textual Interpreter\n",
    "\n",
    "The textual Interpreter describes (in words) the effect of unit change in the treatment variable on the outcome variable."
   ]
  },
  {
   "cell_type": "code",
   "execution_count": 9,
   "id": "3502d46b",
   "metadata": {
    "execution": {
     "iopub.execute_input": "2022-07-28T19:00:56.072143Z",
     "iopub.status.busy": "2022-07-28T19:00:56.071794Z",
     "iopub.status.idle": "2022-07-28T19:00:56.095651Z",
     "shell.execute_reply": "2022-07-28T19:00:56.095071Z"
    }
   },
   "outputs": [
    {
     "name": "stdout",
     "output_type": "stream",
     "text": [
      "Increasing the treatment variable(s) [v0] from 0 to 1 causes an increase of 1.0272499686377707 in the expected value of the outcome [y], over the data distribution/population represented by the dataset.\n"
     ]
    }
   ],
   "source": [
    "# Textual Interpreter\n",
    "interpretation = causal_estimate_strat.interpret(method_name=\"textual_effect_interpreter\")"
   ]
  },
  {
   "cell_type": "markdown",
   "id": "ed8f8016",
   "metadata": {},
   "source": [
    "### Visual Interpreter\n",
    "\n",
    "The visual interpreter plots the change in the standardized mean difference (SMD) before and after Propensity Score based adjustment of the dataset. The formula for SMD is given below.\n",
    "\n",
    "\n",
    "$SMD = \\frac{\\bar X_{1} - \\bar X_{2}}{\\sqrt{(S_{1}^{2} + S_{2}^{2})/2}}$\n",
    "\n",
    "Here, $\\bar X_{1}$ and $\\bar X_{2}$ are the sample mean for the treated and control groups.\n"
   ]
  },
  {
   "cell_type": "code",
   "execution_count": 10,
   "id": "2fb4b179",
   "metadata": {
    "execution": {
     "iopub.execute_input": "2022-07-28T19:00:56.099046Z",
     "iopub.status.busy": "2022-07-28T19:00:56.098555Z",
     "iopub.status.idle": "2022-07-28T19:00:57.108655Z",
     "shell.execute_reply": "2022-07-28T19:00:57.108033Z"
    }
   },
   "outputs": [
    {
     "data": {
      "image/png": "[encoded data removed]",
      "text/plain": [
       "<Figure size 432x288 with 1 Axes>"
      ]
     },
     "metadata": {
      "needs_background": "light"
     },
     "output_type": "display_data"
    }
   ],
   "source": [
    "# Visual Interpreter\n",
    "interpretation = causal_estimate_strat.interpret(method_name=\"propensity_balance_interpreter\")"
   ]
  },
  {
   "cell_type": "markdown",
   "id": "5b429dc9",
   "metadata": {},
   "source": [
    "This plot shows how the SMD decreases from the unadjusted to the stratified units. "
   ]
  },
  {
   "cell_type": "markdown",
   "id": "bdebbb5b",
   "metadata": {},
   "source": [
    "## Method 2: Propensity Score Matching\n",
    "\n",
    "We will be using propensity scores to match units in the data."
   ]
  },
  {
   "cell_type": "code",
   "execution_count": 11,
   "id": "11351e60",
   "metadata": {
    "execution": {
     "iopub.execute_input": "2022-07-28T19:00:57.112907Z",
     "iopub.status.busy": "2022-07-28T19:00:57.112257Z",
     "iopub.status.idle": "2022-07-28T19:01:00.670049Z",
     "shell.execute_reply": "2022-07-28T19:01:00.669388Z"
    }
   },
   "outputs": [
    {
     "name": "stdout",
     "output_type": "stream",
     "text": [
      "propensity_score_matching\n"
     ]
    },
    {
     "name": "stderr",
     "output_type": "stream",
     "text": [
      "/usr/local/lib/python3.8/dist-packages/sklearn/utils/validation.py:993: DataConversionWarning: A column-vector y was passed when a 1d array was expected. Please change the shape of y to (n_samples, ), for example using ravel().\n",
      "  y = column_or_1d(y, warn=True)\n"
     ]
    },
    {
     "name": "stdout",
     "output_type": "stream",
     "text": [
      "*** Causal Estimate ***\n",
      "\n",
      "## Identified estimand\n",
      "Estimand type: nonparametric-ate\n",
      "\n",
      "### Estimand : 1\n",
      "Estimand name: backdoor\n",
      "Estimand expression:\n",
      "  d                       \n",
      "─────(E[y|W0,W3,W2,W4,W1])\n",
      "d[v₀]                     \n",
      "Estimand assumption 1, Unconfoundedness: If U→{v0} and U→y then P(y|v0,W0,W3,W2,W4,W1,U) = P(y|v0,W0,W3,W2,W4,W1)\n",
      "\n",
      "## Realized estimand\n",
      "b: y~v0+W0+W3+W2+W4+W1\n",
      "Target units: atc\n",
      "\n",
      "## Estimate\n",
      "Mean value: 1.0209188236419628\n",
      "\n",
      "Causal Estimate is 1.0209188236419628\n"
     ]
    }
   ],
   "source": [
    "causal_estimate_match = model.estimate_effect(identified_estimand,\n",
    "                                              method_name=\"backdoor.propensity_score_matching\",\n",
    "                                              target_units=\"atc\")\n",
    "print(causal_estimate_match)\n",
    "print(\"Causal Estimate is \" + str(causal_estimate_match.value))"
   ]
  },
  {
   "cell_type": "code",
   "execution_count": 12,
   "id": "50a5dd40",
   "metadata": {
    "execution": {
     "iopub.execute_input": "2022-07-28T19:01:00.673405Z",
     "iopub.status.busy": "2022-07-28T19:01:00.672901Z",
     "iopub.status.idle": "2022-07-28T19:01:00.696779Z",
     "shell.execute_reply": "2022-07-28T19:01:00.696198Z"
    }
   },
   "outputs": [
    {
     "name": "stdout",
     "output_type": "stream",
     "text": [
      "Increasing the treatment variable(s) [v0] from 0 to 1 causes an increase of 1.0209188236419628 in the expected value of the outcome [y], over the data distribution/population represented by the dataset.\n"
     ]
    }
   ],
   "source": [
    "# Textual Interpreter\n",
    "interpretation = causal_estimate_match.interpret(method_name=\"textual_effect_interpreter\")"
   ]
  },
  {
   "cell_type": "markdown",
   "id": "9d8e2902",
   "metadata": {},
   "source": [
    "Cannot use propensity balance interpretor here since the interpreter method only supports propensity score stratification estimator."
   ]
  },
  {
   "cell_type": "markdown",
   "id": "b3f216d5",
   "metadata": {},
   "source": [
    "## Method 3: Weighting\n",
    "\n",
    "We will be using (inverse) propensity scores to assign weights to units in the data. DoWhy supports a few different weighting schemes:\n",
    "1. Vanilla Inverse Propensity Score weighting (IPS) (weighting_scheme=\"ips_weight\")\n",
    "2. Self-normalized IPS weighting (also known as the Hajek estimator) (weighting_scheme=\"ips_normalized_weight\")\n",
    "3. Stabilized IPS weighting (weighting_scheme = \"ips_stabilized_weight\")"
   ]
  },
  {
   "cell_type": "code",
   "execution_count": 13,
   "id": "01a481b2",
   "metadata": {
    "execution": {
     "iopub.execute_input": "2022-07-28T19:01:00.699882Z",
     "iopub.status.busy": "2022-07-28T19:01:00.699556Z",
     "iopub.status.idle": "2022-07-28T19:01:00.758803Z",
     "shell.execute_reply": "2022-07-28T19:01:00.758199Z"
    }
   },
   "outputs": [
    {
     "name": "stdout",
     "output_type": "stream",
     "text": [
      "propensity_score_weighting\n",
      "*** Causal Estimate ***\n",
      "\n",
      "## Identified estimand\n",
      "Estimand type: nonparametric-ate\n",
      "\n",
      "### Estimand : 1\n",
      "Estimand name: backdoor\n",
      "Estimand expression:\n",
      "  d                       \n",
      "─────(E[y|W0,W3,W2,W4,W1])\n",
      "d[v₀]                     \n",
      "Estimand assumption 1, Unconfoundedness: If U→{v0} and U→y then P(y|v0,W0,W3,W2,W4,W1,U) = P(y|v0,W0,W3,W2,W4,W1)\n",
      "\n",
      "## Realized estimand\n",
      "b: y~v0+W0+W3+W2+W4+W1\n",
      "Target units: ate\n",
      "\n",
      "## Estimate\n",
      "Mean value: 1.2885624713133108\n",
      "\n",
      "Causal Estimate is 1.2885624713133108\n"
     ]
    },
    {
     "name": "stderr",
     "output_type": "stream",
     "text": [
      "/usr/local/lib/python3.8/dist-packages/sklearn/utils/validation.py:993: DataConversionWarning: A column-vector y was passed when a 1d array was expected. Please change the shape of y to (n_samples, ), for example using ravel().\n",
      "  y = column_or_1d(y, warn=True)\n"
     ]
    }
   ],
   "source": [
    "causal_estimate_ipw = model.estimate_effect(identified_estimand,\n",
    "                                            method_name=\"backdoor.propensity_score_weighting\",\n",
    "                                            target_units = \"ate\",\n",
    "                                            method_params={\"weighting_scheme\":\"ips_weight\"})\n",
    "print(causal_estimate_ipw)\n",
    "print(\"Causal Estimate is \" + str(causal_estimate_ipw.value))"
   ]
  },
  {
   "cell_type": "code",
   "execution_count": 14,
   "id": "82b93d83",
   "metadata": {
    "execution": {
     "iopub.execute_input": "2022-07-28T19:01:00.761810Z",
     "iopub.status.busy": "2022-07-28T19:01:00.761489Z",
     "iopub.status.idle": "2022-07-28T19:01:00.785291Z",
     "shell.execute_reply": "2022-07-28T19:01:00.784697Z"
    }
   },
   "outputs": [
    {
     "name": "stdout",
     "output_type": "stream",
     "text": [
      "Increasing the treatment variable(s) [v0] from 0 to 1 causes an increase of 1.2885624713133108 in the expected value of the outcome [y], over the data distribution/population represented by the dataset.\n"
     ]
    }
   ],
   "source": [
    "# Textual Interpreter\n",
    "interpretation = causal_estimate_ipw.interpret(method_name=\"textual_effect_interpreter\")"
   ]
  },
  {
   "cell_type": "code",
   "execution_count": 15,
   "id": "e9102c08",
   "metadata": {
    "execution": {
     "iopub.execute_input": "2022-07-28T19:01:00.788310Z",
     "iopub.status.busy": "2022-07-28T19:01:00.788092Z",
     "iopub.status.idle": "2022-07-28T19:01:01.022135Z",
     "shell.execute_reply": "2022-07-28T19:01:01.021497Z"
    }
   },
   "outputs": [
    {
     "data": {
      "image/png": "[encoded data removed]",
      "text/plain": [
       "<Figure size 576x576 with 2 Axes>"
      ]
     },
     "metadata": {
      "needs_background": "light"
     },
     "output_type": "display_data"
    }
   ],
   "source": [
    "interpretation = causal_estimate_ipw.interpret(method_name=\"confounder_distribution_interpreter\", fig_size=(8,8), font_size=12, var_name='W4', var_type='discrete')"
   ]
  },
  {
   "cell_type": "code",
   "execution_count": null,
   "id": "b57ffb49",
   "metadata": {},
   "outputs": [],
   "source": []
  }
 ],
 "metadata": {
  "kernelspec": {
   "display_name": "Python 3",
   "language": "python",
   "name": "python3"
  },
  "language_info": {
   "codemirror_mode": {
    "name": "ipython",
    "version": 3
   },
   "file_extension": ".py",
   "mimetype": "text/x-python",
   "name": "python",
   "nbconvert_exporter": "python",
   "pygments_lexer": "ipython3",
   "version": "3.8.10"
  },
  "toc": {
   "base_numbering": 1,
   "nav_menu": {},
   "number_sections": false,
   "sideBar": true,
   "skip_h1_title": true,
   "title_cell": "Table of Contents",
   "title_sidebar": "Contents",
   "toc_cell": false,
   "toc_position": {},
   "toc_section_display": true,
   "toc_window_display": false
  }
 },
 "nbformat": 4,
 "nbformat_minor": 5
}
