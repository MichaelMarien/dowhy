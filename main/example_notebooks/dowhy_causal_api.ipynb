{
 "cells": [
  {
   "cell_type": "markdown",
   "metadata": {},
   "source": [
    "# Demo for the DoWhy causal API\n",
    "We show a simple example of adding a causal extension to any dataframe. "
   ]
  },
  {
   "cell_type": "code",
   "execution_count": 1,
   "metadata": {
    "execution": {
     "iopub.execute_input": "2022-07-28T19:00:10.730904Z",
     "iopub.status.busy": "2022-07-28T19:00:10.730509Z",
     "iopub.status.idle": "2022-07-28T19:00:11.865955Z",
     "shell.execute_reply": "2022-07-28T19:00:11.865231Z"
    }
   },
   "outputs": [
    {
     "name": "stdout",
     "output_type": "stream",
     "text": [
      "keywords are unexpanded, not using\n"
     ]
    }
   ],
   "source": [
    "import dowhy.datasets\n",
    "import dowhy.api\n",
    "\n",
    "import numpy as np\n",
    "import pandas as pd\n",
    "\n",
    "from statsmodels.api import OLS"
   ]
  },
  {
   "cell_type": "code",
   "execution_count": 2,
   "metadata": {
    "execution": {
     "iopub.execute_input": "2022-07-28T19:00:11.869598Z",
     "iopub.status.busy": "2022-07-28T19:00:11.868913Z",
     "iopub.status.idle": "2022-07-28T19:00:11.913964Z",
     "shell.execute_reply": "2022-07-28T19:00:11.913324Z"
    }
   },
   "outputs": [
    {
     "data": {
      "text/html": [
       "<div>\n",
       "<style scoped>\n",
       "    .dataframe tbody tr th:only-of-type {\n",
       "        vertical-align: middle;\n",
       "    }\n",
       "\n",
       "    .dataframe tbody tr th {\n",
       "        vertical-align: top;\n",
       "    }\n",
       "\n",
       "    .dataframe thead th {\n",
       "        text-align: right;\n",
       "    }\n",
       "</style>\n",
       "<table border=\"1\" class=\"dataframe\">\n",
       "  <thead>\n",
       "    <tr style=\"text-align: right;\">\n",
       "      <th></th>\n",
       "      <th>W0</th>\n",
       "      <th>v0</th>\n",
       "      <th>y</th>\n",
       "    </tr>\n",
       "  </thead>\n",
       "  <tbody>\n",
       "    <tr>\n",
       "      <th>0</th>\n",
       "      <td>-0.590275</td>\n",
       "      <td>False</td>\n",
       "      <td>-0.278171</td>\n",
       "    </tr>\n",
       "    <tr>\n",
       "      <th>1</th>\n",
       "      <td>0.566229</td>\n",
       "      <td>True</td>\n",
       "      <td>5.428592</td>\n",
       "    </tr>\n",
       "    <tr>\n",
       "      <th>2</th>\n",
       "      <td>-1.404438</td>\n",
       "      <td>False</td>\n",
       "      <td>0.298664</td>\n",
       "    </tr>\n",
       "    <tr>\n",
       "      <th>3</th>\n",
       "      <td>-1.067245</td>\n",
       "      <td>False</td>\n",
       "      <td>-0.878161</td>\n",
       "    </tr>\n",
       "    <tr>\n",
       "      <th>4</th>\n",
       "      <td>0.409522</td>\n",
       "      <td>True</td>\n",
       "      <td>3.438348</td>\n",
       "    </tr>\n",
       "    <tr>\n",
       "      <th>...</th>\n",
       "      <td>...</td>\n",
       "      <td>...</td>\n",
       "      <td>...</td>\n",
       "    </tr>\n",
       "    <tr>\n",
       "      <th>995</th>\n",
       "      <td>2.120289</td>\n",
       "      <td>True</td>\n",
       "      <td>5.751434</td>\n",
       "    </tr>\n",
       "    <tr>\n",
       "      <th>996</th>\n",
       "      <td>0.334102</td>\n",
       "      <td>False</td>\n",
       "      <td>-1.126786</td>\n",
       "    </tr>\n",
       "    <tr>\n",
       "      <th>997</th>\n",
       "      <td>0.061677</td>\n",
       "      <td>False</td>\n",
       "      <td>0.358249</td>\n",
       "    </tr>\n",
       "    <tr>\n",
       "      <th>998</th>\n",
       "      <td>0.598117</td>\n",
       "      <td>True</td>\n",
       "      <td>5.104926</td>\n",
       "    </tr>\n",
       "    <tr>\n",
       "      <th>999</th>\n",
       "      <td>0.491189</td>\n",
       "      <td>True</td>\n",
       "      <td>4.076596</td>\n",
       "    </tr>\n",
       "  </tbody>\n",
       "</table>\n",
       "<p>1000 rows × 3 columns</p>\n",
       "</div>"
      ],
      "text/plain": [
       "           W0     v0         y\n",
       "0   -0.590275  False -0.278171\n",
       "1    0.566229   True  5.428592\n",
       "2   -1.404438  False  0.298664\n",
       "3   -1.067245  False -0.878161\n",
       "4    0.409522   True  3.438348\n",
       "..        ...    ...       ...\n",
       "995  2.120289   True  5.751434\n",
       "996  0.334102  False -1.126786\n",
       "997  0.061677  False  0.358249\n",
       "998  0.598117   True  5.104926\n",
       "999  0.491189   True  4.076596\n",
       "\n",
       "[1000 rows x 3 columns]"
      ]
     },
     "execution_count": 2,
     "metadata": {},
     "output_type": "execute_result"
    }
   ],
   "source": [
    "data = dowhy.datasets.linear_dataset(beta=5,\n",
    "        num_common_causes=1,\n",
    "        num_instruments = 0,\n",
    "        num_samples=1000,\n",
    "        treatment_is_binary=True)\n",
    "df = data['df']\n",
    "df['y'] = df['y'] + np.random.normal(size=len(df)) # Adding noise to data. Without noise, the variance in Y|X, Z is zero, and mcmc fails.\n",
    "#data['dot_graph'] = 'digraph { v ->y;X0-> v;X0-> y;}'\n",
    "\n",
    "treatment= data[\"treatment_name\"][0]\n",
    "outcome = data[\"outcome_name\"][0]\n",
    "common_cause = data[\"common_causes_names\"][0]\n",
    "df"
   ]
  },
  {
   "cell_type": "code",
   "execution_count": 3,
   "metadata": {
    "execution": {
     "iopub.execute_input": "2022-07-28T19:00:11.917683Z",
     "iopub.status.busy": "2022-07-28T19:00:11.917125Z",
     "iopub.status.idle": "2022-07-28T19:00:12.678186Z",
     "shell.execute_reply": "2022-07-28T19:00:12.677642Z"
    }
   },
   "outputs": [
    {
     "data": {
      "text/plain": [
       "<AxesSubplot:xlabel='v0'>"
      ]
     },
     "execution_count": 3,
     "metadata": {},
     "output_type": "execute_result"
    },
    {
     "data": {
      "image/png": "[encoded data removed]",
      "text/plain": [
       "<Figure size 432x288 with 1 Axes>"
      ]
     },
     "metadata": {
      "needs_background": "light"
     },
     "output_type": "display_data"
    }
   ],
   "source": [
    "# data['df'] is just a regular pandas.DataFrame\n",
    "df.causal.do(x=treatment,\n",
    "                     variable_types={treatment: 'b', outcome: 'c', common_cause: 'c'},\n",
    "                     outcome=outcome,\n",
    "                     common_causes=[common_cause],\n",
    "                     proceed_when_unidentifiable=True).groupby(treatment).mean().plot(y=outcome, kind='bar')"
   ]
  },
  {
   "cell_type": "code",
   "execution_count": 4,
   "metadata": {
    "execution": {
     "iopub.execute_input": "2022-07-28T19:00:12.681888Z",
     "iopub.status.busy": "2022-07-28T19:00:12.681101Z",
     "iopub.status.idle": "2022-07-28T19:00:12.769558Z",
     "shell.execute_reply": "2022-07-28T19:00:12.769024Z"
    }
   },
   "outputs": [
    {
     "data": {
      "text/plain": [
       "<AxesSubplot:xlabel='v0'>"
      ]
     },
     "execution_count": 4,
     "metadata": {},
     "output_type": "execute_result"
    },
    {
     "data": {
      "image/png": "[encoded data removed]",
      "text/plain": [
       "<Figure size 432x288 with 1 Axes>"
      ]
     },
     "metadata": {
      "needs_background": "light"
     },
     "output_type": "display_data"
    }
   ],
   "source": [
    "df.causal.do(x={treatment: 1}, \n",
    "              variable_types={treatment:'b', outcome: 'c', common_cause: 'c'}, \n",
    "              outcome=outcome,\n",
    "              method='weighting', \n",
    "              common_causes=[common_cause],\n",
    "              proceed_when_unidentifiable=True).groupby(treatment).mean().plot(y=outcome, kind='bar')"
   ]
  },
  {
   "cell_type": "code",
   "execution_count": 5,
   "metadata": {
    "execution": {
     "iopub.execute_input": "2022-07-28T19:00:12.773570Z",
     "iopub.status.busy": "2022-07-28T19:00:12.772507Z",
     "iopub.status.idle": "2022-07-28T19:00:12.803848Z",
     "shell.execute_reply": "2022-07-28T19:00:12.803299Z"
    }
   },
   "outputs": [],
   "source": [
    "cdf_1 = df.causal.do(x={treatment: 1}, \n",
    "              variable_types={treatment: 'b', outcome: 'c', common_cause: 'c'}, \n",
    "              outcome=outcome, \n",
    "              dot_graph=data['dot_graph'],\n",
    "              proceed_when_unidentifiable=True)\n",
    "\n",
    "cdf_0 = df.causal.do(x={treatment: 0}, \n",
    "              variable_types={treatment: 'b', outcome: 'c', common_cause: 'c'}, \n",
    "              outcome=outcome, \n",
    "              dot_graph=data['dot_graph'],\n",
    "              proceed_when_unidentifiable=True)\n"
   ]
  },
  {
   "cell_type": "code",
   "execution_count": 6,
   "metadata": {
    "execution": {
     "iopub.execute_input": "2022-07-28T19:00:12.808294Z",
     "iopub.status.busy": "2022-07-28T19:00:12.807260Z",
     "iopub.status.idle": "2022-07-28T19:00:12.819722Z",
     "shell.execute_reply": "2022-07-28T19:00:12.819164Z"
    },
    "scrolled": true
   },
   "outputs": [
    {
     "data": {
      "text/html": [
       "<div>\n",
       "<style scoped>\n",
       "    .dataframe tbody tr th:only-of-type {\n",
       "        vertical-align: middle;\n",
       "    }\n",
       "\n",
       "    .dataframe tbody tr th {\n",
       "        vertical-align: top;\n",
       "    }\n",
       "\n",
       "    .dataframe thead th {\n",
       "        text-align: right;\n",
       "    }\n",
       "</style>\n",
       "<table border=\"1\" class=\"dataframe\">\n",
       "  <thead>\n",
       "    <tr style=\"text-align: right;\">\n",
       "      <th></th>\n",
       "      <th>W0</th>\n",
       "      <th>v0</th>\n",
       "      <th>y</th>\n",
       "      <th>propensity_score</th>\n",
       "      <th>weight</th>\n",
       "    </tr>\n",
       "  </thead>\n",
       "  <tbody>\n",
       "    <tr>\n",
       "      <th>0</th>\n",
       "      <td>0.720938</td>\n",
       "      <td>False</td>\n",
       "      <td>1.026717</td>\n",
       "      <td>0.261105</td>\n",
       "      <td>3.829876</td>\n",
       "    </tr>\n",
       "    <tr>\n",
       "      <th>1</th>\n",
       "      <td>-0.315114</td>\n",
       "      <td>False</td>\n",
       "      <td>0.309982</td>\n",
       "      <td>0.636699</td>\n",
       "      <td>1.570600</td>\n",
       "    </tr>\n",
       "    <tr>\n",
       "      <th>2</th>\n",
       "      <td>-2.425106</td>\n",
       "      <td>False</td>\n",
       "      <td>-1.844424</td>\n",
       "      <td>0.978589</td>\n",
       "      <td>1.021879</td>\n",
       "    </tr>\n",
       "    <tr>\n",
       "      <th>3</th>\n",
       "      <td>-0.230975</td>\n",
       "      <td>False</td>\n",
       "      <td>-0.875650</td>\n",
       "      <td>0.606118</td>\n",
       "      <td>1.649843</td>\n",
       "    </tr>\n",
       "    <tr>\n",
       "      <th>4</th>\n",
       "      <td>-0.178588</td>\n",
       "      <td>False</td>\n",
       "      <td>0.046887</td>\n",
       "      <td>0.586631</td>\n",
       "      <td>1.704649</td>\n",
       "    </tr>\n",
       "    <tr>\n",
       "      <th>...</th>\n",
       "      <td>...</td>\n",
       "      <td>...</td>\n",
       "      <td>...</td>\n",
       "      <td>...</td>\n",
       "      <td>...</td>\n",
       "    </tr>\n",
       "    <tr>\n",
       "      <th>995</th>\n",
       "      <td>0.595532</td>\n",
       "      <td>False</td>\n",
       "      <td>2.211574</td>\n",
       "      <td>0.300187</td>\n",
       "      <td>3.331259</td>\n",
       "    </tr>\n",
       "    <tr>\n",
       "      <th>996</th>\n",
       "      <td>-0.256600</td>\n",
       "      <td>False</td>\n",
       "      <td>-0.557709</td>\n",
       "      <td>0.615533</td>\n",
       "      <td>1.624609</td>\n",
       "    </tr>\n",
       "    <tr>\n",
       "      <th>997</th>\n",
       "      <td>1.048891</td>\n",
       "      <td>False</td>\n",
       "      <td>-0.438842</td>\n",
       "      <td>0.175504</td>\n",
       "      <td>5.697876</td>\n",
       "    </tr>\n",
       "    <tr>\n",
       "      <th>998</th>\n",
       "      <td>0.568455</td>\n",
       "      <td>False</td>\n",
       "      <td>-1.317740</td>\n",
       "      <td>0.309051</td>\n",
       "      <td>3.235709</td>\n",
       "    </tr>\n",
       "    <tr>\n",
       "      <th>999</th>\n",
       "      <td>0.604950</td>\n",
       "      <td>False</td>\n",
       "      <td>2.037041</td>\n",
       "      <td>0.297138</td>\n",
       "      <td>3.365442</td>\n",
       "    </tr>\n",
       "  </tbody>\n",
       "</table>\n",
       "<p>1000 rows × 5 columns</p>\n",
       "</div>"
      ],
      "text/plain": [
       "           W0     v0         y  propensity_score    weight\n",
       "0    0.720938  False  1.026717          0.261105  3.829876\n",
       "1   -0.315114  False  0.309982          0.636699  1.570600\n",
       "2   -2.425106  False -1.844424          0.978589  1.021879\n",
       "3   -0.230975  False -0.875650          0.606118  1.649843\n",
       "4   -0.178588  False  0.046887          0.586631  1.704649\n",
       "..        ...    ...       ...               ...       ...\n",
       "995  0.595532  False  2.211574          0.300187  3.331259\n",
       "996 -0.256600  False -0.557709          0.615533  1.624609\n",
       "997  1.048891  False -0.438842          0.175504  5.697876\n",
       "998  0.568455  False -1.317740          0.309051  3.235709\n",
       "999  0.604950  False  2.037041          0.297138  3.365442\n",
       "\n",
       "[1000 rows x 5 columns]"
      ]
     },
     "execution_count": 6,
     "metadata": {},
     "output_type": "execute_result"
    }
   ],
   "source": [
    "cdf_0"
   ]
  },
  {
   "cell_type": "code",
   "execution_count": 7,
   "metadata": {
    "execution": {
     "iopub.execute_input": "2022-07-28T19:00:12.822920Z",
     "iopub.status.busy": "2022-07-28T19:00:12.822568Z",
     "iopub.status.idle": "2022-07-28T19:00:12.835042Z",
     "shell.execute_reply": "2022-07-28T19:00:12.834462Z"
    }
   },
   "outputs": [
    {
     "data": {
      "text/html": [
       "<div>\n",
       "<style scoped>\n",
       "    .dataframe tbody tr th:only-of-type {\n",
       "        vertical-align: middle;\n",
       "    }\n",
       "\n",
       "    .dataframe tbody tr th {\n",
       "        vertical-align: top;\n",
       "    }\n",
       "\n",
       "    .dataframe thead th {\n",
       "        text-align: right;\n",
       "    }\n",
       "</style>\n",
       "<table border=\"1\" class=\"dataframe\">\n",
       "  <thead>\n",
       "    <tr style=\"text-align: right;\">\n",
       "      <th></th>\n",
       "      <th>W0</th>\n",
       "      <th>v0</th>\n",
       "      <th>y</th>\n",
       "      <th>propensity_score</th>\n",
       "      <th>weight</th>\n",
       "    </tr>\n",
       "  </thead>\n",
       "  <tbody>\n",
       "    <tr>\n",
       "      <th>0</th>\n",
       "      <td>-0.069022</td>\n",
       "      <td>True</td>\n",
       "      <td>5.954364</td>\n",
       "      <td>0.454944</td>\n",
       "      <td>2.198072</td>\n",
       "    </tr>\n",
       "    <tr>\n",
       "      <th>1</th>\n",
       "      <td>-0.624598</td>\n",
       "      <td>True</td>\n",
       "      <td>4.124694</td>\n",
       "      <td>0.261266</td>\n",
       "      <td>3.827523</td>\n",
       "    </tr>\n",
       "    <tr>\n",
       "      <th>2</th>\n",
       "      <td>-0.682817</td>\n",
       "      <td>True</td>\n",
       "      <td>5.507109</td>\n",
       "      <td>0.244275</td>\n",
       "      <td>4.093745</td>\n",
       "    </tr>\n",
       "    <tr>\n",
       "      <th>3</th>\n",
       "      <td>1.182762</td>\n",
       "      <td>True</td>\n",
       "      <td>6.438738</td>\n",
       "      <td>0.852459</td>\n",
       "      <td>1.173077</td>\n",
       "    </tr>\n",
       "    <tr>\n",
       "      <th>4</th>\n",
       "      <td>0.385150</td>\n",
       "      <td>True</td>\n",
       "      <td>3.698663</td>\n",
       "      <td>0.627439</td>\n",
       "      <td>1.593780</td>\n",
       "    </tr>\n",
       "    <tr>\n",
       "      <th>...</th>\n",
       "      <td>...</td>\n",
       "      <td>...</td>\n",
       "      <td>...</td>\n",
       "      <td>...</td>\n",
       "      <td>...</td>\n",
       "    </tr>\n",
       "    <tr>\n",
       "      <th>995</th>\n",
       "      <td>0.855403</td>\n",
       "      <td>True</td>\n",
       "      <td>4.667625</td>\n",
       "      <td>0.776964</td>\n",
       "      <td>1.287061</td>\n",
       "    </tr>\n",
       "    <tr>\n",
       "      <th>996</th>\n",
       "      <td>0.779531</td>\n",
       "      <td>True</td>\n",
       "      <td>3.494618</td>\n",
       "      <td>0.755985</td>\n",
       "      <td>1.322777</td>\n",
       "    </tr>\n",
       "    <tr>\n",
       "      <th>997</th>\n",
       "      <td>0.354768</td>\n",
       "      <td>True</td>\n",
       "      <td>5.699484</td>\n",
       "      <td>0.616398</td>\n",
       "      <td>1.622328</td>\n",
       "    </tr>\n",
       "    <tr>\n",
       "      <th>998</th>\n",
       "      <td>1.816726</td>\n",
       "      <td>True</td>\n",
       "      <td>5.164837</td>\n",
       "      <td>0.938995</td>\n",
       "      <td>1.064968</td>\n",
       "    </tr>\n",
       "    <tr>\n",
       "      <th>999</th>\n",
       "      <td>1.069166</td>\n",
       "      <td>True</td>\n",
       "      <td>6.907442</td>\n",
       "      <td>0.828985</td>\n",
       "      <td>1.206295</td>\n",
       "    </tr>\n",
       "  </tbody>\n",
       "</table>\n",
       "<p>1000 rows × 5 columns</p>\n",
       "</div>"
      ],
      "text/plain": [
       "           W0    v0         y  propensity_score    weight\n",
       "0   -0.069022  True  5.954364          0.454944  2.198072\n",
       "1   -0.624598  True  4.124694          0.261266  3.827523\n",
       "2   -0.682817  True  5.507109          0.244275  4.093745\n",
       "3    1.182762  True  6.438738          0.852459  1.173077\n",
       "4    0.385150  True  3.698663          0.627439  1.593780\n",
       "..        ...   ...       ...               ...       ...\n",
       "995  0.855403  True  4.667625          0.776964  1.287061\n",
       "996  0.779531  True  3.494618          0.755985  1.322777\n",
       "997  0.354768  True  5.699484          0.616398  1.622328\n",
       "998  1.816726  True  5.164837          0.938995  1.064968\n",
       "999  1.069166  True  6.907442          0.828985  1.206295\n",
       "\n",
       "[1000 rows x 5 columns]"
      ]
     },
     "execution_count": 7,
     "metadata": {},
     "output_type": "execute_result"
    }
   ],
   "source": [
    "cdf_1"
   ]
  },
  {
   "cell_type": "markdown",
   "metadata": {},
   "source": [
    "## Comparing the estimate to Linear Regression\n",
    "First, estimating the effect using the causal data frame, and the 95% confidence interval."
   ]
  },
  {
   "cell_type": "code",
   "execution_count": 8,
   "metadata": {
    "execution": {
     "iopub.execute_input": "2022-07-28T19:00:12.837845Z",
     "iopub.status.busy": "2022-07-28T19:00:12.837510Z",
     "iopub.status.idle": "2022-07-28T19:00:12.934993Z",
     "shell.execute_reply": "2022-07-28T19:00:12.934362Z"
    }
   },
   "outputs": [
    {
     "data": {
      "image/png": "[encoded data removed]",
      "text/latex": [
       "$\\displaystyle 5.0501183140266$"
      ],
      "text/plain": [
       "5.050118314026597"
      ]
     },
     "execution_count": 8,
     "metadata": {},
     "output_type": "execute_result"
    }
   ],
   "source": [
    "(cdf_1['y'] - cdf_0['y']).mean()"
   ]
  },
  {
   "cell_type": "code",
   "execution_count": 9,
   "metadata": {
    "execution": {
     "iopub.execute_input": "2022-07-28T19:00:12.938178Z",
     "iopub.status.busy": "2022-07-28T19:00:12.937636Z",
     "iopub.status.idle": "2022-07-28T19:00:12.963025Z",
     "shell.execute_reply": "2022-07-28T19:00:12.962381Z"
    }
   },
   "outputs": [
    {
     "data": {
      "image/png": "[encoded data removed]",
      "text/latex": [
       "$\\displaystyle 0.104869944286409$"
      ],
      "text/plain": [
       "0.10486994428640863"
      ]
     },
     "execution_count": 9,
     "metadata": {},
     "output_type": "execute_result"
    }
   ],
   "source": [
    "1.96*(cdf_1['y'] - cdf_0['y']).std() / np.sqrt(len(df))"
   ]
  },
  {
   "cell_type": "markdown",
   "metadata": {},
   "source": [
    "Comparing to the estimate from OLS."
   ]
  },
  {
   "cell_type": "code",
   "execution_count": 10,
   "metadata": {
    "execution": {
     "iopub.execute_input": "2022-07-28T19:00:12.965940Z",
     "iopub.status.busy": "2022-07-28T19:00:12.965523Z",
     "iopub.status.idle": "2022-07-28T19:00:12.979497Z",
     "shell.execute_reply": "2022-07-28T19:00:12.978904Z"
    }
   },
   "outputs": [
    {
     "data": {
      "text/html": [
       "<table class=\"simpletable\">\n",
       "<caption>OLS Regression Results</caption>\n",
       "<tr>\n",
       "  <th>Dep. Variable:</th>            <td>y</td>        <th>  R-squared (uncentered):</th>      <td>   0.941</td>\n",
       "</tr>\n",
       "<tr>\n",
       "  <th>Model:</th>                   <td>OLS</td>       <th>  Adj. R-squared (uncentered):</th> <td>   0.941</td>\n",
       "</tr>\n",
       "<tr>\n",
       "  <th>Method:</th>             <td>Least Squares</td>  <th>  F-statistic:       </th>          <td>   8001.</td>\n",
       "</tr>\n",
       "<tr>\n",
       "  <th>Date:</th>             <td>Thu, 28 Jul 2022</td> <th>  Prob (F-statistic):</th>           <td>  0.00</td> \n",
       "</tr>\n",
       "<tr>\n",
       "  <th>Time:</th>                 <td>19:00:12</td>     <th>  Log-Likelihood:    </th>          <td> -1434.1</td>\n",
       "</tr>\n",
       "<tr>\n",
       "  <th>No. Observations:</th>      <td>  1000</td>      <th>  AIC:               </th>          <td>   2872.</td>\n",
       "</tr>\n",
       "<tr>\n",
       "  <th>Df Residuals:</th>          <td>   998</td>      <th>  BIC:               </th>          <td>   2882.</td>\n",
       "</tr>\n",
       "<tr>\n",
       "  <th>Df Model:</th>              <td>     2</td>      <th>                     </th>              <td> </td>   \n",
       "</tr>\n",
       "<tr>\n",
       "  <th>Covariance Type:</th>      <td>nonrobust</td>    <th>                     </th>              <td> </td>   \n",
       "</tr>\n",
       "</table>\n",
       "<table class=\"simpletable\">\n",
       "<tr>\n",
       "   <td></td>     <th>coef</th>     <th>std err</th>      <th>t</th>      <th>P>|t|</th>  <th>[0.025</th>    <th>0.975]</th>  \n",
       "</tr>\n",
       "<tr>\n",
       "  <th>x1</th> <td>    0.6763</td> <td>    0.037</td> <td>   18.329</td> <td> 0.000</td> <td>    0.604</td> <td>    0.749</td>\n",
       "</tr>\n",
       "<tr>\n",
       "  <th>x2</th> <td>    5.0178</td> <td>    0.050</td> <td>   99.734</td> <td> 0.000</td> <td>    4.919</td> <td>    5.116</td>\n",
       "</tr>\n",
       "</table>\n",
       "<table class=\"simpletable\">\n",
       "<tr>\n",
       "  <th>Omnibus:</th>       <td> 0.705</td> <th>  Durbin-Watson:     </th> <td>   1.957</td>\n",
       "</tr>\n",
       "<tr>\n",
       "  <th>Prob(Omnibus):</th> <td> 0.703</td> <th>  Jarque-Bera (JB):  </th> <td>   0.576</td>\n",
       "</tr>\n",
       "<tr>\n",
       "  <th>Skew:</th>          <td> 0.022</td> <th>  Prob(JB):          </th> <td>   0.750</td>\n",
       "</tr>\n",
       "<tr>\n",
       "  <th>Kurtosis:</th>      <td> 3.109</td> <th>  Cond. No.          </th> <td>    1.88</td>\n",
       "</tr>\n",
       "</table><br/><br/>Notes:<br/>[1] R² is computed without centering (uncentered) since the model does not contain a constant.<br/>[2] Standard Errors assume that the covariance matrix of the errors is correctly specified."
      ],
      "text/plain": [
       "<class 'statsmodels.iolib.summary.Summary'>\n",
       "\"\"\"\n",
       "                                 OLS Regression Results                                \n",
       "=======================================================================================\n",
       "Dep. Variable:                      y   R-squared (uncentered):                   0.941\n",
       "Model:                            OLS   Adj. R-squared (uncentered):              0.941\n",
       "Method:                 Least Squares   F-statistic:                              8001.\n",
       "Date:                Thu, 28 Jul 2022   Prob (F-statistic):                        0.00\n",
       "Time:                        19:00:12   Log-Likelihood:                         -1434.1\n",
       "No. Observations:                1000   AIC:                                      2872.\n",
       "Df Residuals:                     998   BIC:                                      2882.\n",
       "Df Model:                           2                                                  \n",
       "Covariance Type:            nonrobust                                                  \n",
       "==============================================================================\n",
       "                 coef    std err          t      P>|t|      [0.025      0.975]\n",
       "------------------------------------------------------------------------------\n",
       "x1             0.6763      0.037     18.329      0.000       0.604       0.749\n",
       "x2             5.0178      0.050     99.734      0.000       4.919       5.116\n",
       "==============================================================================\n",
       "Omnibus:                        0.705   Durbin-Watson:                   1.957\n",
       "Prob(Omnibus):                  0.703   Jarque-Bera (JB):                0.576\n",
       "Skew:                           0.022   Prob(JB):                        0.750\n",
       "Kurtosis:                       3.109   Cond. No.                         1.88\n",
       "==============================================================================\n",
       "\n",
       "Notes:\n",
       "[1] R² is computed without centering (uncentered) since the model does not contain a constant.\n",
       "[2] Standard Errors assume that the covariance matrix of the errors is correctly specified.\n",
       "\"\"\""
      ]
     },
     "execution_count": 10,
     "metadata": {},
     "output_type": "execute_result"
    }
   ],
   "source": [
    "model = OLS(np.asarray(df[outcome]), np.asarray(df[[common_cause, treatment]], dtype=np.float64))\n",
    "result = model.fit()\n",
    "result.summary()"
   ]
  }
 ],
 "metadata": {
  "kernelspec": {
   "display_name": "Python 3",
   "language": "python",
   "name": "python3"
  },
  "language_info": {
   "codemirror_mode": {
    "name": "ipython",
    "version": 3
   },
   "file_extension": ".py",
   "mimetype": "text/x-python",
   "name": "python",
   "nbconvert_exporter": "python",
   "pygments_lexer": "ipython3",
   "version": "3.8.10"
  },
  "toc": {
   "base_numbering": 1,
   "nav_menu": {},
   "number_sections": false,
   "sideBar": true,
   "skip_h1_title": true,
   "title_cell": "Table of Contents",
   "title_sidebar": "Contents",
   "toc_cell": false,
   "toc_position": {},
   "toc_section_display": true,
   "toc_window_display": false
  }
 },
 "nbformat": 4,
 "nbformat_minor": 4
}
