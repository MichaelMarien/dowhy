{
 "cells": [
  {
   "cell_type": "markdown",
   "metadata": {},
   "source": [
    "# Demo for the DoWhy causal API\n",
    "We show a simple example of adding a causal extension to any dataframe. "
   ]
  },
  {
   "cell_type": "code",
   "execution_count": 1,
   "metadata": {
    "execution": {
     "iopub.execute_input": "2022-08-21T18:10:57.360472Z",
     "iopub.status.busy": "2022-08-21T18:10:57.359948Z",
     "iopub.status.idle": "2022-08-21T18:10:58.738245Z",
     "shell.execute_reply": "2022-08-21T18:10:58.737229Z"
    }
   },
   "outputs": [],
   "source": [
    "import dowhy.datasets\n",
    "import dowhy.api\n",
    "\n",
    "import numpy as np\n",
    "import pandas as pd\n",
    "\n",
    "from statsmodels.api import OLS"
   ]
  },
  {
   "cell_type": "code",
   "execution_count": 2,
   "metadata": {
    "execution": {
     "iopub.execute_input": "2022-08-21T18:10:58.742770Z",
     "iopub.status.busy": "2022-08-21T18:10:58.742014Z",
     "iopub.status.idle": "2022-08-21T18:10:58.793802Z",
     "shell.execute_reply": "2022-08-21T18:10:58.792889Z"
    }
   },
   "outputs": [
    {
     "data": {
      "text/html": [
       "<div>\n",
       "<style scoped>\n",
       "    .dataframe tbody tr th:only-of-type {\n",
       "        vertical-align: middle;\n",
       "    }\n",
       "\n",
       "    .dataframe tbody tr th {\n",
       "        vertical-align: top;\n",
       "    }\n",
       "\n",
       "    .dataframe thead th {\n",
       "        text-align: right;\n",
       "    }\n",
       "</style>\n",
       "<table border=\"1\" class=\"dataframe\">\n",
       "  <thead>\n",
       "    <tr style=\"text-align: right;\">\n",
       "      <th></th>\n",
       "      <th>W0</th>\n",
       "      <th>v0</th>\n",
       "      <th>y</th>\n",
       "    </tr>\n",
       "  </thead>\n",
       "  <tbody>\n",
       "    <tr>\n",
       "      <th>0</th>\n",
       "      <td>-2.341534</td>\n",
       "      <td>False</td>\n",
       "      <td>-4.762551</td>\n",
       "    </tr>\n",
       "    <tr>\n",
       "      <th>1</th>\n",
       "      <td>-1.745528</td>\n",
       "      <td>False</td>\n",
       "      <td>-3.134729</td>\n",
       "    </tr>\n",
       "    <tr>\n",
       "      <th>2</th>\n",
       "      <td>0.783259</td>\n",
       "      <td>False</td>\n",
       "      <td>2.356550</td>\n",
       "    </tr>\n",
       "    <tr>\n",
       "      <th>3</th>\n",
       "      <td>-0.557420</td>\n",
       "      <td>True</td>\n",
       "      <td>2.712726</td>\n",
       "    </tr>\n",
       "    <tr>\n",
       "      <th>4</th>\n",
       "      <td>-0.207072</td>\n",
       "      <td>False</td>\n",
       "      <td>0.813475</td>\n",
       "    </tr>\n",
       "    <tr>\n",
       "      <th>...</th>\n",
       "      <td>...</td>\n",
       "      <td>...</td>\n",
       "      <td>...</td>\n",
       "    </tr>\n",
       "    <tr>\n",
       "      <th>995</th>\n",
       "      <td>-2.400580</td>\n",
       "      <td>False</td>\n",
       "      <td>-6.188552</td>\n",
       "    </tr>\n",
       "    <tr>\n",
       "      <th>996</th>\n",
       "      <td>-0.854212</td>\n",
       "      <td>False</td>\n",
       "      <td>-1.998392</td>\n",
       "    </tr>\n",
       "    <tr>\n",
       "      <th>997</th>\n",
       "      <td>-0.546931</td>\n",
       "      <td>True</td>\n",
       "      <td>3.280933</td>\n",
       "    </tr>\n",
       "    <tr>\n",
       "      <th>998</th>\n",
       "      <td>-0.131038</td>\n",
       "      <td>True</td>\n",
       "      <td>5.639356</td>\n",
       "    </tr>\n",
       "    <tr>\n",
       "      <th>999</th>\n",
       "      <td>-2.135581</td>\n",
       "      <td>True</td>\n",
       "      <td>-0.636913</td>\n",
       "    </tr>\n",
       "  </tbody>\n",
       "</table>\n",
       "<p>1000 rows × 3 columns</p>\n",
       "</div>"
      ],
      "text/plain": [
       "           W0     v0         y\n",
       "0   -2.341534  False -4.762551\n",
       "1   -1.745528  False -3.134729\n",
       "2    0.783259  False  2.356550\n",
       "3   -0.557420   True  2.712726\n",
       "4   -0.207072  False  0.813475\n",
       "..        ...    ...       ...\n",
       "995 -2.400580  False -6.188552\n",
       "996 -0.854212  False -1.998392\n",
       "997 -0.546931   True  3.280933\n",
       "998 -0.131038   True  5.639356\n",
       "999 -2.135581   True -0.636913\n",
       "\n",
       "[1000 rows x 3 columns]"
      ]
     },
     "execution_count": 2,
     "metadata": {},
     "output_type": "execute_result"
    }
   ],
   "source": [
    "data = dowhy.datasets.linear_dataset(beta=5,\n",
    "        num_common_causes=1,\n",
    "        num_instruments = 0,\n",
    "        num_samples=1000,\n",
    "        treatment_is_binary=True)\n",
    "df = data['df']\n",
    "df['y'] = df['y'] + np.random.normal(size=len(df)) # Adding noise to data. Without noise, the variance in Y|X, Z is zero, and mcmc fails.\n",
    "#data['dot_graph'] = 'digraph { v ->y;X0-> v;X0-> y;}'\n",
    "\n",
    "treatment= data[\"treatment_name\"][0]\n",
    "outcome = data[\"outcome_name\"][0]\n",
    "common_cause = data[\"common_causes_names\"][0]\n",
    "df"
   ]
  },
  {
   "cell_type": "code",
   "execution_count": 3,
   "metadata": {
    "execution": {
     "iopub.execute_input": "2022-08-21T18:10:58.798598Z",
     "iopub.status.busy": "2022-08-21T18:10:58.798185Z",
     "iopub.status.idle": "2022-08-21T18:10:59.696828Z",
     "shell.execute_reply": "2022-08-21T18:10:59.696167Z"
    }
   },
   "outputs": [
    {
     "data": {
      "text/plain": [
       "<AxesSubplot:xlabel='v0'>"
      ]
     },
     "execution_count": 3,
     "metadata": {},
     "output_type": "execute_result"
    },
    {
     "data": {
      "image/png": "[encoded data removed]",
      "text/plain": [
       "<Figure size 640x480 with 1 Axes>"
      ]
     },
     "metadata": {},
     "output_type": "display_data"
    }
   ],
   "source": [
    "# data['df'] is just a regular pandas.DataFrame\n",
    "df.causal.do(x=treatment,\n",
    "                     variable_types={treatment: 'b', outcome: 'c', common_cause: 'c'},\n",
    "                     outcome=outcome,\n",
    "                     common_causes=[common_cause],\n",
    "                     proceed_when_unidentifiable=True).groupby(treatment).mean().plot(y=outcome, kind='bar')"
   ]
  },
  {
   "cell_type": "code",
   "execution_count": 4,
   "metadata": {
    "execution": {
     "iopub.execute_input": "2022-08-21T18:10:59.700926Z",
     "iopub.status.busy": "2022-08-21T18:10:59.700240Z",
     "iopub.status.idle": "2022-08-21T18:10:59.834376Z",
     "shell.execute_reply": "2022-08-21T18:10:59.833669Z"
    }
   },
   "outputs": [
    {
     "data": {
      "text/plain": [
       "<AxesSubplot:xlabel='v0'>"
      ]
     },
     "execution_count": 4,
     "metadata": {},
     "output_type": "execute_result"
    },
    {
     "data": {
      "image/png": "[encoded data removed]",
      "text/plain": [
       "<Figure size 640x480 with 1 Axes>"
      ]
     },
     "metadata": {},
     "output_type": "display_data"
    }
   ],
   "source": [
    "df.causal.do(x={treatment: 1}, \n",
    "              variable_types={treatment:'b', outcome: 'c', common_cause: 'c'}, \n",
    "              outcome=outcome,\n",
    "              method='weighting', \n",
    "              common_causes=[common_cause],\n",
    "              proceed_when_unidentifiable=True).groupby(treatment).mean().plot(y=outcome, kind='bar')"
   ]
  },
  {
   "cell_type": "code",
   "execution_count": 5,
   "metadata": {
    "execution": {
     "iopub.execute_input": "2022-08-21T18:10:59.839065Z",
     "iopub.status.busy": "2022-08-21T18:10:59.837867Z",
     "iopub.status.idle": "2022-08-21T18:10:59.875736Z",
     "shell.execute_reply": "2022-08-21T18:10:59.874866Z"
    }
   },
   "outputs": [],
   "source": [
    "cdf_1 = df.causal.do(x={treatment: 1}, \n",
    "              variable_types={treatment: 'b', outcome: 'c', common_cause: 'c'}, \n",
    "              outcome=outcome, \n",
    "              dot_graph=data['dot_graph'],\n",
    "              proceed_when_unidentifiable=True)\n",
    "\n",
    "cdf_0 = df.causal.do(x={treatment: 0}, \n",
    "              variable_types={treatment: 'b', outcome: 'c', common_cause: 'c'}, \n",
    "              outcome=outcome, \n",
    "              dot_graph=data['dot_graph'],\n",
    "              proceed_when_unidentifiable=True)\n"
   ]
  },
  {
   "cell_type": "code",
   "execution_count": 6,
   "metadata": {
    "execution": {
     "iopub.execute_input": "2022-08-21T18:10:59.879462Z",
     "iopub.status.busy": "2022-08-21T18:10:59.878903Z",
     "iopub.status.idle": "2022-08-21T18:10:59.893651Z",
     "shell.execute_reply": "2022-08-21T18:10:59.892948Z"
    },
    "scrolled": true
   },
   "outputs": [
    {
     "data": {
      "text/html": [
       "<div>\n",
       "<style scoped>\n",
       "    .dataframe tbody tr th:only-of-type {\n",
       "        vertical-align: middle;\n",
       "    }\n",
       "\n",
       "    .dataframe tbody tr th {\n",
       "        vertical-align: top;\n",
       "    }\n",
       "\n",
       "    .dataframe thead th {\n",
       "        text-align: right;\n",
       "    }\n",
       "</style>\n",
       "<table border=\"1\" class=\"dataframe\">\n",
       "  <thead>\n",
       "    <tr style=\"text-align: right;\">\n",
       "      <th></th>\n",
       "      <th>W0</th>\n",
       "      <th>v0</th>\n",
       "      <th>y</th>\n",
       "      <th>propensity_score</th>\n",
       "      <th>weight</th>\n",
       "    </tr>\n",
       "  </thead>\n",
       "  <tbody>\n",
       "    <tr>\n",
       "      <th>0</th>\n",
       "      <td>0.079077</td>\n",
       "      <td>False</td>\n",
       "      <td>0.164130</td>\n",
       "      <td>0.480166</td>\n",
       "      <td>2.082613</td>\n",
       "    </tr>\n",
       "    <tr>\n",
       "      <th>1</th>\n",
       "      <td>0.437206</td>\n",
       "      <td>False</td>\n",
       "      <td>0.342976</td>\n",
       "      <td>0.393292</td>\n",
       "      <td>2.542640</td>\n",
       "    </tr>\n",
       "    <tr>\n",
       "      <th>2</th>\n",
       "      <td>-1.277452</td>\n",
       "      <td>False</td>\n",
       "      <td>-2.462783</td>\n",
       "      <td>0.779363</td>\n",
       "      <td>1.283099</td>\n",
       "    </tr>\n",
       "    <tr>\n",
       "      <th>3</th>\n",
       "      <td>-1.335501</td>\n",
       "      <td>False</td>\n",
       "      <td>-3.173001</td>\n",
       "      <td>0.789075</td>\n",
       "      <td>1.267307</td>\n",
       "    </tr>\n",
       "    <tr>\n",
       "      <th>4</th>\n",
       "      <td>-1.758699</td>\n",
       "      <td>False</td>\n",
       "      <td>-4.021069</td>\n",
       "      <td>0.850409</td>\n",
       "      <td>1.175904</td>\n",
       "    </tr>\n",
       "    <tr>\n",
       "      <th>...</th>\n",
       "      <td>...</td>\n",
       "      <td>...</td>\n",
       "      <td>...</td>\n",
       "      <td>...</td>\n",
       "      <td>...</td>\n",
       "    </tr>\n",
       "    <tr>\n",
       "      <th>995</th>\n",
       "      <td>0.539760</td>\n",
       "      <td>False</td>\n",
       "      <td>0.489663</td>\n",
       "      <td>0.369375</td>\n",
       "      <td>2.707279</td>\n",
       "    </tr>\n",
       "    <tr>\n",
       "      <th>996</th>\n",
       "      <td>-2.055852</td>\n",
       "      <td>False</td>\n",
       "      <td>-6.091712</td>\n",
       "      <td>0.884079</td>\n",
       "      <td>1.131120</td>\n",
       "    </tr>\n",
       "    <tr>\n",
       "      <th>997</th>\n",
       "      <td>-2.052948</td>\n",
       "      <td>False</td>\n",
       "      <td>-5.780659</td>\n",
       "      <td>0.883785</td>\n",
       "      <td>1.131497</td>\n",
       "    </tr>\n",
       "    <tr>\n",
       "      <th>998</th>\n",
       "      <td>-1.599037</td>\n",
       "      <td>False</td>\n",
       "      <td>-5.910928</td>\n",
       "      <td>0.829196</td>\n",
       "      <td>1.205987</td>\n",
       "    </tr>\n",
       "    <tr>\n",
       "      <th>999</th>\n",
       "      <td>-2.043459</td>\n",
       "      <td>False</td>\n",
       "      <td>-5.096356</td>\n",
       "      <td>0.882817</td>\n",
       "      <td>1.132737</td>\n",
       "    </tr>\n",
       "  </tbody>\n",
       "</table>\n",
       "<p>1000 rows × 5 columns</p>\n",
       "</div>"
      ],
      "text/plain": [
       "           W0     v0         y  propensity_score    weight\n",
       "0    0.079077  False  0.164130          0.480166  2.082613\n",
       "1    0.437206  False  0.342976          0.393292  2.542640\n",
       "2   -1.277452  False -2.462783          0.779363  1.283099\n",
       "3   -1.335501  False -3.173001          0.789075  1.267307\n",
       "4   -1.758699  False -4.021069          0.850409  1.175904\n",
       "..        ...    ...       ...               ...       ...\n",
       "995  0.539760  False  0.489663          0.369375  2.707279\n",
       "996 -2.055852  False -6.091712          0.884079  1.131120\n",
       "997 -2.052948  False -5.780659          0.883785  1.131497\n",
       "998 -1.599037  False -5.910928          0.829196  1.205987\n",
       "999 -2.043459  False -5.096356          0.882817  1.132737\n",
       "\n",
       "[1000 rows x 5 columns]"
      ]
     },
     "execution_count": 6,
     "metadata": {},
     "output_type": "execute_result"
    }
   ],
   "source": [
    "cdf_0"
   ]
  },
  {
   "cell_type": "code",
   "execution_count": 7,
   "metadata": {
    "execution": {
     "iopub.execute_input": "2022-08-21T18:10:59.897119Z",
     "iopub.status.busy": "2022-08-21T18:10:59.896481Z",
     "iopub.status.idle": "2022-08-21T18:10:59.909292Z",
     "shell.execute_reply": "2022-08-21T18:10:59.908653Z"
    }
   },
   "outputs": [
    {
     "data": {
      "text/html": [
       "<div>\n",
       "<style scoped>\n",
       "    .dataframe tbody tr th:only-of-type {\n",
       "        vertical-align: middle;\n",
       "    }\n",
       "\n",
       "    .dataframe tbody tr th {\n",
       "        vertical-align: top;\n",
       "    }\n",
       "\n",
       "    .dataframe thead th {\n",
       "        text-align: right;\n",
       "    }\n",
       "</style>\n",
       "<table border=\"1\" class=\"dataframe\">\n",
       "  <thead>\n",
       "    <tr style=\"text-align: right;\">\n",
       "      <th></th>\n",
       "      <th>W0</th>\n",
       "      <th>v0</th>\n",
       "      <th>y</th>\n",
       "      <th>propensity_score</th>\n",
       "      <th>weight</th>\n",
       "    </tr>\n",
       "  </thead>\n",
       "  <tbody>\n",
       "    <tr>\n",
       "      <th>0</th>\n",
       "      <td>-0.767763</td>\n",
       "      <td>True</td>\n",
       "      <td>2.778000</td>\n",
       "      <td>0.319085</td>\n",
       "      <td>3.133956</td>\n",
       "    </tr>\n",
       "    <tr>\n",
       "      <th>1</th>\n",
       "      <td>1.366785</td>\n",
       "      <td>True</td>\n",
       "      <td>9.362889</td>\n",
       "      <td>0.794565</td>\n",
       "      <td>1.258551</td>\n",
       "    </tr>\n",
       "    <tr>\n",
       "      <th>2</th>\n",
       "      <td>-1.981854</td>\n",
       "      <td>True</td>\n",
       "      <td>-0.248719</td>\n",
       "      <td>0.123633</td>\n",
       "      <td>8.088479</td>\n",
       "    </tr>\n",
       "    <tr>\n",
       "      <th>3</th>\n",
       "      <td>0.938956</td>\n",
       "      <td>True</td>\n",
       "      <td>9.107511</td>\n",
       "      <td>0.717000</td>\n",
       "      <td>1.394701</td>\n",
       "    </tr>\n",
       "    <tr>\n",
       "      <th>4</th>\n",
       "      <td>-2.400682</td>\n",
       "      <td>True</td>\n",
       "      <td>-1.571676</td>\n",
       "      <td>0.085286</td>\n",
       "      <td>11.725322</td>\n",
       "    </tr>\n",
       "    <tr>\n",
       "      <th>...</th>\n",
       "      <td>...</td>\n",
       "      <td>...</td>\n",
       "      <td>...</td>\n",
       "      <td>...</td>\n",
       "      <td>...</td>\n",
       "    </tr>\n",
       "    <tr>\n",
       "      <th>995</th>\n",
       "      <td>-0.637475</td>\n",
       "      <td>True</td>\n",
       "      <td>2.424873</td>\n",
       "      <td>0.347704</td>\n",
       "      <td>2.876013</td>\n",
       "    </tr>\n",
       "    <tr>\n",
       "      <th>996</th>\n",
       "      <td>-0.021765</td>\n",
       "      <td>True</td>\n",
       "      <td>4.370359</td>\n",
       "      <td>0.494917</td>\n",
       "      <td>2.020543</td>\n",
       "    </tr>\n",
       "    <tr>\n",
       "      <th>997</th>\n",
       "      <td>-2.054378</td>\n",
       "      <td>True</td>\n",
       "      <td>-0.514970</td>\n",
       "      <td>0.116070</td>\n",
       "      <td>8.615477</td>\n",
       "    </tr>\n",
       "    <tr>\n",
       "      <th>998</th>\n",
       "      <td>-0.093198</td>\n",
       "      <td>True</td>\n",
       "      <td>4.595465</td>\n",
       "      <td>0.477274</td>\n",
       "      <td>2.095234</td>\n",
       "    </tr>\n",
       "    <tr>\n",
       "      <th>999</th>\n",
       "      <td>-0.516800</td>\n",
       "      <td>True</td>\n",
       "      <td>3.198517</td>\n",
       "      <td>0.375234</td>\n",
       "      <td>2.665000</td>\n",
       "    </tr>\n",
       "  </tbody>\n",
       "</table>\n",
       "<p>1000 rows × 5 columns</p>\n",
       "</div>"
      ],
      "text/plain": [
       "           W0    v0         y  propensity_score     weight\n",
       "0   -0.767763  True  2.778000          0.319085   3.133956\n",
       "1    1.366785  True  9.362889          0.794565   1.258551\n",
       "2   -1.981854  True -0.248719          0.123633   8.088479\n",
       "3    0.938956  True  9.107511          0.717000   1.394701\n",
       "4   -2.400682  True -1.571676          0.085286  11.725322\n",
       "..        ...   ...       ...               ...        ...\n",
       "995 -0.637475  True  2.424873          0.347704   2.876013\n",
       "996 -0.021765  True  4.370359          0.494917   2.020543\n",
       "997 -2.054378  True -0.514970          0.116070   8.615477\n",
       "998 -0.093198  True  4.595465          0.477274   2.095234\n",
       "999 -0.516800  True  3.198517          0.375234   2.665000\n",
       "\n",
       "[1000 rows x 5 columns]"
      ]
     },
     "execution_count": 7,
     "metadata": {},
     "output_type": "execute_result"
    }
   ],
   "source": [
    "cdf_1"
   ]
  },
  {
   "cell_type": "markdown",
   "metadata": {},
   "source": [
    "## Comparing the estimate to Linear Regression\n",
    "First, estimating the effect using the causal data frame, and the 95% confidence interval."
   ]
  },
  {
   "cell_type": "code",
   "execution_count": 8,
   "metadata": {
    "execution": {
     "iopub.execute_input": "2022-08-21T18:10:59.913120Z",
     "iopub.status.busy": "2022-08-21T18:10:59.912526Z",
     "iopub.status.idle": "2022-08-21T18:11:00.037263Z",
     "shell.execute_reply": "2022-08-21T18:11:00.036353Z"
    }
   },
   "outputs": [
    {
     "data": {
      "image/png": "[encoded data removed]",
      "text/latex": [
       "$\\displaystyle 5.06384923755585$"
      ],
      "text/plain": [
       "5.063849237555851"
      ]
     },
     "execution_count": 8,
     "metadata": {},
     "output_type": "execute_result"
    }
   ],
   "source": [
    "(cdf_1['y'] - cdf_0['y']).mean()"
   ]
  },
  {
   "cell_type": "code",
   "execution_count": 9,
   "metadata": {
    "execution": {
     "iopub.execute_input": "2022-08-21T18:11:00.041366Z",
     "iopub.status.busy": "2022-08-21T18:11:00.040645Z",
     "iopub.status.idle": "2022-08-21T18:11:00.074242Z",
     "shell.execute_reply": "2022-08-21T18:11:00.073304Z"
    }
   },
   "outputs": [
    {
     "data": {
      "image/png": "[encoded data removed]",
      "text/latex": [
       "$\\displaystyle 0.242317924603668$"
      ],
      "text/plain": [
       "0.24231792460366833"
      ]
     },
     "execution_count": 9,
     "metadata": {},
     "output_type": "execute_result"
    }
   ],
   "source": [
    "1.96*(cdf_1['y'] - cdf_0['y']).std() / np.sqrt(len(df))"
   ]
  },
  {
   "cell_type": "markdown",
   "metadata": {},
   "source": [
    "Comparing to the estimate from OLS."
   ]
  },
  {
   "cell_type": "code",
   "execution_count": 10,
   "metadata": {
    "execution": {
     "iopub.execute_input": "2022-08-21T18:11:00.078389Z",
     "iopub.status.busy": "2022-08-21T18:11:00.077581Z",
     "iopub.status.idle": "2022-08-21T18:11:00.099159Z",
     "shell.execute_reply": "2022-08-21T18:11:00.098371Z"
    }
   },
   "outputs": [
    {
     "data": {
      "text/html": [
       "<table class=\"simpletable\">\n",
       "<caption>OLS Regression Results</caption>\n",
       "<tr>\n",
       "  <th>Dep. Variable:</th>            <td>y</td>        <th>  R-squared (uncentered):</th>      <td>   0.949</td>\n",
       "</tr>\n",
       "<tr>\n",
       "  <th>Model:</th>                   <td>OLS</td>       <th>  Adj. R-squared (uncentered):</th> <td>   0.949</td>\n",
       "</tr>\n",
       "<tr>\n",
       "  <th>Method:</th>             <td>Least Squares</td>  <th>  F-statistic:       </th>          <td>   9295.</td>\n",
       "</tr>\n",
       "<tr>\n",
       "  <th>Date:</th>             <td>Sun, 21 Aug 2022</td> <th>  Prob (F-statistic):</th>           <td>  0.00</td> \n",
       "</tr>\n",
       "<tr>\n",
       "  <th>Time:</th>                 <td>18:11:00</td>     <th>  Log-Likelihood:    </th>          <td> -1417.4</td>\n",
       "</tr>\n",
       "<tr>\n",
       "  <th>No. Observations:</th>      <td>  1000</td>      <th>  AIC:               </th>          <td>   2839.</td>\n",
       "</tr>\n",
       "<tr>\n",
       "  <th>Df Residuals:</th>          <td>   998</td>      <th>  BIC:               </th>          <td>   2849.</td>\n",
       "</tr>\n",
       "<tr>\n",
       "  <th>Df Model:</th>              <td>     2</td>      <th>                     </th>              <td> </td>   \n",
       "</tr>\n",
       "<tr>\n",
       "  <th>Covariance Type:</th>      <td>nonrobust</td>    <th>                     </th>              <td> </td>   \n",
       "</tr>\n",
       "</table>\n",
       "<table class=\"simpletable\">\n",
       "<tr>\n",
       "   <td></td>     <th>coef</th>     <th>std err</th>      <th>t</th>      <th>P>|t|</th>  <th>[0.025</th>    <th>0.975]</th>  \n",
       "</tr>\n",
       "<tr>\n",
       "  <th>x1</th> <td>    2.5859</td> <td>    0.022</td> <td>  116.215</td> <td> 0.000</td> <td>    2.542</td> <td>    2.630</td>\n",
       "</tr>\n",
       "<tr>\n",
       "  <th>x2</th> <td>    5.0869</td> <td>    0.058</td> <td>   87.757</td> <td> 0.000</td> <td>    4.973</td> <td>    5.201</td>\n",
       "</tr>\n",
       "</table>\n",
       "<table class=\"simpletable\">\n",
       "<tr>\n",
       "  <th>Omnibus:</th>       <td> 0.044</td> <th>  Durbin-Watson:     </th> <td>   1.975</td>\n",
       "</tr>\n",
       "<tr>\n",
       "  <th>Prob(Omnibus):</th> <td> 0.978</td> <th>  Jarque-Bera (JB):  </th> <td>   0.023</td>\n",
       "</tr>\n",
       "<tr>\n",
       "  <th>Skew:</th>          <td> 0.011</td> <th>  Prob(JB):          </th> <td>   0.989</td>\n",
       "</tr>\n",
       "<tr>\n",
       "  <th>Kurtosis:</th>      <td> 3.005</td> <th>  Cond. No.          </th> <td>    2.64</td>\n",
       "</tr>\n",
       "</table><br/><br/>Notes:<br/>[1] R² is computed without centering (uncentered) since the model does not contain a constant.<br/>[2] Standard Errors assume that the covariance matrix of the errors is correctly specified."
      ],
      "text/plain": [
       "<class 'statsmodels.iolib.summary.Summary'>\n",
       "\"\"\"\n",
       "                                 OLS Regression Results                                \n",
       "=======================================================================================\n",
       "Dep. Variable:                      y   R-squared (uncentered):                   0.949\n",
       "Model:                            OLS   Adj. R-squared (uncentered):              0.949\n",
       "Method:                 Least Squares   F-statistic:                              9295.\n",
       "Date:                Sun, 21 Aug 2022   Prob (F-statistic):                        0.00\n",
       "Time:                        18:11:00   Log-Likelihood:                         -1417.4\n",
       "No. Observations:                1000   AIC:                                      2839.\n",
       "Df Residuals:                     998   BIC:                                      2849.\n",
       "Df Model:                           2                                                  \n",
       "Covariance Type:            nonrobust                                                  \n",
       "==============================================================================\n",
       "                 coef    std err          t      P>|t|      [0.025      0.975]\n",
       "------------------------------------------------------------------------------\n",
       "x1             2.5859      0.022    116.215      0.000       2.542       2.630\n",
       "x2             5.0869      0.058     87.757      0.000       4.973       5.201\n",
       "==============================================================================\n",
       "Omnibus:                        0.044   Durbin-Watson:                   1.975\n",
       "Prob(Omnibus):                  0.978   Jarque-Bera (JB):                0.023\n",
       "Skew:                           0.011   Prob(JB):                        0.989\n",
       "Kurtosis:                       3.005   Cond. No.                         2.64\n",
       "==============================================================================\n",
       "\n",
       "Notes:\n",
       "[1] R² is computed without centering (uncentered) since the model does not contain a constant.\n",
       "[2] Standard Errors assume that the covariance matrix of the errors is correctly specified.\n",
       "\"\"\""
      ]
     },
     "execution_count": 10,
     "metadata": {},
     "output_type": "execute_result"
    }
   ],
   "source": [
    "model = OLS(np.asarray(df[outcome]), np.asarray(df[[common_cause, treatment]], dtype=np.float64))\n",
    "result = model.fit()\n",
    "result.summary()"
   ]
  }
 ],
 "metadata": {
  "kernelspec": {
   "display_name": "Python 3",
   "language": "python",
   "name": "python3"
  },
  "language_info": {
   "codemirror_mode": {
    "name": "ipython",
    "version": 3
   },
   "file_extension": ".py",
   "mimetype": "text/x-python",
   "name": "python",
   "nbconvert_exporter": "python",
   "pygments_lexer": "ipython3",
   "version": "3.8.10"
  },
  "toc": {
   "base_numbering": 1,
   "nav_menu": {},
   "number_sections": false,
   "sideBar": true,
   "skip_h1_title": true,
   "title_cell": "Table of Contents",
   "title_sidebar": "Contents",
   "toc_cell": false,
   "toc_position": {},
   "toc_section_display": true,
   "toc_window_display": false
  }
 },
 "nbformat": 4,
 "nbformat_minor": 4
}
